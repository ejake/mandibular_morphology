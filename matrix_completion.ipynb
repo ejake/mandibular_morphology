{
 "cells": [
  {
   "cell_type": "markdown",
   "metadata": {},
   "source": [
    "# Mandibular Morphology Prediction Using Matrix Completion"
   ]
  },
  {
   "cell_type": "markdown",
   "metadata": {},
   "source": [
    "Problem is formulated as a matrix completion problem. From a list of $M$ landmarks, identified in rx images from $N$ subjects, we compute a matrix $ML$ which contains all the lines formed between each pair of landmarks for each subjet. In the same way, we calculate a matrix $MA$ which contains all the angles shaped between all the posible lines.\n",
    "\n",
    "Two approaches have been addressed, the first one deal with the matrix factorization problem over only one matrix $MLA = ML|MA$ ($|$ is a concatenation operator). While the second performs the matrix factorization separately over the matrix $ML$ and $MA$\n",
    "\n",
    "\n",
    "## Outline\n",
    "\n",
    "<ol>\n",
    "<li>Matrix Factorization</li>\n",
    "<ol>\n",
    "<li>Normalization or standarization</li>\n",
    "<li>PCA</li>\n",
    "<li>Other dimensionality reduction techniques</li>\n",
    "<li>Balanced</li>\n",
    "</ol>\n",
    "<li>Classification</li>\n",
    "</ol>"
   ]
  },
  {
   "cell_type": "code",
   "execution_count": 1,
   "metadata": {
    "collapsed": true
   },
   "outputs": [],
   "source": [
    "import numpy as np\n",
    "import preprocessing\n",
    "import matrix_completion\n",
    "import matplotlib.pyplot as plt\n",
    "%matplotlib inline"
   ]
  },
  {
   "cell_type": "markdown",
   "metadata": {},
   "source": [
    "## Matrix Factorization - MLA"
   ]
  },
  {
   "cell_type": "code",
   "execution_count": 2,
   "metadata": {
    "collapsed": true
   },
   "outputs": [],
   "source": [
    "#parameters selected\n",
    "rank = 110"
   ]
  },
  {
   "cell_type": "code",
   "execution_count": null,
   "metadata": {
    "collapsed": true
   },
   "outputs": [],
   "source": []
  }
 ],
 "metadata": {
  "kernelspec": {
   "display_name": "Python 2.7 (Completion)",
   "language": "python",
   "name": "completion"
  },
  "language_info": {
   "codemirror_mode": {
    "name": "ipython",
    "version": 2
   },
   "file_extension": ".py",
   "mimetype": "text/x-python",
   "name": "python",
   "nbconvert_exporter": "python",
   "pygments_lexer": "ipython2",
   "version": "2.7.14"
  }
 },
 "nbformat": 4,
 "nbformat_minor": 1
}
