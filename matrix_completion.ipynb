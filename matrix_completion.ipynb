{
 "cells": [
  {
   "cell_type": "markdown",
   "metadata": {},
   "source": [
    "# Mandibular Morphology Prediction Using Matrix Completion"
   ]
  },
  {
   "cell_type": "markdown",
   "metadata": {},
   "source": [
    "## Split dataset for training and test"
   ]
  },
  {
   "cell_type": "code",
   "execution_count": 1,
   "metadata": {
    "collapsed": true
   },
   "outputs": [],
   "source": [
    "import numpy as np\n",
    "#from sklearn.cross_validation import train_test_split\n",
    "from sklearn.model_selection import train_test_split\n",
    "from numpy import genfromtxt"
   ]
  },
  {
   "cell_type": "code",
   "execution_count": 9,
   "metadata": {
    "collapsed": true
   },
   "outputs": [],
   "source": [
    "import matplotlib.pyplot as plt\n",
    "%matplotlib inline"
   ]
  },
  {
   "cell_type": "code",
   "execution_count": 2,
   "metadata": {
    "collapsed": true
   },
   "outputs": [],
   "source": [
    "#load perfil data\n",
    "perfil_lines = genfromtxt('../data/Perfil_Lines.csv', delimiter=',')\n",
    "perfil_angles = genfromtxt('../data/Perfil_Angles.csv', delimiter=',')"
   ]
  },
  {
   "cell_type": "markdown",
   "metadata": {},
   "source": [
    "Import labels of classification"
   ]
  },
  {
   "cell_type": "code",
   "execution_count": 3,
   "metadata": {
    "collapsed": true
   },
   "outputs": [],
   "source": [
    "perfil_class = genfromtxt('../data/Perfil_class.csv', delimiter=',',skip_header=1)"
   ]
  },
  {
   "cell_type": "code",
   "execution_count": 4,
   "metadata": {},
   "outputs": [
    {
     "name": "stdout",
     "output_type": "stream",
     "text": [
      "Lines: (229, 301)\n",
      "Angles: (229, 6901)\n",
      "Classes: (229,)\n"
     ]
    }
   ],
   "source": [
    "print 'Lines:', perfil_lines.shape\n",
    "print 'Angles:', perfil_angles.shape\n",
    "print 'Classes:', perfil_class.shape"
   ]
  },
  {
   "cell_type": "code",
   "execution_count": 14,
   "metadata": {},
   "outputs": [
    {
     "data": {
      "text/plain": [
       "47"
      ]
     },
     "execution_count": 14,
     "metadata": {},
     "output_type": "execute_result"
    }
   ],
   "source": [
    "len(perfil_class[perfil_class==1])"
   ]
  },
  {
   "cell_type": "code",
   "execution_count": 17,
   "metadata": {},
   "outputs": [
    {
     "name": "stdout",
     "output_type": "stream",
     "text": [
      "[47, 22, 160]\n"
     ]
    },
    {
     "data": {
      "image/png": "[encoded data removed]",
      "text/plain": [
       "<matplotlib.figure.Figure at 0x7fc04481cbd0>"
      ]
     },
     "metadata": {},
     "output_type": "display_data"
    }
   ],
   "source": [
    "freq_classes = [len(perfil_class[perfil_class==1]), len(perfil_class[perfil_class==2]), len(perfil_class[perfil_class==3])]\n",
    "plt.bar(range(1,4), freq_classes)\n",
    "print freq_classes"
   ]
  },
  {
   "cell_type": "code",
   "execution_count": 19,
   "metadata": {},
   "outputs": [
    {
     "name": "stdout",
     "output_type": "stream",
     "text": [
      "\n"
     ]
    }
   ],
   "source": [
    "perfil_all = np.concatenate((perfil_lines[:,1:], perfil_angles[:,1:]), axis=1)"
   ]
  },
  {
   "cell_type": "code",
   "execution_count": 20,
   "metadata": {},
   "outputs": [
    {
     "name": "stdout",
     "output_type": "stream",
     "text": [
      "Lines+Angles: (229, 7200)\n"
     ]
    }
   ],
   "source": [
    "print 'Lines+Angles:', perfil_all.shape"
   ]
  },
  {
   "cell_type": "code",
   "execution_count": 15,
   "metadata": {
    "collapsed": true
   },
   "outputs": [],
   "source": [
    "X_train, X_test, y_train, y_test = train_test_split(perfil_all, perfil_class, test_size=0.3, random_state=42)"
   ]
  },
  {
   "cell_type": "code",
   "execution_count": 16,
   "metadata": {},
   "outputs": [
    {
     "name": "stdout",
     "output_type": "stream",
     "text": [
      "(160, 7200) (69, 7200) (160,) (69,)\n"
     ]
    }
   ],
   "source": [
    "print X_train.shape, X_test.shape, y_train.shape, y_test.shape"
   ]
  },
  {
   "cell_type": "markdown",
   "metadata": {
    "collapsed": true
   },
   "source": [
    "### Compute missing values (mandibular measures)"
   ]
  },
  {
   "cell_type": "code",
   "execution_count": 17,
   "metadata": {
    "collapsed": true
   },
   "outputs": [],
   "source": [
    "perfil_lines_mandibular_measures = genfromtxt('../data/Perfil_Lines_type.csv', delimiter=',')\n",
    "perfil_angles_mandibular_measures = genfromtxt('../data/Perfil_Angles_type.csv', delimiter=',')"
   ]
  },
  {
   "cell_type": "code",
   "execution_count": 18,
   "metadata": {},
   "outputs": [
    {
     "name": "stdout",
     "output_type": "stream",
     "text": [
      "(301,) (6901,)\n"
     ]
    }
   ],
   "source": [
    "print perfil_lines_mandibular_measures.shape, perfil_angles_mandibular_measures.shape"
   ]
  },
  {
   "cell_type": "code",
   "execution_count": 19,
   "metadata": {},
   "outputs": [
    {
     "name": "stderr",
     "output_type": "stream",
     "text": [
      "/home/ajaque/anaconda2/envs/completion/lib/python2.7/site-packages/ipykernel_launcher.py:5: RuntimeWarning: invalid value encountered in greater\n",
      "  \"\"\"\n"
     ]
    }
   ],
   "source": [
    "# -1 if the measure includes a mandibular landmark, 0 otherwise\n",
    "perfil_lines_mask_mandibular_measures = perfil_lines_mandibular_measures[1:]\n",
    "perfil_angles_mask_mandibular_measures = perfil_angles_mandibular_measures[1:]\n",
    "perfil_lines_mask_mandibular_measures[perfil_lines_mask_mandibular_measures > 0]=-1\n",
    "perfil_angles_mask_mandibular_measures[perfil_angles_mask_mandibular_measures > 0]=-1\n",
    "perfil_all_mask_mandibular_measures = np.concatenate((perfil_lines_mask_mandibular_measures, \\\n",
    "                                                      perfil_angles_mask_mandibular_measures))"
   ]
  },
  {
   "cell_type": "code",
   "execution_count": 20,
   "metadata": {},
   "outputs": [
    {
     "name": "stdout",
     "output_type": "stream",
     "text": [
      "(300,) (6900,) (7200,)\n"
     ]
    }
   ],
   "source": [
    "print perfil_lines_mask_mandibular_measures.shape, perfil_angles_mask_mandibular_measures.shape, \\\n",
    "perfil_all_mask_mandibular_measures.shape"
   ]
  },
  {
   "cell_type": "code",
   "execution_count": 21,
   "metadata": {},
   "outputs": [
    {
     "data": {
      "text/plain": [
       "-136.0"
      ]
     },
     "execution_count": 21,
     "metadata": {},
     "output_type": "execute_result"
    }
   ],
   "source": [
    "perfil_lines_mask_mandibular_measures.sum()"
   ]
  },
  {
   "cell_type": "raw",
   "metadata": {
    "collapsed": true
   },
   "source": [
    "# 1 if the measure includes a mandibular landmark, 0 otherwise\n",
    "perfil_lines_mask_mandibular_measures[perfil_lines_mask_mandibular_measures == 0] = 1\n",
    "perfil_lines_mask_mandibular_measures[perfil_lines_mask_mandibular_measures == -1] = 0"
   ]
  },
  {
   "cell_type": "code",
   "execution_count": 22,
   "metadata": {
    "collapsed": true
   },
   "outputs": [],
   "source": [
    "# 0 if the measure includes a mandibular landmark, 1 otherwise\n",
    "perfil_angles_mask_mandibular_measures[perfil_angles_mask_mandibular_measures == 0] = 1\n",
    "perfil_angles_mask_mandibular_measures[perfil_angles_mask_mandibular_measures == -1] = 0"
   ]
  },
  {
   "cell_type": "code",
   "execution_count": 23,
   "metadata": {
    "collapsed": true
   },
   "outputs": [],
   "source": [
    "perfil_all_mask_mandibular_measures = np.concatenate((perfil_lines_mask_mandibular_measures, \\\n",
    "                                                      perfil_angles_mask_mandibular_measures))"
   ]
  },
  {
   "cell_type": "code",
   "execution_count": 24,
   "metadata": {},
   "outputs": [
    {
     "name": "stdout",
     "output_type": "stream",
     "text": [
      "(69, 7200) (7200,)\n"
     ]
    }
   ],
   "source": [
    "print X_test.shape, perfil_all_mask_mandibular_measures.shape"
   ]
  },
  {
   "cell_type": "markdown",
   "metadata": {},
   "source": [
    "## Matrix completion\n",
    "Using fancyimpute methods "
   ]
  },
  {
   "cell_type": "markdown",
   "metadata": {
    "collapsed": true
   },
   "source": [
    "### Preprocessing"
   ]
  },
  {
   "cell_type": "code",
   "execution_count": 21,
   "metadata": {
    "collapsed": true
   },
   "outputs": [],
   "source": [
    "# NaN if the measure includes a mandibular landmark, 1 otherwise\n",
    "perfil_all_mask_mandibular_measures[perfil_all_mask_mandibular_measures == 0] = np.nan"
   ]
  },
  {
   "cell_type": "code",
   "execution_count": 22,
   "metadata": {
    "collapsed": true
   },
   "outputs": [],
   "source": [
    "X_test_masked = X_test*perfil_all_mask_mandibular_measures"
   ]
  },
  {
   "cell_type": "code",
   "execution_count": 23,
   "metadata": {},
   "outputs": [
    {
     "name": "stdout",
     "output_type": "stream",
     "text": [
      "(160, 7200) (69, 7200)\n"
     ]
    }
   ],
   "source": [
    "print X_train.shape, X_test_masked.shape"
   ]
  },
  {
   "cell_type": "code",
   "execution_count": 24,
   "metadata": {},
   "outputs": [
    {
     "name": "stdout",
     "output_type": "stream",
     "text": [
      "(229, 7200)\n"
     ]
    }
   ],
   "source": [
    "#Merge test and train\n",
    "X_incomplete = np.concatenate((X_train,X_test_masked))\n",
    "print X_incomplete.shape"
   ]
  },
  {
   "cell_type": "code",
   "execution_count": 25,
   "metadata": {
    "collapsed": true
   },
   "outputs": [],
   "source": [
    "from fancyimpute import BiScaler, KNN, NuclearNormMinimization, SoftImpute, IterativeSVD, MatrixFactorization"
   ]
  },
  {
   "cell_type": "code",
   "execution_count": 26,
   "metadata": {},
   "outputs": [
    {
     "name": "stdout",
     "output_type": "stream",
     "text": [
      "Imputing row 1/229 with 0 missing, elapsed time: 2.180\n",
      "Imputing row 101/229 with 0 missing, elapsed time: 2.869\n",
      "Imputing row 201/229 with 5500 missing, elapsed time: 4.424\n"
     ]
    }
   ],
   "source": [
    "# Use 3 nearest rows which have a feature to fill in each row's missing features\n",
    "X_filled_knn = KNN(k=3).complete(X_incomplete)"
   ]
  },
  {
   "cell_type": "code",
   "execution_count": 27,
   "metadata": {
    "scrolled": true
   },
   "outputs": [
    {
     "name": "stdout",
     "output_type": "stream",
     "text": [
      "[SoftImpute] Max Singular Value of X_init = 118866.135949\n",
      "[SoftImpute] Iter 1: observed MAE=1.047141 rank=4\n",
      "[SoftImpute] Iter 2: observed MAE=1.046958 rank=4\n",
      "[SoftImpute] Iter 3: observed MAE=1.047482 rank=4\n",
      "[SoftImpute] Iter 4: observed MAE=1.048097 rank=4\n",
      "[SoftImpute] Iter 5: observed MAE=1.048736 rank=4\n",
      "[SoftImpute] Iter 6: observed MAE=1.049385 rank=4\n",
      "[SoftImpute] Iter 7: observed MAE=1.050046 rank=4\n",
      "[SoftImpute] Iter 8: observed MAE=1.050719 rank=4\n",
      "[SoftImpute] Iter 9: observed MAE=1.051405 rank=4\n",
      "[SoftImpute] Iter 10: observed MAE=1.052107 rank=4\n",
      "[SoftImpute] Iter 11: observed MAE=1.052827 rank=4\n",
      "[SoftImpute] Iter 12: observed MAE=1.053566 rank=4\n",
      "[SoftImpute] Iter 13: observed MAE=1.054327 rank=4\n",
      "[SoftImpute] Iter 14: observed MAE=1.055112 rank=4\n",
      "[SoftImpute] Iter 15: observed MAE=1.055925 rank=4\n",
      "[SoftImpute] Iter 16: observed MAE=1.056768 rank=4\n",
      "[SoftImpute] Iter 17: observed MAE=1.057646 rank=4\n",
      "[SoftImpute] Iter 18: observed MAE=1.058562 rank=4\n",
      "[SoftImpute] Iter 19: observed MAE=1.059519 rank=4\n",
      "[SoftImpute] Iter 20: observed MAE=1.060524 rank=4\n",
      "[SoftImpute] Iter 21: observed MAE=1.061581 rank=4\n",
      "[SoftImpute] Iter 22: observed MAE=1.062695 rank=4\n",
      "[SoftImpute] Iter 23: observed MAE=1.063873 rank=4\n",
      "[SoftImpute] Iter 24: observed MAE=1.065123 rank=4\n",
      "[SoftImpute] Iter 25: observed MAE=1.066452 rank=4\n",
      "[SoftImpute] Iter 26: observed MAE=1.067870 rank=4\n",
      "[SoftImpute] Iter 27: observed MAE=1.069388 rank=4\n",
      "[SoftImpute] Iter 28: observed MAE=1.071018 rank=4\n",
      "[SoftImpute] Iter 29: observed MAE=1.072774 rank=4\n",
      "[SoftImpute] Iter 30: observed MAE=1.074675 rank=4\n",
      "[SoftImpute] Iter 31: observed MAE=1.076738 rank=4\n",
      "[SoftImpute] Iter 32: observed MAE=1.078985 rank=4\n",
      "[SoftImpute] Iter 33: observed MAE=1.081444 rank=4\n",
      "[SoftImpute] Iter 34: observed MAE=1.084148 rank=4\n",
      "[SoftImpute] Iter 35: observed MAE=1.087134 rank=4\n",
      "[SoftImpute] Iter 36: observed MAE=1.090446 rank=4\n",
      "[SoftImpute] Iter 37: observed MAE=1.094145 rank=4\n",
      "[SoftImpute] Iter 38: observed MAE=1.098303 rank=4\n",
      "[SoftImpute] Iter 39: observed MAE=1.102995 rank=4\n",
      "[SoftImpute] Iter 40: observed MAE=1.108324 rank=4\n",
      "[SoftImpute] Iter 41: observed MAE=1.114409 rank=4\n",
      "[SoftImpute] Iter 42: observed MAE=1.121390 rank=4\n",
      "[SoftImpute] Iter 43: observed MAE=1.129418 rank=4\n",
      "[SoftImpute] Iter 44: observed MAE=1.138639 rank=4\n",
      "[SoftImpute] Iter 45: observed MAE=1.149119 rank=4\n",
      "[SoftImpute] Iter 46: observed MAE=1.160692 rank=4\n",
      "[SoftImpute] Iter 47: observed MAE=1.172454 rank=4\n",
      "[SoftImpute] Iter 48: observed MAE=1.181873 rank=4\n",
      "[SoftImpute] Iter 49: observed MAE=1.184293 rank=3\n",
      "[SoftImpute] Iter 50: observed MAE=1.181499 rank=3\n",
      "[SoftImpute] Iter 51: observed MAE=1.178868 rank=3\n",
      "[SoftImpute] Iter 52: observed MAE=1.176854 rank=3\n",
      "[SoftImpute] Iter 53: observed MAE=1.175450 rank=3\n",
      "[SoftImpute] Iter 54: observed MAE=1.174510 rank=3\n",
      "[SoftImpute] Iter 55: observed MAE=1.173894 rank=3\n",
      "[SoftImpute] Stopped after iteration 55 for lambda=2377.322719\n"
     ]
    }
   ],
   "source": [
    "# Instead of solving the nuclear norm objective directly, instead\n",
    "# induce sparsity using singular value thresholding\n",
    "X_filled_softimpute = SoftImpute().complete(X_incomplete)"
   ]
  },
  {
   "cell_type": "code",
   "execution_count": 28,
   "metadata": {
    "scrolled": true
   },
   "outputs": [
    {
     "name": "stdout",
     "output_type": "stream",
     "text": [
      "train: 1 of 1 mini-batches from (229, 7200)\n",
      "downhill: compiling evaluation function\n",
      "downhill: compiling Adam optimizer\n",
      "downhill: setting: rms_halflife = 14\n",
      "downhill: setting: rms_regularizer = 1e-08\n",
      "downhill: setting: patience = 5\n",
      "downhill: setting: validate_every = 10\n",
      "downhill: setting: min_improvement = 0.005\n",
      "downhill: setting: max_gradient_norm = 5\n",
      "downhill: setting: max_gradient_elem = 0\n",
      "downhill: setting: learning_rate = TensorConstant{0.001}\n",
      "downhill: setting: momentum = 0\n",
      "downhill: setting: nesterov = False\n",
      "downhill: validation 0 loss=9299.353191 error=9299.263759 grad(V)=0.174536 grad(U)=0.277798 *\n",
      "downhill: Adam 1 loss=9299.353191 error=9299.263759 grad(V)=0.174536 grad(U)=0.277798\n",
      "downhill: Adam 2 loss=9299.301789 error=9299.212448 grad(V)=0.173727 grad(U)=0.274861\n",
      "downhill: Adam 3 loss=9299.232710 error=9299.143493 grad(V)=0.172743 grad(U)=0.271065\n",
      "downhill: Adam 4 loss=9299.152346 error=9299.063272 grad(V)=0.171755 grad(U)=0.266885\n",
      "downhill: Adam 5 loss=9299.064190 error=9298.975274 grad(V)=0.170864 grad(U)=0.262606\n",
      "downhill: Adam 6 loss=9298.970511 error=9298.881765 grad(V)=0.170146 grad(U)=0.258433\n",
      "downhill: Adam 7 loss=9298.872898 error=9298.784330 grad(V)=0.169659 grad(U)=0.254519\n",
      "downhill: Adam 8 loss=9298.772500 error=9298.684115 grad(V)=0.169454 grad(U)=0.250974\n",
      "downhill: Adam 9 loss=9298.670161 error=9298.581964 grad(V)=0.169563 grad(U)=0.247880\n",
      "downhill: Adam 10 loss=9298.566507 error=9298.478501 grad(V)=0.170011 grad(U)=0.245296\n",
      "downhill: validation 1 loss=9298.462000 error=9298.374187 grad(V)=0.170809 grad(U)=0.243258\n",
      "downhill: Adam 11 loss=9298.462000 error=9298.374187 grad(V)=0.170809 grad(U)=0.243258\n",
      "downhill: Adam 12 loss=9298.356979 error=9298.269362 grad(V)=0.171967 grad(U)=0.241792\n",
      "downhill: Adam 13 loss=9298.251690 error=9298.164268 grad(V)=0.173490 grad(U)=0.240910\n",
      "downhill: Adam 14 loss=9298.146306 error=9298.059079 grad(V)=0.175380 grad(U)=0.240613\n",
      "downhill: Adam 15 loss=9298.040941 error=9297.953910 grad(V)=0.177638 grad(U)=0.240900\n",
      "downhill: Adam 16 loss=9297.935671 error=9297.848834 grad(V)=0.180262 grad(U)=0.241760\n",
      "downhill: Adam 17 loss=9297.830534 error=9297.743890 grad(V)=0.183252 grad(U)=0.243181\n",
      "downhill: Adam 18 loss=9297.725541 error=9297.639089 grad(V)=0.186602 grad(U)=0.245146\n",
      "downhill: Adam 19 loss=9297.620682 error=9297.534420 grad(V)=0.190309 grad(U)=0.247645\n",
      "downhill: Adam 20 loss=9297.515930 error=9297.429857 grad(V)=0.194369 grad(U)=0.250661\n",
      "downhill: validation 2 loss=9297.411244 error=9297.325356 grad(V)=0.198775 grad(U)=0.254182\n",
      "downhill: Adam 21 loss=9297.411244 error=9297.325356 grad(V)=0.198775 grad(U)=0.254182\n",
      "downhill: Adam 22 loss=9297.306571 error=9297.220867 grad(V)=0.203523 grad(U)=0.258193\n",
      "downhill: Adam 23 loss=9297.201853 error=9297.116331 grad(V)=0.208606 grad(U)=0.262682\n",
      "downhill: Adam 24 loss=9297.097026 error=9297.011683 grad(V)=0.214021 grad(U)=0.267631\n",
      "downhill: Adam 25 loss=9296.992022 error=9296.906855 grad(V)=0.219761 grad(U)=0.273029\n",
      "downhill: Adam 26 loss=9296.886772 error=9296.801779 grad(V)=0.225823 grad(U)=0.278868\n",
      "downhill: Adam 27 loss=9296.781208 error=9296.696386 grad(V)=0.232200 grad(U)=0.285133\n",
      "downhill: Adam 28 loss=9296.675262 error=9296.590609 grad(V)=0.238890 grad(U)=0.291811\n",
      "downhill: Adam 29 loss=9296.568868 error=9296.484381 grad(V)=0.245886 grad(U)=0.298894\n",
      "downhill: Adam 30 loss=9296.461964 error=9296.377639 grad(V)=0.253187 grad(U)=0.306371\n",
      "downhill: validation 3 loss=9296.354487 error=9296.270322 grad(V)=0.260788 grad(U)=0.314233\n",
      "downhill: Adam 31 loss=9296.354487 error=9296.270322 grad(V)=0.260788 grad(U)=0.314233\n",
      "downhill: Adam 32 loss=9296.246380 error=9296.162372 grad(V)=0.268686 grad(U)=0.322471\n",
      "downhill: Adam 33 loss=9296.137587 error=9296.053734 grad(V)=0.276878 grad(U)=0.331076\n",
      "downhill: Adam 34 loss=9296.028055 error=9295.944354 grad(V)=0.285362 grad(U)=0.340039\n",
      "downhill: Adam 35 loss=9295.917734 error=9295.834182 grad(V)=0.294135 grad(U)=0.349355\n",
      "downhill: Adam 36 loss=9295.806575 error=9295.723171 grad(V)=0.303196 grad(U)=0.359017\n",
      "downhill: Adam 37 loss=9295.694533 error=9295.611274 grad(V)=0.312544 grad(U)=0.369019\n",
      "downhill: Adam 38 loss=9295.581565 error=9295.498449 grad(V)=0.322176 grad(U)=0.379354\n",
      "downhill: Adam 39 loss=9295.467629 error=9295.384654 grad(V)=0.332092 grad(U)=0.390017\n",
      "downhill: Adam 40 loss=9295.352686 error=9295.269849 grad(V)=0.342290 grad(U)=0.401002\n",
      "downhill: validation 4 loss=9295.236699 error=9295.153998 grad(V)=0.352770 grad(U)=0.412310\n",
      "downhill: Adam 41 loss=9295.236699 error=9295.153998 grad(V)=0.352770 grad(U)=0.412310\n",
      "downhill: Adam 42 loss=9295.119632 error=9295.037065 grad(V)=0.363530 grad(U)=0.423932\n",
      "downhill: Adam 43 loss=9295.001452 error=9294.919016 grad(V)=0.374569 grad(U)=0.435870\n",
      "downhill: Adam 44 loss=9294.882127 error=9294.799820 grad(V)=0.385887 grad(U)=0.448116\n",
      "downhill: Adam 45 loss=9294.761626 error=9294.679447 grad(V)=0.397482 grad(U)=0.460669\n",
      "downhill: Adam 46 loss=9294.639922 error=9294.557869 grad(V)=0.409355 grad(U)=0.473527\n",
      "downhill: Adam 47 loss=9294.516988 error=9294.435058 grad(V)=0.421502 grad(U)=0.486686\n",
      "downhill: Adam 48 loss=9294.392798 error=9294.310990 grad(V)=0.433925 grad(U)=0.500137\n",
      "downhill: Adam 49 loss=9294.267330 error=9294.185642 grad(V)=0.446621 grad(U)=0.513888\n",
      "downhill: Adam 50 loss=9294.140560 error=9294.058990 grad(V)=0.459590 grad(U)=0.527936\n",
      "downhill: validation 5 loss=9294.012469 error=9293.931015 grad(V)=0.472831 grad(U)=0.542274\n",
      "downhill: Adam 51 loss=9294.012469 error=9293.931015 grad(V)=0.472831 grad(U)=0.542274\n",
      "downhill: Adam 52 loss=9293.883037 error=9293.801697 grad(V)=0.486342 grad(U)=0.556904\n",
      "downhill: Adam 53 loss=9293.752246 error=9293.671019 grad(V)=0.500123 grad(U)=0.571819\n",
      "downhill: Adam 54 loss=9293.620079 error=9293.538963 grad(V)=0.514172 grad(U)=0.587018\n",
      "downhill: Adam 55 loss=9293.486521 error=9293.405513 grad(V)=0.528489 grad(U)=0.602507\n",
      "downhill: Adam 56 loss=9293.351556 error=9293.270656 grad(V)=0.543071 grad(U)=0.618277\n",
      "downhill: Adam 57 loss=9293.215171 error=9293.134378 grad(V)=0.557919 grad(U)=0.634328\n",
      "downhill: Adam 58 loss=9293.077354 error=9292.996665 grad(V)=0.573031 grad(U)=0.650661\n",
      "downhill: Adam 59 loss=9292.938092 error=9292.857507 grad(V)=0.588406 grad(U)=0.667271\n",
      "downhill: Adam 60 loss=9292.797375 error=9292.716892 grad(V)=0.604043 grad(U)=0.684161\n",
      "downhill: validation 6 loss=9292.655193 error=9292.574809 grad(V)=0.619941 grad(U)=0.701328\n",
      "downhill: patience elapsed!\n"
     ]
    }
   ],
   "source": [
    "X_filled_mf = MatrixFactorization(rank=11).complete(X_incomplete)"
   ]
  },
  {
   "cell_type": "raw",
   "metadata": {
    "collapsed": true
   },
   "source": [
    "# that still matches observed values. Slow!\n",
    "X_filled_nnm = NuclearNormMinimization().complete(X_incomplete)\n"
   ]
  },
  {
   "cell_type": "code",
   "execution_count": 29,
   "metadata": {
    "collapsed": true
   },
   "outputs": [],
   "source": [
    "#Correction of 4 nan values, in perfil_angles\n",
    "#0 6805\n",
    "#0 6806\n",
    "#114 5963\n",
    "#114 5964\n",
    "\n",
    "perfil_all = np.nan_to_num(perfil_all)"
   ]
  },
  {
   "cell_type": "code",
   "execution_count": 30,
   "metadata": {},
   "outputs": [
    {
     "name": "stdout",
     "output_type": "stream",
     "text": [
      "MF MSE: 9103.202894\n",
      "SoftImpute MSE: 13203.549334\n",
      "knnImpute MSE: 7617.260083\n"
     ]
    }
   ],
   "source": [
    "# print mean squared error for the three imputation methods above\n",
    "nnm_mse = ((X_filled_mf - perfil_all) ** 2).mean()\n",
    "print(\"MF MSE: %f\" % nnm_mse)\n",
    "\n",
    "softImpute_mse = ((X_filled_softimpute - perfil_all) ** 2).mean()\n",
    "print(\"SoftImpute MSE: %f\" % softImpute_mse)\n",
    "\n",
    "knn_mse = ((X_filled_knn - perfil_all) ** 2).mean()\n",
    "print(\"knnImpute MSE: %f\" % knn_mse)"
   ]
  },
  {
   "cell_type": "code",
   "execution_count": 31,
   "metadata": {
    "scrolled": true
   },
   "outputs": [
    {
     "name": "stdout",
     "output_type": "stream",
     "text": [
      "MF MSE: 0.920903\n",
      "SoftImpute MSE: 1.109078\n",
      "knnImpute MSE: 0.842396\n"
     ]
    }
   ],
   "source": [
    "# print mean squared error for the three imputation methods above\n",
    "nnm_mse = np.linalg.norm(perfil_all- X_filled_mf)/np.linalg.norm(perfil_all)\n",
    "print(\"MF MSE: %f\" % nnm_mse)\n",
    "\n",
    "softImpute_mse = np.linalg.norm(perfil_all- X_filled_softimpute)/np.linalg.norm(perfil_all)\n",
    "print(\"SoftImpute MSE: %f\" % softImpute_mse)\n",
    "\n",
    "knn_mse = np.linalg.norm(perfil_all- X_filled_knn)/np.linalg.norm(perfil_all)\n",
    "print(\"knnImpute MSE: %f\" % knn_mse)"
   ]
  },
  {
   "cell_type": "code",
   "execution_count": 32,
   "metadata": {},
   "outputs": [
    {
     "name": "stdout",
     "output_type": "stream",
     "text": [
      "Total measures:  1648800\n",
      "Non incomplete measures:  1648800\n",
      "Non incomplete measures:  1269296\n"
     ]
    }
   ],
   "source": [
    "print 'Total measures: ',perfil_all.size\n",
    "print 'Non incomplete measures: ',X_filled_mf.size - np.count_nonzero(np.isnan(X_filled_mf))\n",
    "print 'Non incomplete measures: ',X_incomplete.size - np.count_nonzero(np.isnan(X_incomplete))"
   ]
  },
  {
   "cell_type": "code",
   "execution_count": 33,
   "metadata": {},
   "outputs": [
    {
     "name": "stdout",
     "output_type": "stream",
     "text": [
      "0 6805\n",
      "0 6806\n",
      "114 5963\n",
      "114 5964\n"
     ]
    }
   ],
   "source": [
    "for i in range(perfil_angles.shape[0]):\n",
    "    for j in range(perfil_angles.shape[1]):\n",
    "        if np.isnan(perfil_angles[i,j]): print i, j"
   ]
  },
  {
   "cell_type": "code",
   "execution_count": 41,
   "metadata": {
    "scrolled": true
   },
   "outputs": [
    {
     "name": "stdout",
     "output_type": "stream",
     "text": [
      "train: 1 of 1 mini-batches from (229, 7200)\n",
      "downhill: compiling evaluation function\n",
      "downhill: compiling Adam optimizer\n",
      "downhill: setting: rms_halflife = 14\n",
      "downhill: setting: rms_regularizer = 1e-08\n",
      "downhill: setting: patience = 5\n",
      "downhill: setting: validate_every = 10\n",
      "downhill: setting: min_improvement = 0.005\n",
      "downhill: setting: max_gradient_norm = 5\n",
      "downhill: setting: max_gradient_elem = 0\n",
      "downhill: setting: learning_rate = TensorConstant{0.001}\n",
      "downhill: setting: momentum = 0\n",
      "downhill: setting: nesterov = False\n",
      "downhill: validation 0 loss=9305.266723 error=9305.176896 grad(U)=0.599899 grad(V)=0.456573 *\n",
      "downhill: Adam 1 loss=9305.266723 error=9305.176896 grad(U)=0.599899 grad(V)=0.456573\n",
      "downhill: Adam 2 loss=9305.161553 error=9305.071815 grad(U)=0.600179 grad(V)=0.457948\n",
      "downhill: Adam 3 loss=9305.019468 error=9304.929849 grad(U)=0.600901 grad(V)=0.460001\n",
      "downhill: Adam 4 loss=9304.853062 error=9304.763582 grad(U)=0.602264 grad(V)=0.462724\n",
      "downhill: Adam 5 loss=9304.669111 error=9304.579785 grad(U)=0.604426 grad(V)=0.466144\n",
      "downhill: Adam 6 loss=9304.471977 error=9304.382814 grad(U)=0.607521 grad(V)=0.470293\n",
      "downhill: Adam 7 loss=9304.264698 error=9304.175707 grad(U)=0.611654 grad(V)=0.475206\n",
      "downhill: Adam 8 loss=9304.049481 error=9303.960665 grad(U)=0.616909 grad(V)=0.480917\n",
      "downhill: Adam 9 loss=9303.827958 error=9303.739323 grad(U)=0.623345 grad(V)=0.487454\n",
      "downhill: Adam 10 loss=9303.601358 error=9303.512906 grad(U)=0.631000 grad(V)=0.494834\n",
      "downhill: validation 1 loss=9303.370605 error=9303.282336 grad(U)=0.639891 grad(V)=0.503073\n",
      "downhill: Adam 11 loss=9303.370605 error=9303.282336 grad(U)=0.639891 grad(V)=0.503073\n",
      "downhill: Adam 12 loss=9303.136393 error=9303.048309 grad(U)=0.650025 grad(V)=0.512177\n",
      "downhill: Adam 13 loss=9302.899245 error=9302.811345 grad(U)=0.661390 grad(V)=0.522152\n",
      "downhill: Adam 14 loss=9302.659548 error=9302.571833 grad(U)=0.673965 grad(V)=0.532998\n",
      "downhill: Adam 15 loss=9302.417590 error=9302.330057 grad(U)=0.687721 grad(V)=0.544715\n",
      "downhill: Adam 16 loss=9302.173578 error=9302.086226 grad(U)=0.702622 grad(V)=0.557298\n",
      "downhill: Adam 17 loss=9301.927657 error=9301.840485 grad(U)=0.718632 grad(V)=0.570742\n",
      "downhill: Adam 18 loss=9301.679924 error=9301.592929 grad(U)=0.735714 grad(V)=0.585041\n",
      "downhill: Adam 19 loss=9301.430435 error=9301.343616 grad(U)=0.753832 grad(V)=0.600187\n",
      "downhill: Adam 20 loss=9301.179218 error=9301.092572 grad(U)=0.772945 grad(V)=0.616171\n",
      "downhill: validation 2 loss=9300.926276 error=9300.839800 grad(U)=0.793022 grad(V)=0.632985\n",
      "downhill: Adam 21 loss=9300.926276 error=9300.839800 grad(U)=0.793022 grad(V)=0.632985\n",
      "downhill: Adam 22 loss=9300.671591 error=9300.585283 grad(U)=0.814033 grad(V)=0.650619\n",
      "downhill: Adam 23 loss=9300.415133 error=9300.328990 grad(U)=0.835947 grad(V)=0.669063\n",
      "downhill: Adam 24 loss=9300.156861 error=9300.070881 grad(U)=0.858737 grad(V)=0.688309\n",
      "downhill: Adam 25 loss=9299.896725 error=9299.810904 grad(U)=0.882374 grad(V)=0.708346\n",
      "downhill: Adam 26 loss=9299.634670 error=9299.549007 grad(U)=0.906837 grad(V)=0.729165\n",
      "downhill: Adam 27 loss=9299.370637 error=9299.285128 grad(U)=0.932101 grad(V)=0.750756\n",
      "downhill: Adam 28 loss=9299.104565 error=9299.019208 grad(U)=0.958148 grad(V)=0.773110\n",
      "downhill: Adam 29 loss=9298.836391 error=9298.751184 grad(U)=0.984958 grad(V)=0.796217\n",
      "downhill: Adam 30 loss=9298.566054 error=9298.480993 grad(U)=1.012514 grad(V)=0.820069\n",
      "downhill: validation 3 loss=9298.293492 error=9298.208575 grad(U)=1.040798 grad(V)=0.844656\n",
      "downhill: Adam 31 loss=9298.293492 error=9298.208575 grad(U)=1.040798 grad(V)=0.844656\n",
      "downhill: Adam 32 loss=9298.018645 error=9297.933868 grad(U)=1.069803 grad(V)=0.869970\n",
      "downhill: Adam 33 loss=9297.741454 error=9297.656816 grad(U)=1.099511 grad(V)=0.896001\n",
      "downhill: Adam 34 loss=9297.461862 error=9297.377361 grad(U)=1.129911 grad(V)=0.922741\n",
      "downhill: Adam 35 loss=9297.179818 error=9297.095449 grad(U)=1.160992 grad(V)=0.950181\n",
      "downhill: Adam 36 loss=9296.895268 error=9296.811030 grad(U)=1.192742 grad(V)=0.978313\n",
      "downhill: Adam 37 loss=9296.608165 error=9296.524055 grad(U)=1.225158 grad(V)=1.007128\n",
      "downhill: Adam 38 loss=9296.318462 error=9296.234479 grad(U)=1.258228 grad(V)=1.036618\n",
      "downhill: Adam 39 loss=9296.026117 error=9295.942258 grad(U)=1.291940 grad(V)=1.066777\n",
      "downhill: Adam 40 loss=9295.731090 error=9295.647352 grad(U)=1.326290 grad(V)=1.097594\n",
      "downhill: validation 4 loss=9295.433344 error=9295.349725 grad(U)=1.361270 grad(V)=1.129064\n",
      "downhill: Adam 41 loss=9295.433344 error=9295.349725 grad(U)=1.361270 grad(V)=1.129064\n",
      "downhill: Adam 42 loss=9295.132844 error=9295.049341 grad(U)=1.396877 grad(V)=1.161180\n",
      "downhill: Adam 43 loss=9294.829558 error=9294.746170 grad(U)=1.433102 grad(V)=1.193932\n",
      "downhill: Adam 44 loss=9294.523456 error=9294.440181 grad(U)=1.469936 grad(V)=1.227316\n",
      "downhill: Adam 45 loss=9294.214512 error=9294.131348 grad(U)=1.507377 grad(V)=1.261325\n",
      "downhill: Adam 46 loss=9293.902701 error=9293.819646 grad(U)=1.545417 grad(V)=1.295951\n",
      "downhill: Adam 47 loss=9293.588000 error=9293.505052 grad(U)=1.584052 grad(V)=1.331188\n",
      "downhill: Adam 48 loss=9293.270390 error=9293.187547 grad(U)=1.623278 grad(V)=1.367031\n",
      "downhill: Adam 49 loss=9292.949851 error=9292.867111 grad(U)=1.663089 grad(V)=1.403473\n",
      "downhill: Adam 50 loss=9292.626367 error=9292.543729 grad(U)=1.703481 grad(V)=1.440508\n",
      "downhill: validation 5 loss=9292.299923 error=9292.217385 grad(U)=1.744451 grad(V)=1.478131\n",
      "downhill: Adam 51 loss=9292.299923 error=9292.217385 grad(U)=1.744451 grad(V)=1.478131\n",
      "downhill: Adam 52 loss=9291.970506 error=9291.888066 grad(U)=1.785993 grad(V)=1.516337\n",
      "downhill: Adam 53 loss=9291.638104 error=9291.555759 grad(U)=1.828105 grad(V)=1.555119\n",
      "downhill: Adam 54 loss=9291.302705 error=9291.220455 grad(U)=1.870782 grad(V)=1.594473\n",
      "downhill: Adam 55 loss=9290.964301 error=9290.882144 grad(U)=1.914028 grad(V)=1.634393\n",
      "downhill: Adam 56 loss=9290.622884 error=9290.540818 grad(U)=1.957836 grad(V)=1.674874\n",
      "downhill: Adam 57 loss=9290.278446 error=9290.196470 grad(U)=2.002204 grad(V)=1.715912\n",
      "downhill: Adam 58 loss=9289.930981 error=9289.849094 grad(U)=2.047128 grad(V)=1.757501\n",
      "downhill: Adam 59 loss=9289.580484 error=9289.498684 grad(U)=2.092608 grad(V)=1.799638\n",
      "downhill: Adam 60 loss=9289.226951 error=9289.145237 grad(U)=2.138638 grad(V)=1.842316\n",
      "downhill: validation 6 loss=9288.870378 error=9288.788748 grad(U)=2.185223 grad(V)=1.885532\n",
      "downhill: patience elapsed!\n",
      "train: 1 of 1 mini-batches from (229, 7200)\n",
      "downhill: compiling evaluation function\n",
      "downhill: compiling Adam optimizer\n",
      "downhill: setting: rms_halflife = 14\n",
      "downhill: setting: rms_regularizer = 1e-08\n",
      "downhill: setting: patience = 5\n",
      "downhill: setting: validate_every = 10\n",
      "downhill: setting: min_improvement = 0.005\n",
      "downhill: setting: max_gradient_norm = 5\n",
      "downhill: setting: max_gradient_elem = 0\n",
      "downhill: setting: learning_rate = TensorConstant{0.001}\n",
      "downhill: setting: momentum = 0\n",
      "downhill: setting: nesterov = False\n",
      "downhill: validation 0 loss=9307.355526 error=9307.264624 grad(U)=0.585140 grad(V)=0.387030 *\n",
      "downhill: Adam 1 loss=9307.355526 error=9307.264624 grad(U)=0.585140 grad(V)=0.387030\n",
      "downhill: Adam 2 loss=9307.252657 error=9307.161846 grad(U)=0.580075 grad(V)=0.384662\n",
      "downhill: Adam 3 loss=9307.114271 error=9307.023584 grad(U)=0.573600 grad(V)=0.381634\n",
      "downhill: Adam 4 loss=9306.953069 error=9306.862526 grad(U)=0.566588 grad(V)=0.378375\n",
      "downhill: Adam 5 loss=9306.775969 error=9306.685585 grad(U)=0.559550 grad(V)=0.375161\n",
      "downhill: Adam 6 loss=9306.587465 error=9306.497251 grad(U)=0.552818 grad(V)=0.372191\n",
      "downhill: Adam 7 loss=9306.390710 error=9306.300674 grad(U)=0.546630 grad(V)=0.369608\n",
      "downhill: Adam 8 loss=9306.188004 error=9306.098152 grad(U)=0.541168 grad(V)=0.367520\n",
      "downhill: Adam 9 loss=9305.981059 error=9305.891395 grad(U)=0.536570 grad(V)=0.366013\n",
      "downhill: Adam 10 loss=9305.771151 error=9305.681678 grad(U)=0.532935 grad(V)=0.365156\n",
      "downhill: validation 1 loss=9305.559233 error=9305.469953 grad(U)=0.530333 grad(V)=0.365003\n",
      "downhill: Adam 11 loss=9305.559233 error=9305.469953 grad(U)=0.530333 grad(V)=0.365003\n",
      "downhill: Adam 12 loss=9305.346009 error=9305.256923 grad(U)=0.528804 grad(V)=0.365596\n",
      "downhill: Adam 13 loss=9305.131992 error=9305.043101 grad(U)=0.528369 grad(V)=0.366963\n",
      "downhill: Adam 14 loss=9304.917549 error=9304.828852 grad(U)=0.529034 grad(V)=0.369125\n",
      "downhill: Adam 15 loss=9304.702931 error=9304.614428 grad(U)=0.530795 grad(V)=0.372094\n",
      "downhill: Adam 16 loss=9304.488297 error=9304.399987 grad(U)=0.533640 grad(V)=0.375874\n",
      "downhill: Adam 17 loss=9304.273737 error=9304.185618 grad(U)=0.537552 grad(V)=0.380467\n",
      "downhill: Adam 18 loss=9304.059283 error=9303.971354 grad(U)=0.542511 grad(V)=0.385868\n",
      "downhill: Adam 19 loss=9303.844923 error=9303.757181 grad(U)=0.548497 grad(V)=0.392073\n",
      "downhill: Adam 20 loss=9303.630609 error=9303.543053 grad(U)=0.555486 grad(V)=0.399073\n",
      "downhill: validation 2 loss=9303.416267 error=9303.328895 grad(U)=0.563458 grad(V)=0.406859\n",
      "downhill: Adam 21 loss=9303.416267 error=9303.328895 grad(U)=0.563458 grad(V)=0.406859\n",
      "downhill: Adam 22 loss=9303.201805 error=9303.114613 grad(U)=0.572388 grad(V)=0.415419\n",
      "downhill: Adam 23 loss=9302.987112 error=9302.900099 grad(U)=0.582256 grad(V)=0.424744\n",
      "downhill: Adam 24 loss=9302.772071 error=9302.685233 grad(U)=0.593041 grad(V)=0.434822\n",
      "downhill: Adam 25 loss=9302.556557 error=9302.469892 grad(U)=0.604721 grad(V)=0.445641\n",
      "downhill: Adam 26 loss=9302.340442 error=9302.253948 grad(U)=0.617276 grad(V)=0.457190\n",
      "downhill: Adam 27 loss=9302.123599 error=9302.037272 grad(U)=0.630687 grad(V)=0.469458\n",
      "downhill: Adam 28 loss=9301.905898 error=9301.819736 grad(U)=0.644936 grad(V)=0.482434\n",
      "downhill: Adam 29 loss=9301.687215 error=9301.601215 grad(U)=0.660009 grad(V)=0.496109\n",
      "downhill: Adam 30 loss=9301.467427 error=9301.381586 grad(U)=0.675887 grad(V)=0.510472\n",
      "downhill: validation 3 loss=9301.246414 error=9301.160729 grad(U)=0.692554 grad(V)=0.525514\n",
      "downhill: Adam 31 loss=9301.246414 error=9301.160729 grad(U)=0.692554 grad(V)=0.525514\n",
      "downhill: Adam 32 loss=9301.024061 error=9300.938530 grad(U)=0.709999 grad(V)=0.541228\n",
      "downhill: Adam 33 loss=9300.800257 error=9300.714876 grad(U)=0.728208 grad(V)=0.557606\n",
      "downhill: Adam 34 loss=9300.574893 error=9300.489661 grad(U)=0.747168 grad(V)=0.574639\n",
      "downhill: Adam 35 loss=9300.347868 error=9300.262781 grad(U)=0.766870 grad(V)=0.592323\n",
      "downhill: Adam 36 loss=9300.119082 error=9300.034138 grad(U)=0.787303 grad(V)=0.610650\n",
      "downhill: Adam 37 loss=9299.888440 error=9299.803637 grad(U)=0.808456 grad(V)=0.629615\n",
      "downhill: Adam 38 loss=9299.655853 error=9299.571188 grad(U)=0.830321 grad(V)=0.649214\n",
      "downhill: Adam 39 loss=9299.421233 error=9299.336704 grad(U)=0.852891 grad(V)=0.669442\n",
      "downhill: Adam 40 loss=9299.184499 error=9299.100103 grad(U)=0.876161 grad(V)=0.690294\n",
      "downhill: validation 4 loss=9298.945571 error=9298.861305 grad(U)=0.900119 grad(V)=0.711768\n",
      "downhill: Adam 41 loss=9298.945571 error=9298.861305 grad(U)=0.900119 grad(V)=0.711768\n",
      "downhill: Adam 42 loss=9298.704374 error=9298.620236 grad(U)=0.924760 grad(V)=0.733859\n",
      "downhill: Adam 43 loss=9298.460837 error=9298.376825 grad(U)=0.950080 grad(V)=0.756565\n",
      "downhill: Adam 44 loss=9298.214892 error=9298.131004 grad(U)=0.976071 grad(V)=0.779884\n",
      "downhill: Adam 45 loss=9297.966475 error=9297.882708 grad(U)=1.002730 grad(V)=0.803813\n",
      "downhill: Adam 46 loss=9297.715524 error=9297.631877 grad(U)=1.030051 grad(V)=0.828350\n",
      "downhill: Adam 47 loss=9297.461982 error=9297.378451 grad(U)=1.058025 grad(V)=0.853493\n",
      "downhill: Adam 48 loss=9297.205793 error=9297.122378 grad(U)=1.086651 grad(V)=0.879240\n",
      "downhill: Adam 49 loss=9296.946906 error=9296.863604 grad(U)=1.115924 grad(V)=0.905590\n",
      "downhill: Adam 50 loss=9296.685273 error=9296.602082 grad(U)=1.145836 grad(V)=0.932541\n",
      "downhill: validation 5 loss=9296.420846 error=9296.337765 grad(U)=1.176391 grad(V)=0.960093\n",
      "downhill: Adam 51 loss=9296.420846 error=9296.337765 grad(U)=1.176391 grad(V)=0.960093\n",
      "downhill: Adam 52 loss=9296.153584 error=9296.070609 grad(U)=1.207583 grad(V)=0.988242\n",
      "downhill: Adam 53 loss=9295.883444 error=9295.800575 grad(U)=1.239403 grad(V)=1.016988\n",
      "downhill: Adam 54 loss=9295.610388 error=9295.527623 grad(U)=1.271852 grad(V)=1.046331\n",
      "downhill: Adam 55 loss=9295.334381 error=9295.251717 grad(U)=1.304928 grad(V)=1.076268\n",
      "downhill: Adam 56 loss=9295.055387 error=9294.972824 grad(U)=1.338626 grad(V)=1.106798\n",
      "downhill: Adam 57 loss=9294.773375 error=9294.690911 grad(U)=1.372945 grad(V)=1.137920\n",
      "downhill: Adam 58 loss=9294.488315 error=9294.405948 grad(U)=1.407883 grad(V)=1.169633\n",
      "downhill: Adam 59 loss=9294.200178 error=9294.117906 grad(U)=1.443440 grad(V)=1.201936\n",
      "downhill: Adam 60 loss=9293.908936 error=9293.826758 grad(U)=1.479612 grad(V)=1.234827\n",
      "downhill: validation 6 loss=9293.614565 error=9293.532479 grad(U)=1.516398 grad(V)=1.268305\n",
      "downhill: patience elapsed!\n",
      "train: 1 of 1 mini-batches from (229, 7200)\n",
      "downhill: compiling evaluation function\n",
      "downhill: compiling Adam optimizer\n",
      "downhill: setting: rms_halflife = 14\n",
      "downhill: setting: rms_regularizer = 1e-08\n",
      "downhill: setting: patience = 5\n",
      "downhill: setting: validate_every = 10\n",
      "downhill: setting: min_improvement = 0.005\n",
      "downhill: setting: max_gradient_norm = 5\n",
      "downhill: setting: max_gradient_elem = 0\n",
      "downhill: setting: learning_rate = TensorConstant{0.001}\n",
      "downhill: setting: momentum = 0\n",
      "downhill: setting: nesterov = False\n",
      "downhill: validation 0 loss=9306.656087 error=9306.565714 grad(V)=0.443871 grad(U)=0.748523 *\n",
      "downhill: Adam 1 loss=9306.656087 error=9306.565714 grad(V)=0.443871 grad(U)=0.748523\n",
      "downhill: Adam 2 loss=9306.546946 error=9306.456662 grad(V)=0.442623 grad(U)=0.742593\n",
      "downhill: Adam 3 loss=9306.400124 error=9306.309960 grad(V)=0.441167 grad(U)=0.734962\n",
      "downhill: Adam 4 loss=9306.229097 error=9306.139075 grad(V)=0.439788 grad(U)=0.726587\n",
      "downhill: Adam 5 loss=9306.041214 error=9305.951347 grad(V)=0.438681 grad(U)=0.718034\n",
      "downhill: Adam 6 loss=9305.841249 error=9305.751547 grad(V)=0.437991 grad(U)=0.709710\n",
      "downhill: Adam 7 loss=9305.632552 error=9305.543024 grad(V)=0.437823 grad(U)=0.701920\n",
      "downhill: Adam 8 loss=9305.417572 error=9305.328223 grad(V)=0.438265 grad(U)=0.694880\n",
      "downhill: Adam 9 loss=9305.198138 error=9305.108971 grad(V)=0.439390 grad(U)=0.688731\n",
      "downhill: Adam 10 loss=9304.975631 error=9304.886650 grad(V)=0.441258 grad(U)=0.683571\n",
      "downhill: validation 1 loss=9304.751096 error=9304.662302 grad(V)=0.443910 grad(U)=0.679467\n",
      "downhill: Adam 11 loss=9304.751096 error=9304.662302 grad(V)=0.443910 grad(U)=0.679467\n",
      "downhill: Adam 12 loss=9304.525321 error=9304.436715 grad(V)=0.447377 grad(U)=0.676476\n",
      "downhill: Adam 13 loss=9304.298890 error=9304.210472 grad(V)=0.451678 grad(U)=0.674634\n",
      "downhill: Adam 14 loss=9304.072225 error=9303.983995 grad(V)=0.456824 grad(U)=0.673967\n",
      "downhill: Adam 15 loss=9303.845620 error=9303.757577 grad(V)=0.462818 grad(U)=0.674493\n",
      "downhill: Adam 16 loss=9303.619267 error=9303.531409 grad(V)=0.469657 grad(U)=0.676220\n",
      "downhill: Adam 17 loss=9303.393272 error=9303.305598 grad(V)=0.477334 grad(U)=0.679153\n",
      "downhill: Adam 18 loss=9303.167675 error=9303.080184 grad(V)=0.485840 grad(U)=0.683288\n",
      "downhill: Adam 19 loss=9302.942464 error=9302.855152 grad(V)=0.495163 grad(U)=0.688617\n",
      "downhill: Adam 20 loss=9302.717582 error=9302.630449 grad(V)=0.505290 grad(U)=0.695127\n",
      "downhill: validation 2 loss=9302.492944 error=9302.405986 grad(V)=0.516206 grad(U)=0.702803\n",
      "downhill: Adam 21 loss=9302.492944 error=9302.405986 grad(V)=0.516206 grad(U)=0.702803\n",
      "downhill: Adam 22 loss=9302.268438 error=9302.181654 grad(V)=0.527897 grad(U)=0.711624\n",
      "downhill: Adam 23 loss=9302.043939 error=9301.957326 grad(V)=0.540348 grad(U)=0.721569\n",
      "downhill: Adam 24 loss=9301.819308 error=9301.732864 grad(V)=0.553542 grad(U)=0.732613\n",
      "downhill: Adam 25 loss=9301.594403 error=9301.508124 grad(V)=0.567465 grad(U)=0.744731\n",
      "downhill: Adam 26 loss=9301.369077 error=9301.282961 grad(V)=0.582101 grad(U)=0.757898\n",
      "downhill: Adam 27 loss=9301.143183 error=9301.057228 grad(V)=0.597436 grad(U)=0.772088\n",
      "downhill: Adam 28 loss=9300.916577 error=9300.830780 grad(V)=0.613457 grad(U)=0.787275\n",
      "downhill: Adam 29 loss=9300.689116 error=9300.603474 grad(V)=0.630149 grad(U)=0.803431\n",
      "downhill: Adam 30 loss=9300.460662 error=9300.375173 grad(V)=0.647500 grad(U)=0.820533\n",
      "downhill: validation 3 loss=9300.231082 error=9300.145742 grad(V)=0.665499 grad(U)=0.838560\n",
      "downhill: Adam 31 loss=9300.231082 error=9300.145742 grad(V)=0.665499 grad(U)=0.838560\n",
      "downhill: Adam 32 loss=9300.000246 error=9299.915054 grad(V)=0.684136 grad(U)=0.857488\n",
      "downhill: Adam 33 loss=9299.768030 error=9299.682983 grad(V)=0.703400 grad(U)=0.877296\n",
      "downhill: Adam 34 loss=9299.534316 error=9299.449411 grad(V)=0.723281 grad(U)=0.897968\n",
      "downhill: Adam 35 loss=9299.298991 error=9299.214225 grad(V)=0.743772 grad(U)=0.919481\n",
      "downhill: Adam 36 loss=9299.061946 error=9298.977317 grad(V)=0.764865 grad(U)=0.941822\n",
      "downhill: Adam 37 loss=9298.823078 error=9298.738584 grad(V)=0.786551 grad(U)=0.964974\n",
      "downhill: Adam 38 loss=9298.582289 error=9298.497927 grad(V)=0.808824 grad(U)=0.988925\n",
      "downhill: Adam 39 loss=9298.339487 error=9298.255255 grad(V)=0.831679 grad(U)=1.013657\n",
      "downhill: Adam 40 loss=9298.094582 error=9298.010478 grad(V)=0.855109 grad(U)=1.039164\n",
      "downhill: validation 4 loss=9297.847493 error=9297.763514 grad(V)=0.879110 grad(U)=1.065433\n",
      "downhill: Adam 41 loss=9297.847493 error=9297.763514 grad(V)=0.879110 grad(U)=1.065433\n",
      "downhill: Adam 42 loss=9297.598139 error=9297.514284 grad(V)=0.903676 grad(U)=1.092452\n",
      "downhill: Adam 43 loss=9297.346446 error=9297.262712 grad(V)=0.928804 grad(U)=1.120213\n",
      "downhill: Adam 44 loss=9297.092343 error=9297.008729 grad(V)=0.954491 grad(U)=1.148704\n",
      "downhill: Adam 45 loss=9296.835765 error=9296.752268 grad(V)=0.980731 grad(U)=1.177918\n",
      "downhill: Adam 46 loss=9296.576647 error=9296.493266 grad(V)=1.007524 grad(U)=1.207846\n",
      "downhill: Adam 47 loss=9296.314931 error=9296.231663 grad(V)=1.034866 grad(U)=1.238483\n",
      "downhill: Adam 48 loss=9296.050562 error=9295.967406 grad(V)=1.062754 grad(U)=1.269819\n",
      "downhill: Adam 49 loss=9295.783487 error=9295.700441 grad(V)=1.091187 grad(U)=1.301846\n",
      "downhill: Adam 50 loss=9295.513658 error=9295.430720 grad(V)=1.120163 grad(U)=1.334559\n",
      "downhill: validation 5 loss=9295.241029 error=9295.158197 grad(V)=1.149680 grad(U)=1.367951\n",
      "downhill: Adam 51 loss=9295.241029 error=9295.158197 grad(V)=1.149680 grad(U)=1.367951\n",
      "downhill: Adam 52 loss=9294.965558 error=9294.882831 grad(V)=1.179737 grad(U)=1.402016\n",
      "downhill: Adam 53 loss=9294.687206 error=9294.604582 grad(V)=1.210331 grad(U)=1.436743\n",
      "downhill: Adam 54 loss=9294.405936 error=9294.323414 grad(V)=1.241461 grad(U)=1.472133\n",
      "downhill: Adam 55 loss=9294.121716 error=9294.039294 grad(V)=1.273126 grad(U)=1.508176\n",
      "downhill: Adam 56 loss=9293.834516 error=9293.752192 grad(V)=1.305325 grad(U)=1.544867\n",
      "downhill: Adam 57 loss=9293.544308 error=9293.462081 grad(V)=1.338055 grad(U)=1.582201\n",
      "downhill: Adam 58 loss=9293.251068 error=9293.168937 grad(V)=1.371314 grad(U)=1.620171\n",
      "downhill: Adam 59 loss=9292.954774 error=9292.872737 grad(V)=1.405102 grad(U)=1.658772\n",
      "downhill: Adam 60 loss=9292.655407 error=9292.573463 grad(V)=1.439417 grad(U)=1.697998\n",
      "downhill: validation 6 loss=9292.352950 error=9292.271098 grad(V)=1.474255 grad(U)=1.737844\n",
      "downhill: patience elapsed!\n",
      "train: 1 of 1 mini-batches from (229, 7200)\n",
      "downhill: compiling evaluation function\n",
      "downhill: compiling Adam optimizer\n",
      "downhill: setting: rms_halflife = 14\n",
      "downhill: setting: rms_regularizer = 1e-08\n",
      "downhill: setting: patience = 5\n",
      "downhill: setting: validate_every = 10\n",
      "downhill: setting: min_improvement = 0.005\n",
      "downhill: setting: max_gradient_norm = 5\n",
      "downhill: setting: max_gradient_elem = 0\n",
      "downhill: setting: learning_rate = TensorConstant{0.001}\n",
      "downhill: setting: momentum = 0\n",
      "downhill: setting: nesterov = False\n",
      "downhill: validation 0 loss=9305.447973 error=9305.359009 grad(V)=0.266262 grad(U)=0.690180 *\n",
      "downhill: Adam 1 loss=9305.447973 error=9305.359009 grad(V)=0.266262 grad(U)=0.690180\n",
      "downhill: Adam 2 loss=9305.353110 error=9305.264236 grad(V)=0.265634 grad(U)=0.688342\n",
      "downhill: Adam 3 loss=9305.225111 error=9305.136356 grad(V)=0.264964 grad(U)=0.686235\n",
      "downhill: Adam 4 loss=9305.075433 error=9304.986819 grad(V)=0.264454 grad(U)=0.684280\n",
      "downhill: Adam 5 loss=9304.910260 error=9304.821801 grad(V)=0.264235 grad(U)=0.682765\n",
      "downhill: Adam 6 loss=9304.733574 error=9304.645280 grad(V)=0.264413 grad(U)=0.681914\n",
      "downhill: Adam 7 loss=9304.548145 error=9304.460023 grad(V)=0.265082 grad(U)=0.681893\n",
      "downhill: Adam 8 loss=9304.355974 error=9304.268030 grad(V)=0.266315 grad(U)=0.682812\n",
      "downhill: Adam 9 loss=9304.158542 error=9304.070779 grad(V)=0.268167 grad(U)=0.684753\n",
      "downhill: Adam 10 loss=9303.956951 error=9303.869372 grad(V)=0.270676 grad(U)=0.687775\n",
      "downhill: validation 1 loss=9303.752028 error=9303.664634 grad(V)=0.273868 grad(U)=0.691917\n",
      "downhill: Adam 11 loss=9303.752028 error=9303.664634 grad(V)=0.273868 grad(U)=0.691917\n",
      "downhill: Adam 12 loss=9303.544385 error=9303.457178 grad(V)=0.277764 grad(U)=0.697200\n",
      "downhill: Adam 13 loss=9303.334473 error=9303.247452 grad(V)=0.282375 grad(U)=0.703632\n",
      "downhill: Adam 14 loss=9303.122619 error=9303.035782 grad(V)=0.287709 grad(U)=0.711207\n",
      "downhill: Adam 15 loss=9302.909052 error=9302.822400 grad(V)=0.293767 grad(U)=0.719916\n",
      "downhill: Adam 16 loss=9302.693931 error=9302.607462 grad(V)=0.300549 grad(U)=0.729740\n",
      "downhill: Adam 17 loss=9302.477356 error=9302.391068 grad(V)=0.308049 grad(U)=0.740656\n",
      "downhill: Adam 18 loss=9302.259381 error=9302.173273 grad(V)=0.316265 grad(U)=0.752646\n",
      "downhill: Adam 19 loss=9302.040027 error=9301.954095 grad(V)=0.325191 grad(U)=0.765688\n",
      "downhill: Adam 20 loss=9301.819282 error=9301.733526 grad(V)=0.334822 grad(U)=0.779762\n",
      "downhill: validation 2 loss=9301.597114 error=9301.511530 grad(V)=0.345152 grad(U)=0.794854\n",
      "downhill: Adam 21 loss=9301.597114 error=9301.511530 grad(V)=0.345152 grad(U)=0.794854\n",
      "downhill: Adam 22 loss=9301.373473 error=9301.288058 grad(V)=0.356177 grad(U)=0.810947\n",
      "downhill: Adam 23 loss=9301.148291 error=9301.063044 grad(V)=0.367892 grad(U)=0.828026\n",
      "downhill: Adam 24 loss=9300.921495 error=9300.836412 grad(V)=0.380292 grad(U)=0.846082\n",
      "downhill: Adam 25 loss=9300.693000 error=9300.608078 grad(V)=0.393374 grad(U)=0.865102\n",
      "downhill: Adam 26 loss=9300.462716 error=9300.377953 grad(V)=0.407133 grad(U)=0.885077\n",
      "downhill: Adam 27 loss=9300.230551 error=9300.145945 grad(V)=0.421564 grad(U)=0.905996\n",
      "downhill: Adam 28 loss=9299.996413 error=9299.911960 grad(V)=0.436663 grad(U)=0.927853\n",
      "downhill: Adam 29 loss=9299.760208 error=9299.675905 grad(V)=0.452426 grad(U)=0.950637\n",
      "downhill: Adam 30 loss=9299.521845 error=9299.437690 grad(V)=0.468848 grad(U)=0.974338\n",
      "downhill: validation 3 loss=9299.281235 error=9299.197225 grad(V)=0.485926 grad(U)=0.998947\n",
      "downhill: Adam 31 loss=9299.281235 error=9299.197225 grad(V)=0.485926 grad(U)=0.998947\n",
      "downhill: Adam 32 loss=9299.038291 error=9298.954424 grad(V)=0.503655 grad(U)=1.024452\n",
      "downhill: Adam 33 loss=9298.792933 error=9298.709205 grad(V)=0.522032 grad(U)=1.050844\n",
      "downhill: Adam 34 loss=9298.545081 error=9298.461491 grad(V)=0.541051 grad(U)=1.078111\n",
      "downhill: Adam 35 loss=9298.294663 error=9298.211208 grad(V)=0.560710 grad(U)=1.106241\n",
      "downhill: Adam 36 loss=9298.041610 error=9297.958287 grad(V)=0.581004 grad(U)=1.135220\n",
      "downhill: Adam 37 loss=9297.785857 error=9297.702665 grad(V)=0.601930 grad(U)=1.165043\n",
      "downhill: Adam 38 loss=9297.527345 error=9297.444280 grad(V)=0.623483 grad(U)=1.195694\n",
      "downhill: Adam 39 loss=9297.266019 error=9297.183080 grad(V)=0.645660 grad(U)=1.227165\n",
      "downhill: Adam 40 loss=9297.001829 error=9296.919012 grad(V)=0.668457 grad(U)=1.259442\n",
      "downhill: validation 4 loss=9296.734727 error=9296.652031 grad(V)=0.691868 grad(U)=1.292516\n",
      "downhill: Adam 41 loss=9296.734727 error=9296.652031 grad(V)=0.691868 grad(U)=1.292516\n",
      "downhill: Adam 42 loss=9296.464672 error=9296.382094 grad(V)=0.715892 grad(U)=1.326374\n",
      "downhill: Adam 43 loss=9296.191625 error=9296.109164 grad(V)=0.740523 grad(U)=1.361005\n",
      "downhill: Adam 44 loss=9295.915551 error=9295.833205 grad(V)=0.765757 grad(U)=1.396400\n",
      "downhill: Adam 45 loss=9295.636420 error=9295.554187 grad(V)=0.791591 grad(U)=1.432545\n",
      "downhill: Adam 46 loss=9295.354203 error=9295.272081 grad(V)=0.818021 grad(U)=1.469432\n",
      "downhill: Adam 47 loss=9295.068876 error=9294.986863 grad(V)=0.845042 grad(U)=1.507048\n",
      "downhill: Adam 48 loss=9294.780416 error=9294.698510 grad(V)=0.872652 grad(U)=1.545379\n",
      "downhill: Adam 49 loss=9294.488805 error=9294.407005 grad(V)=0.900845 grad(U)=1.584425\n",
      "downhill: Adam 50 loss=9294.194026 error=9294.112330 grad(V)=0.929618 grad(U)=1.624170\n",
      "downhill: validation 5 loss=9293.896066 error=9293.814473 grad(V)=0.958968 grad(U)=1.664606\n",
      "downhill: Adam 51 loss=9293.896066 error=9293.814473 grad(V)=0.958968 grad(U)=1.664606\n",
      "downhill: Adam 52 loss=9293.594913 error=9293.513421 grad(V)=0.988890 grad(U)=1.705725\n",
      "downhill: Adam 53 loss=9293.290558 error=9293.209165 grad(V)=1.019380 grad(U)=1.747518\n",
      "downhill: Adam 54 loss=9292.982994 error=9292.901699 grad(V)=1.050435 grad(U)=1.789972\n",
      "downhill: Adam 55 loss=9292.672216 error=9292.591017 grad(V)=1.082051 grad(U)=1.833083\n",
      "downhill: Adam 56 loss=9292.358220 error=9292.277117 grad(V)=1.114223 grad(U)=1.876841\n",
      "downhill: Adam 57 loss=9292.041006 error=9291.959996 grad(V)=1.146948 grad(U)=1.921243\n",
      "downhill: Adam 58 loss=9291.720573 error=9291.639656 grad(V)=1.180223 grad(U)=1.966276\n",
      "downhill: Adam 59 loss=9291.396923 error=9291.316097 grad(V)=1.214042 grad(U)=2.011933\n",
      "downhill: Adam 60 loss=9291.070059 error=9290.989323 grad(V)=1.248402 grad(U)=2.058207\n",
      "downhill: validation 6 loss=9290.739985 error=9290.659337 grad(V)=1.283300 grad(U)=2.105092\n",
      "downhill: patience elapsed!\n",
      "train: 1 of 1 mini-batches from (229, 7200)\n",
      "downhill: compiling evaluation function\n",
      "downhill: compiling Adam optimizer\n",
      "downhill: setting: rms_halflife = 14\n",
      "downhill: setting: rms_regularizer = 1e-08\n",
      "downhill: setting: patience = 5\n",
      "downhill: setting: validate_every = 10\n",
      "downhill: setting: min_improvement = 0.005\n",
      "downhill: setting: max_gradient_norm = 5\n",
      "downhill: setting: max_gradient_elem = 0\n",
      "downhill: setting: learning_rate = TensorConstant{0.001}\n",
      "downhill: setting: momentum = 0\n",
      "downhill: setting: nesterov = False\n",
      "downhill: validation 0 loss=9305.382215 error=9305.292913 grad(U)=0.607881 grad(V)=0.402869 *\n",
      "downhill: Adam 1 loss=9305.382215 error=9305.292913 grad(U)=0.607881 grad(V)=0.402869\n",
      "downhill: Adam 2 loss=9305.281691 error=9305.192479 grad(U)=0.606139 grad(V)=0.403206\n",
      "downhill: Adam 3 loss=9305.146072 error=9305.056981 grad(U)=0.604294 grad(V)=0.403846\n",
      "downhill: Adam 4 loss=9304.987489 error=9304.898540 grad(U)=0.602904 grad(V)=0.404868\n",
      "downhill: Adam 5 loss=9304.812462 error=9304.723669 grad(U)=0.602353 grad(V)=0.406359\n",
      "downhill: Adam 6 loss=9304.625159 error=9304.536533 grad(U)=0.602914 grad(V)=0.408397\n",
      "downhill: Adam 7 loss=9304.428457 error=9304.340005 grad(U)=0.604761 grad(V)=0.411056\n",
      "downhill: Adam 8 loss=9304.224429 error=9304.136156 grad(U)=0.607964 grad(V)=0.414390\n",
      "downhill: Adam 9 loss=9304.014616 error=9303.926527 grad(U)=0.612525 grad(V)=0.418437\n",
      "downhill: Adam 10 loss=9303.800186 error=9303.712282 grad(U)=0.618413 grad(V)=0.423220\n",
      "downhill: validation 1 loss=9303.582029 error=9303.494313 grad(U)=0.625588 grad(V)=0.428752\n",
      "downhill: Adam 11 loss=9303.582029 error=9303.494313 grad(U)=0.625588 grad(V)=0.428752\n",
      "downhill: Adam 12 loss=9303.360833 error=9303.273305 grad(U)=0.634006 grad(V)=0.435042\n",
      "downhill: Adam 13 loss=9303.137122 error=9303.049782 grad(U)=0.643624 grad(V)=0.442094\n",
      "downhill: Adam 14 loss=9302.911293 error=9302.824141 grad(U)=0.654401 grad(V)=0.449912\n",
      "downhill: Adam 15 loss=9302.683645 error=9302.596678 grad(U)=0.666300 grad(V)=0.458495\n",
      "downhill: Adam 16 loss=9302.454393 error=9302.367612 grad(U)=0.679285 grad(V)=0.467841\n",
      "downhill: Adam 17 loss=9302.223692 error=9302.137094 grad(U)=0.693321 grad(V)=0.477944\n",
      "downhill: Adam 18 loss=9301.991645 error=9301.905228 grad(U)=0.708375 grad(V)=0.488799\n",
      "downhill: Adam 19 loss=9301.758316 error=9301.672079 grad(U)=0.724412 grad(V)=0.500395\n",
      "downhill: Adam 20 loss=9301.523738 error=9301.437677 grad(U)=0.741405 grad(V)=0.512723\n",
      "downhill: validation 2 loss=9301.287916 error=9301.202031 grad(U)=0.759322 grad(V)=0.525774\n",
      "downhill: Adam 21 loss=9301.287916 error=9301.202031 grad(U)=0.759322 grad(V)=0.525774\n",
      "downhill: Adam 22 loss=9301.050839 error=9300.965126 grad(U)=0.778135 grad(V)=0.539536\n",
      "downhill: Adam 23 loss=9300.812478 error=9300.726935 grad(U)=0.797818 grad(V)=0.554001\n",
      "downhill: Adam 24 loss=9300.572793 error=9300.487417 grad(U)=0.818345 grad(V)=0.569158\n",
      "downhill: Adam 25 loss=9300.331734 error=9300.246524 grad(U)=0.839687 grad(V)=0.584997\n",
      "downhill: Adam 26 loss=9300.089245 error=9300.004197 grad(U)=0.861825 grad(V)=0.601510\n",
      "downhill: Adam 27 loss=9299.845265 error=9299.760376 grad(U)=0.884737 grad(V)=0.618688\n",
      "downhill: Adam 28 loss=9299.599728 error=9299.514996 grad(U)=0.908404 grad(V)=0.636522\n",
      "downhill: Adam 29 loss=9299.352568 error=9299.267991 grad(U)=0.932804 grad(V)=0.655006\n",
      "downhill: Adam 30 loss=9299.103718 error=9299.019292 grad(U)=0.957919 grad(V)=0.674130\n",
      "downhill: validation 3 loss=9298.853109 error=9298.768833 grad(U)=0.983732 grad(V)=0.693888\n",
      "downhill: Adam 31 loss=9298.853109 error=9298.768833 grad(U)=0.983732 grad(V)=0.693888\n",
      "downhill: Adam 32 loss=9298.600676 error=9298.516546 grad(U)=1.010232 grad(V)=0.714273\n",
      "downhill: Adam 33 loss=9298.346354 error=9298.262368 grad(U)=1.037403 grad(V)=0.735277\n",
      "downhill: Adam 34 loss=9298.090079 error=9298.006236 grad(U)=1.065227 grad(V)=0.756893\n",
      "downhill: Adam 35 loss=9297.831791 error=9297.748087 grad(U)=1.093696 grad(V)=0.779114\n",
      "downhill: Adam 36 loss=9297.571432 error=9297.487865 grad(U)=1.122800 grad(V)=0.801934\n",
      "downhill: Adam 37 loss=9297.308946 error=9297.225513 grad(U)=1.152526 grad(V)=0.825347\n",
      "downhill: Adam 38 loss=9297.044279 error=9296.960978 grad(U)=1.182867 grad(V)=0.849345\n",
      "downhill: Adam 39 loss=9296.777381 error=9296.694210 grad(U)=1.213816 grad(V)=0.873923\n",
      "downhill: Adam 40 loss=9296.508204 error=9296.425160 grad(U)=1.245364 grad(V)=0.899075\n",
      "downhill: validation 4 loss=9296.236703 error=9296.153784 grad(U)=1.277502 grad(V)=0.924796\n",
      "downhill: Adam 41 loss=9296.236703 error=9296.153784 grad(U)=1.277502 grad(V)=0.924796\n",
      "downhill: Adam 42 loss=9295.962834 error=9295.880039 grad(U)=1.310225 grad(V)=0.951079\n",
      "downhill: Adam 43 loss=9295.686557 error=9295.603883 grad(U)=1.343530 grad(V)=0.977921\n",
      "downhill: Adam 44 loss=9295.407834 error=9295.325280 grad(U)=1.377407 grad(V)=1.005315\n",
      "downhill: Adam 45 loss=9295.126630 error=9295.044192 grad(U)=1.411855 grad(V)=1.033258\n",
      "downhill: Adam 46 loss=9294.842909 error=9294.760587 grad(U)=1.446871 grad(V)=1.061744\n",
      "downhill: Adam 47 loss=9294.556641 error=9294.474432 grad(U)=1.482449 grad(V)=1.090770\n",
      "downhill: Adam 48 loss=9294.267796 error=9294.185699 grad(U)=1.518587 grad(V)=1.120331\n",
      "downhill: Adam 49 loss=9293.976346 error=9293.894358 grad(U)=1.555281 grad(V)=1.150423\n",
      "downhill: Adam 50 loss=9293.682265 error=9293.600386 grad(U)=1.592528 grad(V)=1.181043\n",
      "downhill: validation 5 loss=9293.385529 error=9293.303757 grad(U)=1.630323 grad(V)=1.212187\n",
      "downhill: Adam 51 loss=9293.385529 error=9293.303757 grad(U)=1.630323 grad(V)=1.212187\n",
      "downhill: Adam 52 loss=9293.086117 error=9293.004449 grad(U)=1.668667 grad(V)=1.243851\n",
      "downhill: Adam 53 loss=9292.784007 error=9292.702442 grad(U)=1.707559 grad(V)=1.276033\n",
      "downhill: Adam 54 loss=9292.479179 error=9292.397716 grad(U)=1.746992 grad(V)=1.308729\n",
      "downhill: Adam 55 loss=9292.171618 error=9292.090255 grad(U)=1.786965 grad(V)=1.341936\n",
      "downhill: Adam 56 loss=9291.861305 error=9291.780041 grad(U)=1.827479 grad(V)=1.375651\n",
      "downhill: Adam 57 loss=9291.548227 error=9291.467061 grad(U)=1.868528 grad(V)=1.409872\n",
      "downhill: Adam 58 loss=9291.232371 error=9291.151300 grad(U)=1.910113 grad(V)=1.444596\n",
      "downhill: Adam 59 loss=9290.913723 error=9290.832747 grad(U)=1.952228 grad(V)=1.479821\n",
      "downhill: Adam 60 loss=9290.592274 error=9290.511390 grad(U)=1.994875 grad(V)=1.515543\n",
      "downhill: validation 6 loss=9290.268012 error=9290.187221 grad(U)=2.038052 grad(V)=1.551761\n",
      "downhill: patience elapsed!\n",
      "train: 1 of 1 mini-batches from (229, 7200)\n",
      "downhill: compiling evaluation function\n",
      "downhill: compiling Adam optimizer\n",
      "downhill: setting: rms_halflife = 14\n",
      "downhill: setting: rms_regularizer = 1e-08\n",
      "downhill: setting: patience = 5\n",
      "downhill: setting: validate_every = 10\n",
      "downhill: setting: min_improvement = 0.005\n",
      "downhill: setting: max_gradient_norm = 5\n",
      "downhill: setting: max_gradient_elem = 0\n",
      "downhill: setting: learning_rate = TensorConstant{0.001}\n",
      "downhill: setting: momentum = 0\n",
      "downhill: setting: nesterov = False\n",
      "downhill: validation 0 loss=9306.721264 error=9306.631018 grad(V)=0.334848 grad(U)=0.916933 *\n",
      "downhill: Adam 1 loss=9306.721264 error=9306.631018 grad(V)=0.334848 grad(U)=0.916933\n",
      "downhill: Adam 2 loss=9306.617562 error=9306.527408 grad(V)=0.332785 grad(U)=0.916323\n",
      "downhill: Adam 3 loss=9306.477572 error=9306.387540 grad(V)=0.330167 grad(U)=0.915849\n",
      "downhill: Adam 4 loss=9306.313787 error=9306.223899 grad(V)=0.327365 grad(U)=0.915760\n",
      "downhill: Adam 5 loss=9306.132960 error=9306.043230 grad(V)=0.324605 grad(U)=0.916239\n",
      "downhill: Adam 6 loss=9305.939455 error=9305.849893 grad(V)=0.322049 grad(U)=0.917433\n",
      "downhill: Adam 7 loss=9305.736333 error=9305.646949 grad(V)=0.319824 grad(U)=0.919446\n",
      "downhill: Adam 8 loss=9305.525839 error=9305.436636 grad(V)=0.318031 grad(U)=0.922354\n",
      "downhill: Adam 9 loss=9305.309653 error=9305.220636 grad(V)=0.316745 grad(U)=0.926212\n",
      "downhill: Adam 10 loss=9305.089050 error=9305.000220 grad(V)=0.316026 grad(U)=0.931062\n",
      "downhill: validation 1 loss=9304.865002 error=9304.776362 grad(V)=0.315915 grad(U)=0.936927\n",
      "downhill: Adam 11 loss=9304.865002 error=9304.776362 grad(V)=0.315915 grad(U)=0.936927\n",
      "downhill: Adam 12 loss=9304.638255 error=9304.549805 grad(V)=0.316443 grad(U)=0.943826\n",
      "downhill: Adam 13 loss=9304.409376 error=9304.321116 grad(V)=0.317632 grad(U)=0.951759\n",
      "downhill: Adam 14 loss=9304.178794 error=9304.090724 grad(V)=0.319500 grad(U)=0.960724\n",
      "downhill: Adam 15 loss=9303.946832 error=9303.858949 grad(V)=0.322055 grad(U)=0.970716\n",
      "downhill: Adam 16 loss=9303.713724 error=9303.626028 grad(V)=0.325307 grad(U)=0.981725\n",
      "downhill: Adam 17 loss=9303.479637 error=9303.392125 grad(V)=0.329258 grad(U)=0.993737\n",
      "downhill: Adam 18 loss=9303.244686 error=9303.157356 grad(V)=0.333909 grad(U)=1.006741\n",
      "downhill: Adam 19 loss=9303.008941 error=9302.921791 grad(V)=0.339260 grad(U)=1.020718\n",
      "downhill: Adam 20 loss=9302.772439 error=9302.685468 grad(V)=0.345309 grad(U)=1.035655\n",
      "downhill: validation 2 loss=9302.535190 error=9302.448394 grad(V)=0.352053 grad(U)=1.051531\n",
      "downhill: Adam 21 loss=9302.535190 error=9302.448394 grad(V)=0.352053 grad(U)=1.051531\n",
      "downhill: Adam 22 loss=9302.297182 error=9302.210558 grad(V)=0.359487 grad(U)=1.068338\n",
      "downhill: Adam 23 loss=9302.058384 error=9301.971930 grad(V)=0.367608 grad(U)=1.086056\n",
      "downhill: Adam 24 loss=9301.818754 error=9301.732467 grad(V)=0.376411 grad(U)=1.104671\n",
      "downhill: Adam 25 loss=9301.578235 error=9301.492112 grad(V)=0.385892 grad(U)=1.124168\n",
      "downhill: Adam 26 loss=9301.336766 error=9301.250805 grad(V)=0.396046 grad(U)=1.144533\n",
      "downhill: Adam 27 loss=9301.094277 error=9301.008475 grad(V)=0.406867 grad(U)=1.165747\n",
      "downhill: Adam 28 loss=9300.850695 error=9300.765049 grad(V)=0.418350 grad(U)=1.187803\n",
      "downhill: Adam 29 loss=9300.605944 error=9300.520451 grad(V)=0.430491 grad(U)=1.210682\n",
      "downhill: Adam 30 loss=9300.359945 error=9300.274603 grad(V)=0.443283 grad(U)=1.234374\n",
      "downhill: validation 3 loss=9300.112619 error=9300.027425 grad(V)=0.456723 grad(U)=1.258867\n",
      "downhill: Adam 31 loss=9300.112619 error=9300.027425 grad(V)=0.456723 grad(U)=1.258867\n",
      "downhill: Adam 32 loss=9299.863888 error=9299.778839 grad(V)=0.470805 grad(U)=1.284148\n",
      "downhill: Adam 33 loss=9299.613672 error=9299.528766 grad(V)=0.485525 grad(U)=1.310208\n",
      "downhill: Adam 34 loss=9299.361895 error=9299.277129 grad(V)=0.500877 grad(U)=1.337030\n",
      "downhill: Adam 35 loss=9299.108480 error=9299.023852 grad(V)=0.516858 grad(U)=1.364605\n",
      "downhill: Adam 36 loss=9298.853355 error=9298.768862 grad(V)=0.533462 grad(U)=1.392927\n",
      "downhill: Adam 37 loss=9298.596448 error=9298.512088 grad(V)=0.550685 grad(U)=1.421981\n",
      "downhill: Adam 38 loss=9298.337691 error=9298.253461 grad(V)=0.568523 grad(U)=1.451759\n",
      "downhill: Adam 39 loss=9298.077019 error=9297.992917 grad(V)=0.586971 grad(U)=1.482253\n",
      "downhill: Adam 40 loss=9297.814367 error=9297.730391 grad(V)=0.606024 grad(U)=1.513455\n",
      "downhill: validation 4 loss=9297.549677 error=9297.465824 grad(V)=0.625679 grad(U)=1.545352\n",
      "downhill: Adam 41 loss=9297.549677 error=9297.465824 grad(V)=0.625679 grad(U)=1.545352\n",
      "downhill: Adam 42 loss=9297.282891 error=9297.199159 grad(V)=0.645932 grad(U)=1.577937\n",
      "downhill: Adam 43 loss=9297.013954 error=9296.930341 grad(V)=0.666777 grad(U)=1.611202\n",
      "downhill: Adam 44 loss=9296.742814 error=9296.659320 grad(V)=0.688210 grad(U)=1.645140\n",
      "downhill: Adam 45 loss=9296.469424 error=9296.386045 grad(V)=0.710229 grad(U)=1.679739\n",
      "downhill: Adam 46 loss=9296.193737 error=9296.110471 grad(V)=0.732827 grad(U)=1.714995\n",
      "downhill: Adam 47 loss=9295.915708 error=9295.832554 grad(V)=0.756001 grad(U)=1.750898\n",
      "downhill: Adam 48 loss=9295.635298 error=9295.552253 grad(V)=0.779747 grad(U)=1.787446\n",
      "downhill: Adam 49 loss=9295.352466 error=9295.269529 grad(V)=0.804061 grad(U)=1.824632\n",
      "downhill: Adam 50 loss=9295.067176 error=9294.984345 grad(V)=0.828938 grad(U)=1.862452\n",
      "downhill: validation 5 loss=9294.779393 error=9294.696666 grad(V)=0.854374 grad(U)=1.900899\n",
      "downhill: Adam 51 loss=9294.779393 error=9294.696666 grad(V)=0.854374 grad(U)=1.900899\n",
      "downhill: Adam 52 loss=9294.489085 error=9294.406461 grad(V)=0.880365 grad(U)=1.939967\n",
      "downhill: Adam 53 loss=9294.196220 error=9294.113697 grad(V)=0.906907 grad(U)=1.979652\n",
      "downhill: Adam 54 loss=9293.900769 error=9293.818346 grad(V)=0.933995 grad(U)=2.019948\n",
      "downhill: Adam 55 loss=9293.602706 error=9293.520380 grad(V)=0.961627 grad(U)=2.060851\n",
      "downhill: Adam 56 loss=9293.302003 error=9293.219774 grad(V)=0.989797 grad(U)=2.102361\n",
      "downhill: Adam 57 loss=9292.998636 error=9292.916502 grad(V)=1.018501 grad(U)=2.144474\n",
      "downhill: Adam 58 loss=9292.692582 error=9292.610542 grad(V)=1.047736 grad(U)=2.187183\n",
      "downhill: Adam 59 loss=9292.383819 error=9292.301871 grad(V)=1.077498 grad(U)=2.230491\n",
      "downhill: Adam 60 loss=9292.072327 error=9291.990469 grad(V)=1.107782 grad(U)=2.274390\n",
      "downhill: validation 6 loss=9291.758085 error=9291.676317 grad(V)=1.138586 grad(U)=2.318881\n",
      "downhill: patience elapsed!\n",
      "train: 1 of 1 mini-batches from (229, 7200)\n",
      "downhill: compiling evaluation function\n",
      "downhill: compiling Adam optimizer\n",
      "downhill: setting: rms_halflife = 14\n",
      "downhill: setting: rms_regularizer = 1e-08\n",
      "downhill: setting: patience = 5\n",
      "downhill: setting: validate_every = 10\n",
      "downhill: setting: min_improvement = 0.005\n",
      "downhill: setting: max_gradient_norm = 5\n",
      "downhill: setting: max_gradient_elem = 0\n",
      "downhill: setting: learning_rate = TensorConstant{0.001}\n",
      "downhill: setting: momentum = 0\n",
      "downhill: setting: nesterov = False\n",
      "downhill: validation 0 loss=9305.733011 error=9305.643478 grad(V)=0.400580 grad(U)=0.646305 *\n",
      "downhill: Adam 1 loss=9305.733011 error=9305.643478 grad(V)=0.400580 grad(U)=0.646305\n",
      "downhill: Adam 2 loss=9305.631458 error=9305.542014 grad(V)=0.400180 grad(U)=0.644536\n",
      "downhill: Adam 3 loss=9305.494567 error=9305.405244 grad(V)=0.399829 grad(U)=0.642457\n",
      "downhill: Adam 4 loss=9305.334704 error=9305.245522 grad(V)=0.399729 grad(U)=0.640515\n",
      "downhill: Adam 5 loss=9305.158563 error=9305.069536 grad(V)=0.400049 grad(U)=0.639003\n",
      "downhill: Adam 6 loss=9304.970462 error=9304.881601 grad(V)=0.400917 grad(U)=0.638169\n",
      "downhill: Adam 7 loss=9304.773396 error=9304.684708 grad(V)=0.402422 grad(U)=0.638205\n",
      "downhill: Adam 8 loss=9304.569522 error=9304.481012 grad(V)=0.404627 grad(U)=0.639258\n",
      "downhill: Adam 9 loss=9304.360421 error=9304.272093 grad(V)=0.407579 grad(U)=0.641428\n",
      "downhill: Adam 10 loss=9304.147257 error=9304.059113 grad(V)=0.411312 grad(U)=0.644784\n",
      "downhill: validation 1 loss=9303.930883 error=9303.842925 grad(V)=0.415851 grad(U)=0.649359\n",
      "downhill: Adam 11 loss=9303.930883 error=9303.842925 grad(V)=0.415851 grad(U)=0.649359\n",
      "downhill: Adam 12 loss=9303.711923 error=9303.624152 grad(V)=0.421213 grad(U)=0.655164\n",
      "downhill: Adam 13 loss=9303.490826 error=9303.403242 grad(V)=0.427407 grad(U)=0.662193\n",
      "downhill: Adam 14 loss=9303.267908 error=9303.180509 grad(V)=0.434439 grad(U)=0.670433\n",
      "downhill: Adam 15 loss=9303.043383 error=9302.956170 grad(V)=0.442308 grad(U)=0.679856\n",
      "downhill: Adam 16 loss=9302.817393 error=9302.730363 grad(V)=0.451011 grad(U)=0.690432\n",
      "downhill: Adam 17 loss=9302.590020 error=9302.503172 grad(V)=0.460544 grad(U)=0.702129\n",
      "downhill: Adam 18 loss=9302.361303 error=9302.274635 grad(V)=0.470901 grad(U)=0.714913\n",
      "downhill: Adam 19 loss=9302.131247 error=9302.044756 grad(V)=0.482077 grad(U)=0.728756\n",
      "downhill: Adam 20 loss=9301.899831 error=9301.813515 grad(V)=0.494064 grad(U)=0.743626\n",
      "downhill: validation 2 loss=9301.667014 error=9301.580871 grad(V)=0.506857 grad(U)=0.759494\n",
      "downhill: Adam 21 loss=9301.667014 error=9301.580871 grad(V)=0.506857 grad(U)=0.759494\n",
      "downhill: Adam 22 loss=9301.432740 error=9301.346768 grad(V)=0.520449 grad(U)=0.776336\n",
      "downhill: Adam 23 loss=9301.196943 error=9301.111138 grad(V)=0.534835 grad(U)=0.794129\n",
      "downhill: Adam 24 loss=9300.959545 error=9300.873905 grad(V)=0.550007 grad(U)=0.812854\n",
      "downhill: Adam 25 loss=9300.720465 error=9300.634987 grad(V)=0.565962 grad(U)=0.832492\n",
      "downhill: Adam 26 loss=9300.479617 error=9300.394298 grad(V)=0.582692 grad(U)=0.853026\n",
      "downhill: Adam 27 loss=9300.236910 error=9300.151748 grad(V)=0.600192 grad(U)=0.874442\n",
      "downhill: Adam 28 loss=9299.992257 error=9299.907247 grad(V)=0.618456 grad(U)=0.896725\n",
      "downhill: Adam 29 loss=9299.745565 error=9299.660707 grad(V)=0.637480 grad(U)=0.919862\n",
      "downhill: Adam 30 loss=9299.496748 error=9299.412037 grad(V)=0.657256 grad(U)=0.943841\n",
      "downhill: validation 3 loss=9299.245717 error=9299.161151 grad(V)=0.677780 grad(U)=0.968646\n",
      "downhill: Adam 31 loss=9299.245717 error=9299.161151 grad(V)=0.677780 grad(U)=0.968646\n",
      "downhill: Adam 32 loss=9298.992391 error=9298.907966 grad(V)=0.699045 grad(U)=0.994266\n",
      "downhill: Adam 33 loss=9298.736687 error=9298.652402 grad(V)=0.721045 grad(U)=1.020687\n",
      "downhill: Adam 34 loss=9298.478531 error=9298.394384 grad(V)=0.743773 grad(U)=1.047897\n",
      "downhill: Adam 35 loss=9298.217852 error=9298.133838 grad(V)=0.767222 grad(U)=1.075885\n",
      "downhill: Adam 36 loss=9297.954581 error=9297.870699 grad(V)=0.791383 grad(U)=1.104641\n",
      "downhill: Adam 37 loss=9297.688658 error=9297.604904 grad(V)=0.816251 grad(U)=1.134149\n",
      "downhill: Adam 38 loss=9297.420022 error=9297.336395 grad(V)=0.841816 grad(U)=1.164400\n",
      "downhill: Adam 39 loss=9297.148622 error=9297.065118 grad(V)=0.868070 grad(U)=1.195387\n",
      "downhill: Adam 40 loss=9296.874406 error=9296.791024 grad(V)=0.895007 grad(U)=1.227099\n",
      "downhill: validation 4 loss=9296.597329 error=9296.514066 grad(V)=0.922617 grad(U)=1.259525\n",
      "downhill: Adam 41 loss=9296.597329 error=9296.514066 grad(V)=0.922617 grad(U)=1.259525\n",
      "downhill: Adam 42 loss=9296.317349 error=9296.234202 grad(V)=0.950893 grad(U)=1.292660\n",
      "downhill: Adam 43 loss=9296.034427 error=9295.951395 grad(V)=0.979828 grad(U)=1.326495\n",
      "downhill: Adam 44 loss=9295.748528 error=9295.665609 grad(V)=1.009413 grad(U)=1.361018\n",
      "downhill: Adam 45 loss=9295.459621 error=9295.376812 grad(V)=1.039641 grad(U)=1.396225\n",
      "downhill: Adam 46 loss=9295.167676 error=9295.084975 grad(V)=1.070504 grad(U)=1.432111\n",
      "downhill: Adam 47 loss=9294.872667 error=9294.790073 grad(V)=1.101996 grad(U)=1.468664\n",
      "downhill: Adam 48 loss=9294.574573 error=9294.492083 grad(V)=1.134109 grad(U)=1.505878\n",
      "downhill: Adam 49 loss=9294.273371 error=9294.190984 grad(V)=1.166837 grad(U)=1.543753\n",
      "downhill: Adam 50 loss=9293.969044 error=9293.886759 grad(V)=1.200173 grad(U)=1.582277\n",
      "downhill: validation 5 loss=9293.661578 error=9293.579391 grad(V)=1.234110 grad(U)=1.621443\n",
      "downhill: Adam 51 loss=9293.661578 error=9293.579391 grad(V)=1.234110 grad(U)=1.621443\n",
      "downhill: Adam 52 loss=9293.350957 error=9293.268868 grad(V)=1.268642 grad(U)=1.661251\n",
      "downhill: Adam 53 loss=9293.037172 error=9292.955179 grad(V)=1.303763 grad(U)=1.701688\n",
      "downhill: Adam 54 loss=9292.720212 error=9292.638314 grad(V)=1.339467 grad(U)=1.742756\n",
      "downhill: Adam 55 loss=9292.400072 error=9292.318266 grad(V)=1.375749 grad(U)=1.784445\n",
      "downhill: Adam 56 loss=9292.076744 error=9291.995030 grad(V)=1.412602 grad(U)=1.826751\n",
      "downhill: Adam 57 loss=9291.750225 error=9291.668601 grad(V)=1.450022 grad(U)=1.869669\n",
      "downhill: Adam 58 loss=9291.420512 error=9291.338977 grad(V)=1.488003 grad(U)=1.913194\n",
      "downhill: Adam 59 loss=9291.087605 error=9291.006157 grad(V)=1.526540 grad(U)=1.957323\n",
      "downhill: Adam 60 loss=9290.751505 error=9290.670142 grad(V)=1.565628 grad(U)=2.002048\n",
      "downhill: validation 6 loss=9290.412211 error=9290.330934 grad(V)=1.605263 grad(U)=2.047364\n",
      "downhill: patience elapsed!\n",
      "train: 1 of 1 mini-batches from (229, 7200)\n",
      "downhill: compiling evaluation function\n",
      "downhill: compiling Adam optimizer\n",
      "downhill: setting: rms_halflife = 14\n",
      "downhill: setting: rms_regularizer = 1e-08\n",
      "downhill: setting: patience = 5\n",
      "downhill: setting: validate_every = 10\n",
      "downhill: setting: min_improvement = 0.005\n",
      "downhill: setting: max_gradient_norm = 5\n",
      "downhill: setting: max_gradient_elem = 0\n",
      "downhill: setting: learning_rate = TensorConstant{0.001}\n",
      "downhill: setting: momentum = 0\n",
      "downhill: setting: nesterov = False\n",
      "downhill: validation 0 loss=9307.494032 error=9307.403676 grad(V)=0.560215 grad(U)=0.877499 *\n",
      "downhill: Adam 1 loss=9307.494032 error=9307.403676 grad(V)=0.560215 grad(U)=0.877499\n",
      "downhill: Adam 2 loss=9307.383885 error=9307.293618 grad(V)=0.556419 grad(U)=0.872846\n",
      "downhill: Adam 3 loss=9307.235617 error=9307.145470 grad(V)=0.551495 grad(U)=0.866847\n",
      "downhill: Adam 4 loss=9307.062780 error=9306.972774 grad(V)=0.546044 grad(U)=0.860265\n",
      "downhill: Adam 5 loss=9306.872768 error=9306.782917 grad(V)=0.540418 grad(U)=0.853571\n",
      "downhill: Adam 6 loss=9306.670394 error=9306.580708 grad(V)=0.534869 grad(U)=0.847105\n",
      "downhill: Adam 7 loss=9306.459047 error=9306.369535 grad(V)=0.529592 grad(U)=0.841112\n",
      "downhill: Adam 8 loss=9306.241216 error=9306.151883 grad(V)=0.524723 grad(U)=0.835778\n",
      "downhill: Adam 9 loss=9306.018765 error=9305.929615 grad(V)=0.520363 grad(U)=0.831258\n",
      "downhill: Adam 10 loss=9305.793107 error=9305.704143 grad(V)=0.516588 grad(U)=0.827661\n",
      "downhill: validation 1 loss=9305.565312 error=9305.476535 grad(V)=0.513456 grad(U)=0.825075\n",
      "downhill: Adam 11 loss=9305.565312 error=9305.476535 grad(V)=0.513456 grad(U)=0.825075\n",
      "downhill: Adam 12 loss=9305.336190 error=9305.247601 grad(V)=0.511012 grad(U)=0.823564\n",
      "downhill: Adam 13 loss=9305.106343 error=9305.017942 grad(V)=0.509290 grad(U)=0.823171\n",
      "downhill: Adam 14 loss=9304.876211 error=9304.787998 grad(V)=0.508317 grad(U)=0.823924\n",
      "downhill: Adam 15 loss=9304.646102 error=9304.558077 grad(V)=0.508111 grad(U)=0.825840\n",
      "downhill: Adam 16 loss=9304.416223 error=9304.328383 grad(V)=0.508685 grad(U)=0.828928\n",
      "downhill: Adam 17 loss=9304.186695 error=9304.099039 grad(V)=0.510045 grad(U)=0.833185\n",
      "downhill: Adam 18 loss=9303.957576 error=9303.870102 grad(V)=0.512195 grad(U)=0.838606\n",
      "downhill: Adam 19 loss=9303.728871 error=9303.641577 grad(V)=0.515135 grad(U)=0.845179\n",
      "downhill: Adam 20 loss=9303.500548 error=9303.413431 grad(V)=0.518863 grad(U)=0.852888\n",
      "downhill: validation 2 loss=9303.272543 error=9303.185603 grad(V)=0.523373 grad(U)=0.861719\n",
      "downhill: Adam 21 loss=9303.272543 error=9303.185603 grad(V)=0.523373 grad(U)=0.861719\n",
      "downhill: Adam 22 loss=9303.044773 error=9302.958005 grad(V)=0.528659 grad(U)=0.871649\n",
      "downhill: Adam 23 loss=9302.817136 error=9302.730539 grad(V)=0.534713 grad(U)=0.882659\n",
      "downhill: Adam 24 loss=9302.589520 error=9302.503091 grad(V)=0.541528 grad(U)=0.894725\n",
      "downhill: Adam 25 loss=9302.361806 error=9302.275543 grad(V)=0.549093 grad(U)=0.907823\n",
      "downhill: Adam 26 loss=9302.133870 error=9302.047770 grad(V)=0.557401 grad(U)=0.921934\n",
      "downhill: Adam 27 loss=9301.905585 error=9301.819644 grad(V)=0.566442 grad(U)=0.937031\n",
      "downhill: Adam 28 loss=9301.676823 error=9301.591040 grad(V)=0.576209 grad(U)=0.953092\n",
      "downhill: Adam 29 loss=9301.447457 error=9301.361828 grad(V)=0.586693 grad(U)=0.970098\n",
      "downhill: Adam 30 loss=9301.217361 error=9301.131883 grad(V)=0.597886 grad(U)=0.988024\n",
      "downhill: validation 3 loss=9300.986410 error=9300.901083 grad(V)=0.609780 grad(U)=1.006850\n",
      "downhill: Adam 31 loss=9300.986410 error=9300.901083 grad(V)=0.609780 grad(U)=1.006850\n",
      "downhill: Adam 32 loss=9300.754486 error=9300.669305 grad(V)=0.622369 grad(U)=1.026556\n",
      "downhill: Adam 33 loss=9300.521470 error=9300.436433 grad(V)=0.635644 grad(U)=1.047120\n",
      "downhill: Adam 34 loss=9300.287248 error=9300.202353 grad(V)=0.649600 grad(U)=1.068522\n",
      "downhill: Adam 35 loss=9300.051713 error=9299.966956 grad(V)=0.664229 grad(U)=1.090750\n",
      "downhill: Adam 36 loss=9299.814758 error=9299.730138 grad(V)=0.679525 grad(U)=1.113782\n",
      "downhill: Adam 37 loss=9299.576284 error=9299.491798 grad(V)=0.695481 grad(U)=1.137599\n",
      "downhill: Adam 38 loss=9299.336195 error=9299.251841 grad(V)=0.712091 grad(U)=1.162190\n",
      "downhill: Adam 39 loss=9299.094399 error=9299.010174 grad(V)=0.729348 grad(U)=1.187538\n",
      "downhill: Adam 40 loss=9298.850811 error=9298.766713 grad(V)=0.747246 grad(U)=1.213629\n",
      "downhill: validation 4 loss=9298.605347 error=9298.521374 grad(V)=0.765779 grad(U)=1.240449\n",
      "downhill: Adam 41 loss=9298.605347 error=9298.521374 grad(V)=0.765779 grad(U)=1.240449\n",
      "downhill: Adam 42 loss=9298.357929 error=9298.274080 grad(V)=0.784942 grad(U)=1.267986\n",
      "downhill: Adam 43 loss=9298.108485 error=9298.024756 grad(V)=0.804727 grad(U)=1.296230\n",
      "downhill: Adam 44 loss=9297.856944 error=9297.773334 grad(V)=0.825129 grad(U)=1.325170\n",
      "downhill: Adam 45 loss=9297.603240 error=9297.519748 grad(V)=0.846143 grad(U)=1.354794\n",
      "downhill: Adam 46 loss=9297.347313 error=9297.263936 grad(V)=0.867764 grad(U)=1.385092\n",
      "downhill: Adam 47 loss=9297.089104 error=9297.005840 grad(V)=0.889985 grad(U)=1.416057\n",
      "downhill: Adam 48 loss=9296.828560 error=9296.745406 grad(V)=0.912801 grad(U)=1.447679\n",
      "downhill: Adam 49 loss=9296.565628 error=9296.482584 grad(V)=0.936207 grad(U)=1.479952\n",
      "downhill: Adam 50 loss=9296.300263 error=9296.217325 grad(V)=0.960200 grad(U)=1.512865\n",
      "downhill: validation 5 loss=9296.032419 error=9295.949587 grad(V)=0.984772 grad(U)=1.546414\n",
      "downhill: Adam 51 loss=9296.032419 error=9295.949587 grad(V)=0.984772 grad(U)=1.546414\n",
      "downhill: Adam 52 loss=9295.762056 error=9295.679328 grad(V)=1.009921 grad(U)=1.580591\n",
      "downhill: Adam 53 loss=9295.489135 error=9295.406509 grad(V)=1.035640 grad(U)=1.615392\n",
      "downhill: Adam 54 loss=9295.213621 error=9295.131096 grad(V)=1.061927 grad(U)=1.650808\n",
      "downhill: Adam 55 loss=9294.935482 error=9294.853056 grad(V)=1.088776 grad(U)=1.686831\n",
      "downhill: Adam 56 loss=9294.654687 error=9294.572358 grad(V)=1.116184 grad(U)=1.723460\n",
      "downhill: Adam 57 loss=9294.371208 error=9294.288975 grad(V)=1.144147 grad(U)=1.760690\n",
      "downhill: Adam 58 loss=9294.085018 error=9294.002880 grad(V)=1.172660 grad(U)=1.798511\n",
      "downhill: Adam 59 loss=9293.796096 error=9293.714051 grad(V)=1.201720 grad(U)=1.836922\n",
      "downhill: Adam 60 loss=9293.504419 error=9293.422465 grad(V)=1.231323 grad(U)=1.875919\n",
      "downhill: validation 6 loss=9293.209966 error=9293.128103 grad(V)=1.261466 grad(U)=1.915494\n",
      "downhill: patience elapsed!\n",
      "train: 1 of 1 mini-batches from (229, 7200)\n",
      "downhill: compiling evaluation function\n",
      "downhill: compiling Adam optimizer\n",
      "downhill: setting: rms_halflife = 14\n",
      "downhill: setting: rms_regularizer = 1e-08\n",
      "downhill: setting: patience = 5\n",
      "downhill: setting: validate_every = 10\n",
      "downhill: setting: min_improvement = 0.005\n",
      "downhill: setting: max_gradient_norm = 5\n",
      "downhill: setting: max_gradient_elem = 0\n",
      "downhill: setting: learning_rate = TensorConstant{0.001}\n",
      "downhill: setting: momentum = 0\n",
      "downhill: setting: nesterov = False\n",
      "downhill: validation 0 loss=9305.592606 error=9305.503133 grad(V)=0.216062 grad(U)=0.627267 *\n",
      "downhill: Adam 1 loss=9305.592606 error=9305.503133 grad(V)=0.216062 grad(U)=0.627267\n",
      "downhill: Adam 2 loss=9305.502413 error=9305.413037 grad(V)=0.215729 grad(U)=0.624012\n",
      "downhill: Adam 3 loss=9305.380912 error=9305.291666 grad(V)=0.215455 grad(U)=0.619995\n",
      "downhill: Adam 4 loss=9305.239108 error=9305.150016 grad(V)=0.215409 grad(U)=0.615891\n",
      "downhill: Adam 5 loss=9305.082942 error=9304.994018 grad(V)=0.215697 grad(U)=0.612168\n",
      "downhill: Adam 6 loss=9304.916217 error=9304.827473 grad(V)=0.216396 grad(U)=0.609169\n",
      "downhill: Adam 7 loss=9304.741554 error=9304.652997 grad(V)=0.217572 grad(U)=0.607138\n",
      "downhill: Adam 8 loss=9304.560822 error=9304.472459 grad(V)=0.219282 grad(U)=0.606238\n",
      "downhill: Adam 9 loss=9304.375384 error=9304.287219 grad(V)=0.221573 grad(U)=0.606574\n",
      "downhill: Adam 10 loss=9304.186240 error=9304.098275 grad(V)=0.224480 grad(U)=0.608206\n",
      "downhill: validation 1 loss=9303.994129 error=9303.906366 grad(V)=0.228025 grad(U)=0.611165\n",
      "downhill: Adam 11 loss=9303.994129 error=9303.906366 grad(V)=0.228025 grad(U)=0.611165\n",
      "downhill: Adam 12 loss=9303.799589 error=9303.712029 grad(V)=0.232228 grad(U)=0.615463\n",
      "downhill: Adam 13 loss=9303.603012 error=9303.515654 grad(V)=0.237104 grad(U)=0.621090\n",
      "downhill: Adam 14 loss=9303.404669 error=9303.317512 grad(V)=0.242664 grad(U)=0.628038\n",
      "downhill: Adam 15 loss=9303.204743 error=9303.117786 grad(V)=0.248920 grad(U)=0.636283\n",
      "downhill: Adam 16 loss=9303.003343 error=9302.916584 grad(V)=0.255877 grad(U)=0.645801\n",
      "downhill: Adam 17 loss=9302.800522 error=9302.713959 grad(V)=0.263542 grad(U)=0.656575\n",
      "downhill: Adam 18 loss=9302.596287 error=9302.509918 grad(V)=0.271918 grad(U)=0.668582\n",
      "downhill: Adam 19 loss=9302.390610 error=9302.304431 grad(V)=0.281006 grad(U)=0.681803\n",
      "downhill: Adam 20 loss=9302.183432 error=9302.097441 grad(V)=0.290809 grad(U)=0.696220\n",
      "downhill: validation 2 loss=9301.974675 error=9301.888868 grad(V)=0.301327 grad(U)=0.711809\n",
      "downhill: Adam 21 loss=9301.974675 error=9301.888868 grad(V)=0.301327 grad(U)=0.711809\n",
      "downhill: Adam 22 loss=9301.764241 error=9301.678615 grad(V)=0.312559 grad(U)=0.728560\n",
      "downhill: Adam 23 loss=9301.552021 error=9301.466574 grad(V)=0.324506 grad(U)=0.746450\n",
      "downhill: Adam 24 loss=9301.337900 error=9301.252627 grad(V)=0.337169 grad(U)=0.765458\n",
      "downhill: Adam 25 loss=9301.121756 error=9301.036654 grad(V)=0.350545 grad(U)=0.785564\n",
      "downhill: Adam 26 loss=9300.903466 error=9300.818532 grad(V)=0.364637 grad(U)=0.806748\n",
      "downhill: Adam 27 loss=9300.682908 error=9300.598139 grad(V)=0.379442 grad(U)=0.828983\n",
      "downhill: Adam 28 loss=9300.459964 error=9300.375356 grad(V)=0.394961 grad(U)=0.852249\n",
      "downhill: Adam 29 loss=9300.234517 error=9300.150068 grad(V)=0.411193 grad(U)=0.876526\n",
      "downhill: Adam 30 loss=9300.006459 error=9299.922164 grad(V)=0.428137 grad(U)=0.901791\n",
      "downhill: validation 3 loss=9299.775683 error=9299.691539 grad(V)=0.445793 grad(U)=0.928020\n",
      "downhill: Adam 31 loss=9299.775683 error=9299.691539 grad(V)=0.445793 grad(U)=0.928020\n",
      "downhill: Adam 32 loss=9299.542090 error=9299.458095 grad(V)=0.464158 grad(U)=0.955194\n",
      "downhill: Adam 33 loss=9299.305588 error=9299.221738 grad(V)=0.483233 grad(U)=0.983294\n",
      "downhill: Adam 34 loss=9299.066087 error=9298.982379 grad(V)=0.503015 grad(U)=1.012302\n",
      "downhill: Adam 35 loss=9298.823505 error=9298.739937 grad(V)=0.523503 grad(U)=1.042200\n",
      "downhill: Adam 36 loss=9298.577765 error=9298.494333 grad(V)=0.544696 grad(U)=1.072974\n",
      "downhill: Adam 37 loss=9298.328793 error=9298.245494 grad(V)=0.566593 grad(U)=1.104607\n",
      "downhill: Adam 38 loss=9298.076519 error=9297.993351 grad(V)=0.589192 grad(U)=1.137091\n",
      "downhill: Adam 39 loss=9297.820881 error=9297.737841 grad(V)=0.612492 grad(U)=1.170409\n",
      "downhill: Adam 40 loss=9297.561818 error=9297.478903 grad(V)=0.636491 grad(U)=1.204550\n",
      "downhill: validation 4 loss=9297.299273 error=9297.216480 grad(V)=0.661188 grad(U)=1.239509\n",
      "downhill: Adam 41 loss=9297.299273 error=9297.216480 grad(V)=0.661188 grad(U)=1.239509\n",
      "downhill: Adam 42 loss=9297.033193 error=9296.950520 grad(V)=0.686581 grad(U)=1.275272\n",
      "downhill: Adam 43 loss=9296.763530 error=9296.680975 grad(V)=0.712667 grad(U)=1.311832\n",
      "downhill: Adam 44 loss=9296.490240 error=9296.407800 grad(V)=0.739446 grad(U)=1.349183\n",
      "downhill: Adam 45 loss=9296.213281 error=9296.130954 grad(V)=0.766915 grad(U)=1.387313\n",
      "downhill: Adam 46 loss=9295.932617 error=9295.850401 grad(V)=0.795071 grad(U)=1.426214\n",
      "downhill: Adam 47 loss=9295.648215 error=9295.566107 grad(V)=0.823911 grad(U)=1.465882\n",
      "downhill: Adam 48 loss=9295.360044 error=9295.278043 grad(V)=0.853433 grad(U)=1.506309\n",
      "downhill: Adam 49 loss=9295.068080 error=9294.986183 grad(V)=0.883634 grad(U)=1.547488\n",
      "downhill: Adam 50 loss=9294.772301 error=9294.690506 grad(V)=0.914510 grad(U)=1.589412\n",
      "downhill: validation 5 loss=9294.472687 error=9294.390993 grad(V)=0.946058 grad(U)=1.632073\n",
      "downhill: Adam 51 loss=9294.472687 error=9294.390993 grad(V)=0.946058 grad(U)=1.632073\n",
      "downhill: Adam 52 loss=9294.169224 error=9294.087629 grad(V)=0.978274 grad(U)=1.675464\n",
      "downhill: Adam 53 loss=9293.861899 error=9293.780402 grad(V)=1.011154 grad(U)=1.719579\n",
      "downhill: Adam 54 loss=9293.550705 error=9293.469303 grad(V)=1.044694 grad(U)=1.764411\n",
      "downhill: Adam 55 loss=9293.235634 error=9293.154326 grad(V)=1.078891 grad(U)=1.809953\n",
      "downhill: Adam 56 loss=9292.916685 error=9292.835469 grad(V)=1.113739 grad(U)=1.856197\n",
      "downhill: Adam 57 loss=9292.593856 error=9292.512731 grad(V)=1.149234 grad(U)=1.903140\n",
      "downhill: Adam 58 loss=9292.267150 error=9292.186114 grad(V)=1.185372 grad(U)=1.950768\n",
      "downhill: Adam 59 loss=9291.936570 error=9291.855622 grad(V)=1.222149 grad(U)=1.999085\n",
      "downhill: Adam 60 loss=9291.602124 error=9291.521262 grad(V)=1.259559 grad(U)=2.048072\n",
      "downhill: validation 6 loss=9291.263820 error=9291.183042 grad(V)=1.297598 grad(U)=2.097732\n",
      "downhill: patience elapsed!\n",
      "train: 1 of 1 mini-batches from (229, 7200)\n",
      "downhill: compiling evaluation function\n",
      "downhill: compiling Adam optimizer\n",
      "downhill: setting: rms_halflife = 14\n",
      "downhill: setting: rms_regularizer = 1e-08\n",
      "downhill: setting: patience = 5\n",
      "downhill: setting: validate_every = 10\n",
      "downhill: setting: min_improvement = 0.005\n",
      "downhill: setting: max_gradient_norm = 5\n",
      "downhill: setting: max_gradient_elem = 0\n",
      "downhill: setting: learning_rate = TensorConstant{0.001}\n",
      "downhill: setting: momentum = 0\n",
      "downhill: setting: nesterov = False\n",
      "downhill: validation 0 loss=9305.686695 error=9305.597187 grad(V)=0.270563 grad(U)=0.734311 *\n",
      "downhill: Adam 1 loss=9305.686695 error=9305.597187 grad(V)=0.270563 grad(U)=0.734311\n",
      "downhill: Adam 2 loss=9305.589218 error=9305.499800 grad(V)=0.270723 grad(U)=0.733201\n",
      "downhill: Adam 3 loss=9305.457620 error=9305.368323 grad(V)=0.271137 grad(U)=0.732035\n",
      "downhill: Adam 4 loss=9305.303628 error=9305.214472 grad(V)=0.271935 grad(U)=0.731136\n",
      "downhill: Adam 5 loss=9305.133559 error=9305.044558 grad(V)=0.273210 grad(U)=0.730712\n",
      "downhill: Adam 6 loss=9304.951490 error=9304.862655 grad(V)=0.275029 grad(U)=0.730914\n",
      "downhill: Adam 7 loss=9304.760276 error=9304.671613 grad(V)=0.277447 grad(U)=0.731853\n",
      "downhill: Adam 8 loss=9304.561999 error=9304.473515 grad(V)=0.280516 grad(U)=0.733613\n",
      "downhill: Adam 9 loss=9304.358223 error=9304.269921 grad(V)=0.284275 grad(U)=0.736248\n",
      "downhill: Adam 10 loss=9304.150132 error=9304.062013 grad(V)=0.288751 grad(U)=0.739812\n",
      "downhill: validation 1 loss=9303.938627 error=9303.850693 grad(V)=0.293963 grad(U)=0.744341\n",
      "downhill: Adam 11 loss=9303.938627 error=9303.850693 grad(V)=0.293963 grad(U)=0.744341\n",
      "downhill: Adam 12 loss=9303.724392 error=9303.636645 grad(V)=0.299923 grad(U)=0.749870\n",
      "downhill: Adam 13 loss=9303.507940 error=9303.420379 grad(V)=0.306638 grad(U)=0.756424\n",
      "downhill: Adam 14 loss=9303.289646 error=9303.202270 grad(V)=0.314114 grad(U)=0.764025\n",
      "downhill: Adam 15 loss=9303.069774 error=9302.982583 grad(V)=0.322352 grad(U)=0.772692\n",
      "downhill: Adam 16 loss=9302.848502 error=9302.761493 grad(V)=0.331354 grad(U)=0.782438\n",
      "downhill: Adam 17 loss=9302.625934 error=9302.539106 grad(V)=0.341115 grad(U)=0.793277\n",
      "downhill: Adam 18 loss=9302.402118 error=9302.315469 grad(V)=0.351635 grad(U)=0.805214\n",
      "downhill: Adam 19 loss=9302.177055 error=9302.090582 grad(V)=0.362909 grad(U)=0.818258\n",
      "downhill: Adam 20 loss=9301.950710 error=9301.864411 grad(V)=0.374934 grad(U)=0.832415\n",
      "downhill: validation 2 loss=9301.723019 error=9301.636892 grad(V)=0.387703 grad(U)=0.847684\n",
      "downhill: Adam 21 loss=9301.723019 error=9301.636892 grad(V)=0.387703 grad(U)=0.847684\n",
      "downhill: Adam 22 loss=9301.493898 error=9301.407940 grad(V)=0.401214 grad(U)=0.864071\n",
      "downhill: Adam 23 loss=9301.263248 error=9301.177455 grad(V)=0.415461 grad(U)=0.881569\n",
      "downhill: Adam 24 loss=9301.030958 error=9300.945328 grad(V)=0.430439 grad(U)=0.900173\n",
      "downhill: Adam 25 loss=9300.796914 error=9300.711444 grad(V)=0.446143 grad(U)=0.919880\n",
      "downhill: Adam 26 loss=9300.560997 error=9300.475685 grad(V)=0.462567 grad(U)=0.940680\n",
      "downhill: Adam 27 loss=9300.323090 error=9300.237932 grad(V)=0.479707 grad(U)=0.962568\n",
      "downhill: Adam 28 loss=9300.083074 error=9299.998067 grad(V)=0.497557 grad(U)=0.985532\n",
      "downhill: Adam 29 loss=9299.840836 error=9299.755978 grad(V)=0.516114 grad(U)=1.009559\n",
      "downhill: Adam 30 loss=9299.596264 error=9299.511552 grad(V)=0.535372 grad(U)=1.034637\n",
      "downhill: validation 3 loss=9299.349253 error=9299.264683 grad(V)=0.555327 grad(U)=1.060752\n",
      "downhill: Adam 31 loss=9299.349253 error=9299.264683 grad(V)=0.555327 grad(U)=1.060752\n",
      "downhill: Adam 32 loss=9299.099698 error=9299.015268 grad(V)=0.575975 grad(U)=1.087888\n",
      "downhill: Adam 33 loss=9298.847504 error=9298.763211 grad(V)=0.597313 grad(U)=1.116034\n",
      "downhill: Adam 34 loss=9298.592576 error=9298.508418 grad(V)=0.619337 grad(U)=1.145176\n",
      "downhill: Adam 35 loss=9298.334827 error=9298.250801 grad(V)=0.642043 grad(U)=1.175294\n",
      "downhill: Adam 36 loss=9298.074174 error=9297.990277 grad(V)=0.665428 grad(U)=1.206378\n",
      "downhill: Adam 37 loss=9297.810539 error=9297.726769 grad(V)=0.689489 grad(U)=1.238412\n",
      "downhill: Adam 38 loss=9297.543849 error=9297.460203 grad(V)=0.714222 grad(U)=1.271380\n",
      "downhill: Adam 39 loss=9297.274035 error=9297.190511 grad(V)=0.739625 grad(U)=1.305266\n",
      "downhill: Adam 40 loss=9297.001035 error=9296.917631 grad(V)=0.765694 grad(U)=1.340056\n",
      "downhill: validation 4 loss=9296.724790 error=9296.641504 grad(V)=0.792427 grad(U)=1.375735\n",
      "downhill: Adam 41 loss=9296.724790 error=9296.641504 grad(V)=0.792427 grad(U)=1.375735\n",
      "downhill: Adam 42 loss=9296.445248 error=9296.362077 grad(V)=0.819820 grad(U)=1.412287\n",
      "downhill: Adam 43 loss=9296.162359 error=9296.079302 grad(V)=0.847870 grad(U)=1.449696\n",
      "downhill: Adam 44 loss=9295.876079 error=9295.793133 grad(V)=0.876574 grad(U)=1.487950\n",
      "downhill: Adam 45 loss=9295.586369 error=9295.503532 grad(V)=0.905928 grad(U)=1.527031\n",
      "downhill: Adam 46 loss=9295.293194 error=9295.210465 grad(V)=0.935930 grad(U)=1.566933\n",
      "downhill: Adam 47 loss=9294.996524 error=9294.913899 grad(V)=0.966575 grad(U)=1.607636\n",
      "downhill: Adam 48 loss=9294.696331 error=9294.613810 grad(V)=0.997861 grad(U)=1.649124\n",
      "downhill: Adam 49 loss=9294.392594 error=9294.310175 grad(V)=1.029782 grad(U)=1.691392\n",
      "downhill: Adam 50 loss=9294.085294 error=9294.002975 grad(V)=1.062335 grad(U)=1.734423\n",
      "downhill: validation 5 loss=9293.774416 error=9293.692196 grad(V)=1.095515 grad(U)=1.778207\n",
      "downhill: Adam 51 loss=9293.774416 error=9293.692196 grad(V)=1.095515 grad(U)=1.778207\n",
      "downhill: Adam 52 loss=9293.459950 error=9293.377827 grad(V)=1.129320 grad(U)=1.822727\n",
      "downhill: Adam 53 loss=9293.141887 error=9293.059859 grad(V)=1.163743 grad(U)=1.867971\n",
      "downhill: Adam 54 loss=9292.820224 error=9292.738290 grad(V)=1.198781 grad(U)=1.913933\n",
      "downhill: Adam 55 loss=9292.494957 error=9292.413115 grad(V)=1.234428 grad(U)=1.960601\n",
      "downhill: Adam 56 loss=9292.166087 error=9292.084336 grad(V)=1.270682 grad(U)=2.007957\n",
      "downhill: Adam 57 loss=9291.833617 error=9291.751956 grad(V)=1.307536 grad(U)=2.056000\n",
      "downhill: Adam 58 loss=9291.497554 error=9291.415980 grad(V)=1.344986 grad(U)=2.104715\n",
      "downhill: Adam 59 loss=9291.157903 error=9291.076416 grad(V)=1.383027 grad(U)=2.154093\n",
      "downhill: Adam 60 loss=9290.814673 error=9290.733273 grad(V)=1.421655 grad(U)=2.204123\n",
      "downhill: validation 6 loss=9290.467876 error=9290.386560 grad(V)=1.460865 grad(U)=2.254799\n",
      "downhill: patience elapsed!\n",
      "train: 1 of 1 mini-batches from (229, 7200)\n",
      "downhill: compiling evaluation function\n",
      "downhill: compiling Adam optimizer\n",
      "downhill: setting: rms_halflife = 14\n",
      "downhill: setting: rms_regularizer = 1e-08\n",
      "downhill: setting: patience = 5\n",
      "downhill: setting: validate_every = 10\n",
      "downhill: setting: min_improvement = 0.005\n",
      "downhill: setting: max_gradient_norm = 5\n",
      "downhill: setting: max_gradient_elem = 0\n",
      "downhill: setting: learning_rate = TensorConstant{0.001}\n",
      "downhill: setting: momentum = 0\n",
      "downhill: setting: nesterov = False\n",
      "downhill: validation 0 loss=9305.527896 error=9305.438303 grad(U)=0.613497 grad(V)=0.810110 *\n",
      "downhill: Adam 1 loss=9305.527896 error=9305.438303 grad(U)=0.613497 grad(V)=0.810110\n",
      "downhill: Adam 2 loss=9305.408146 error=9305.318641 grad(U)=0.613400 grad(V)=0.810519\n",
      "downhill: Adam 3 loss=9305.246419 error=9305.157033 grad(U)=0.613624 grad(V)=0.811280\n",
      "downhill: Adam 4 loss=9305.057090 error=9304.967841 grad(U)=0.614400 grad(V)=0.812545\n",
      "downhill: Adam 5 loss=9304.847900 error=9304.758803 grad(U)=0.615913 grad(V)=0.814433\n",
      "downhill: Adam 6 loss=9304.623842 error=9304.534908 grad(U)=0.618301 grad(V)=0.817040\n",
      "downhill: Adam 7 loss=9304.388410 error=9304.299646 grad(U)=0.621666 grad(V)=0.820452\n",
      "downhill: Adam 8 loss=9304.144159 error=9304.055570 grad(U)=0.626073 grad(V)=0.824752\n",
      "downhill: Adam 9 loss=9303.893002 error=9303.804592 grad(U)=0.631573 grad(V)=0.830002\n",
      "downhill: Adam 10 loss=9303.636393 error=9303.548164 grad(U)=0.638199 grad(V)=0.836252\n",
      "downhill: validation 1 loss=9303.375444 error=9303.287397 grad(U)=0.645970 grad(V)=0.843535\n",
      "downhill: Adam 11 loss=9303.375444 error=9303.287397 grad(U)=0.645970 grad(V)=0.843535\n",
      "downhill: Adam 12 loss=9303.111005 error=9303.023142 grad(U)=0.654892 grad(V)=0.851874\n",
      "downhill: Adam 13 loss=9302.843725 error=9302.756046 grad(U)=0.664961 grad(V)=0.861285\n",
      "downhill: Adam 14 loss=9302.574099 error=9302.486602 grad(U)=0.676165 grad(V)=0.871774\n",
      "downhill: Adam 15 loss=9302.302496 error=9302.215181 grad(U)=0.688483 grad(V)=0.883344\n",
      "downhill: Adam 16 loss=9302.029189 error=9301.942054 grad(U)=0.701891 grad(V)=0.895993\n",
      "downhill: Adam 17 loss=9301.754373 error=9301.667417 grad(U)=0.716364 grad(V)=0.909717\n",
      "downhill: Adam 18 loss=9301.478183 error=9301.391403 grad(U)=0.731873 grad(V)=0.924510\n",
      "downhill: Adam 19 loss=9301.200703 error=9301.114097 grad(U)=0.748388 grad(V)=0.940362\n",
      "downhill: Adam 20 loss=9300.921981 error=9300.835546 grad(U)=0.765875 grad(V)=0.957265\n",
      "downhill: validation 2 loss=9300.642033 error=9300.555767 grad(U)=0.784309 grad(V)=0.975206\n",
      "downhill: Adam 21 loss=9300.642033 error=9300.555767 grad(U)=0.784309 grad(V)=0.975206\n",
      "downhill: Adam 22 loss=9300.360852 error=9300.274753 grad(U)=0.803661 grad(V)=0.994174\n",
      "downhill: Adam 23 loss=9300.078412 error=9299.992477 grad(U)=0.823902 grad(V)=1.014156\n",
      "downhill: Adam 24 loss=9299.794673 error=9299.708900 grad(U)=0.845009 grad(V)=1.035140\n",
      "downhill: Adam 25 loss=9299.509583 error=9299.423968 grad(U)=0.866962 grad(V)=1.057112\n",
      "downhill: Adam 26 loss=9299.223081 error=9299.137621 grad(U)=0.889736 grad(V)=1.080059\n",
      "downhill: Adam 27 loss=9298.935100 error=9298.849792 grad(U)=0.913316 grad(V)=1.103968\n",
      "downhill: Adam 28 loss=9298.645566 error=9298.560408 grad(U)=0.937680 grad(V)=1.128826\n",
      "downhill: Adam 29 loss=9298.354403 error=9298.269393 grad(U)=0.962819 grad(V)=1.154621\n",
      "downhill: Adam 30 loss=9298.061534 error=9297.976668 grad(U)=0.988714 grad(V)=1.181340\n",
      "downhill: validation 3 loss=9297.766878 error=9297.682154 grad(U)=1.015350 grad(V)=1.208971\n",
      "downhill: Adam 31 loss=9297.766878 error=9297.682154 grad(U)=1.015350 grad(V)=1.208971\n",
      "downhill: Adam 32 loss=9297.470355 error=9297.385770 grad(U)=1.042719 grad(V)=1.237502\n",
      "downhill: Adam 33 loss=9297.171885 error=9297.087436 grad(U)=1.070811 grad(V)=1.266922\n",
      "downhill: Adam 34 loss=9296.871389 error=9296.787074 grad(U)=1.099613 grad(V)=1.297218\n",
      "downhill: Adam 35 loss=9296.568788 error=9296.484605 grad(U)=1.129116 grad(V)=1.328381\n",
      "downhill: Adam 36 loss=9296.264008 error=9296.179953 grad(U)=1.159315 grad(V)=1.360397\n",
      "downhill: Adam 37 loss=9295.956972 error=9295.873044 grad(U)=1.190200 grad(V)=1.393258\n",
      "downhill: Adam 38 loss=9295.647611 error=9295.563806 grad(U)=1.221765 grad(V)=1.426952\n",
      "downhill: Adam 39 loss=9295.335853 error=9295.252170 grad(U)=1.254003 grad(V)=1.461468\n",
      "downhill: Adam 40 loss=9295.021633 error=9294.938069 grad(U)=1.286907 grad(V)=1.496797\n",
      "downhill: validation 4 loss=9294.704886 error=9294.621440 grad(U)=1.320475 grad(V)=1.532927\n",
      "downhill: Adam 41 loss=9294.704886 error=9294.621440 grad(U)=1.320475 grad(V)=1.532927\n",
      "downhill: Adam 42 loss=9294.385551 error=9294.302220 grad(U)=1.354699 grad(V)=1.569850\n",
      "downhill: Adam 43 loss=9294.063571 error=9293.980352 grad(U)=1.389580 grad(V)=1.607556\n",
      "downhill: Adam 44 loss=9293.738889 error=9293.655780 grad(U)=1.425109 grad(V)=1.646034\n",
      "downhill: Adam 45 loss=9293.411454 error=9293.328454 grad(U)=1.461287 grad(V)=1.685275\n",
      "downhill: Adam 46 loss=9293.081217 error=9292.998324 grad(U)=1.498106 grad(V)=1.725271\n",
      "downhill: Adam 47 loss=9292.748132 error=9292.665344 grad(U)=1.535561 grad(V)=1.766011\n",
      "downhill: Adam 48 loss=9292.412157 error=9292.329471 grad(U)=1.573648 grad(V)=1.807488\n",
      "downhill: Adam 49 loss=9292.073250 error=9291.990666 grad(U)=1.612369 grad(V)=1.849692\n",
      "downhill: Adam 50 loss=9291.731376 error=9291.648891 grad(U)=1.651718 grad(V)=1.892614\n",
      "downhill: validation 5 loss=9291.386501 error=9291.304113 grad(U)=1.691693 grad(V)=1.936247\n",
      "downhill: Adam 51 loss=9291.386501 error=9291.304113 grad(U)=1.691693 grad(V)=1.936247\n",
      "downhill: Adam 52 loss=9291.038592 error=9290.956300 grad(U)=1.732292 grad(V)=1.980582\n",
      "downhill: Adam 53 loss=9290.687621 error=9290.605423 grad(U)=1.773506 grad(V)=2.025611\n",
      "downhill: Adam 54 loss=9290.333563 error=9290.251457 grad(U)=1.815336 grad(V)=2.071327\n",
      "downhill: Adam 55 loss=9289.976393 error=9289.894378 grad(U)=1.857779 grad(V)=2.117721\n",
      "downhill: Adam 56 loss=9289.616090 error=9289.534165 grad(U)=1.900829 grad(V)=2.164786\n",
      "downhill: Adam 57 loss=9289.252636 error=9289.170799 grad(U)=1.944480 grad(V)=2.212516\n",
      "downhill: Adam 58 loss=9288.886014 error=9288.804262 grad(U)=1.988740 grad(V)=2.260901\n",
      "downhill: Adam 59 loss=9288.516208 error=9288.434541 grad(U)=2.033601 grad(V)=2.309937\n",
      "downhill: Adam 60 loss=9288.143205 error=9288.061623 grad(U)=2.079054 grad(V)=2.359615\n",
      "downhill: validation 6 loss=9287.766996 error=9287.685496 grad(U)=2.125100 grad(V)=2.409928\n",
      "downhill: patience elapsed!\n",
      "train: 1 of 1 mini-batches from (229, 7200)\n",
      "downhill: compiling evaluation function\n",
      "downhill: compiling Adam optimizer\n",
      "downhill: setting: rms_halflife = 14\n",
      "downhill: setting: rms_regularizer = 1e-08\n",
      "downhill: setting: patience = 5\n",
      "downhill: setting: validate_every = 10\n",
      "downhill: setting: min_improvement = 0.005\n",
      "downhill: setting: max_gradient_norm = 5\n",
      "downhill: setting: max_gradient_elem = 0\n",
      "downhill: setting: learning_rate = TensorConstant{0.001}\n",
      "downhill: setting: momentum = 0\n",
      "downhill: setting: nesterov = False\n",
      "downhill: validation 0 loss=9306.510633 error=9306.421287 grad(U)=0.866181 grad(V)=0.646702 *\n",
      "downhill: Adam 1 loss=9306.510633 error=9306.421287 grad(U)=0.866181 grad(V)=0.646702\n",
      "downhill: Adam 2 loss=9306.394640 error=9306.305383 grad(U)=0.865631 grad(V)=0.643340\n",
      "downhill: Adam 3 loss=9306.238287 error=9306.149149 grad(U)=0.865213 grad(V)=0.639002\n",
      "downhill: Adam 4 loss=9306.055709 error=9305.966712 grad(U)=0.865220 grad(V)=0.634221\n",
      "downhill: Adam 5 loss=9305.854587 error=9305.765743 grad(U)=0.865845 grad(V)=0.629348\n",
      "downhill: Adam 6 loss=9305.639903 error=9305.551224 grad(U)=0.867236 grad(V)=0.624646\n",
      "downhill: Adam 7 loss=9305.415159 error=9305.326654 grad(U)=0.869504 grad(V)=0.620305\n",
      "downhill: Adam 8 loss=9305.182928 error=9305.094601 grad(U)=0.872725 grad(V)=0.616461\n",
      "downhill: Adam 9 loss=9304.945142 error=9304.856998 grad(U)=0.876961 grad(V)=0.613215\n",
      "downhill: Adam 10 loss=9304.703276 error=9304.615317 grad(U)=0.882242 grad(V)=0.610648\n",
      "downhill: validation 1 loss=9304.458460 error=9304.370689 grad(U)=0.888584 grad(V)=0.608819\n",
      "downhill: Adam 11 loss=9304.458460 error=9304.370689 grad(U)=0.888584 grad(V)=0.608819\n",
      "downhill: Adam 12 loss=9304.211563 error=9304.123980 grad(U)=0.895998 grad(V)=0.607771\n",
      "downhill: Adam 13 loss=9303.963249 error=9303.875855 grad(U)=0.904476 grad(V)=0.607536\n",
      "downhill: Adam 14 loss=9303.714022 error=9303.626818 grad(U)=0.914008 grad(V)=0.608134\n",
      "downhill: Adam 15 loss=9303.464261 error=9303.377246 grad(U)=0.924578 grad(V)=0.609579\n",
      "downhill: Adam 16 loss=9303.214242 error=9303.127414 grad(U)=0.936165 grad(V)=0.611879\n",
      "downhill: Adam 17 loss=9302.964158 error=9302.877517 grad(U)=0.948744 grad(V)=0.615035\n",
      "downhill: Adam 18 loss=9302.714141 error=9302.627684 grad(U)=0.962293 grad(V)=0.619048\n",
      "downhill: Adam 19 loss=9302.464266 error=9302.377992 grad(U)=0.976784 grad(V)=0.623915\n",
      "downhill: Adam 20 loss=9302.214567 error=9302.128474 grad(U)=0.992187 grad(V)=0.629628\n",
      "downhill: validation 2 loss=9301.965044 error=9301.879130 grad(U)=1.008481 grad(V)=0.636181\n",
      "downhill: Adam 21 loss=9301.965044 error=9301.879130 grad(U)=1.008481 grad(V)=0.636181\n",
      "downhill: Adam 22 loss=9301.715669 error=9301.629932 grad(U)=1.025637 grad(V)=0.643563\n",
      "downhill: Adam 23 loss=9301.466392 error=9301.380830 grad(U)=1.043629 grad(V)=0.651764\n",
      "downhill: Adam 24 loss=9301.217148 error=9301.131758 grad(U)=1.062434 grad(V)=0.660773\n",
      "downhill: Adam 25 loss=9300.967857 error=9300.882637 grad(U)=1.082027 grad(V)=0.670577\n",
      "downhill: Adam 26 loss=9300.718431 error=9300.633379 grad(U)=1.102391 grad(V)=0.681163\n",
      "downhill: Adam 27 loss=9300.468774 error=9300.383887 grad(U)=1.123501 grad(V)=0.692519\n",
      "downhill: Adam 28 loss=9300.218787 error=9300.134063 grad(U)=1.145343 grad(V)=0.704630\n",
      "downhill: Adam 29 loss=9299.968368 error=9299.883804 grad(U)=1.167900 grad(V)=0.717484\n",
      "downhill: Adam 30 loss=9299.717412 error=9299.633006 grad(U)=1.191153 grad(V)=0.731068\n",
      "downhill: validation 3 loss=9299.465818 error=9299.381567 grad(U)=1.215091 grad(V)=0.745370\n",
      "downhill: Adam 31 loss=9299.465818 error=9299.381567 grad(U)=1.215091 grad(V)=0.745370\n",
      "downhill: Adam 32 loss=9299.213483 error=9299.129384 grad(U)=1.239699 grad(V)=0.760376\n",
      "downhill: Adam 33 loss=9298.960305 error=9298.876357 grad(U)=1.264964 grad(V)=0.776075\n",
      "downhill: Adam 34 loss=9298.706188 error=9298.622387 grad(U)=1.290876 grad(V)=0.792457\n",
      "downhill: Adam 35 loss=9298.451034 error=9298.367379 grad(U)=1.317423 grad(V)=0.809510\n",
      "downhill: Adam 36 loss=9298.194750 error=9298.111238 grad(U)=1.344598 grad(V)=0.827225\n",
      "downhill: Adam 37 loss=9297.937246 error=9297.853874 grad(U)=1.372393 grad(V)=0.845593\n",
      "downhill: Adam 38 loss=9297.678434 error=9297.595200 grad(U)=1.400797 grad(V)=0.864604\n",
      "downhill: Adam 39 loss=9297.418229 error=9297.335132 grad(U)=1.429802 grad(V)=0.884250\n",
      "downhill: Adam 40 loss=9297.156551 error=9297.073588 grad(U)=1.459403 grad(V)=0.904524\n",
      "downhill: validation 4 loss=9296.893322 error=9296.810490 grad(U)=1.489592 grad(V)=0.925419\n",
      "downhill: Adam 41 loss=9296.893322 error=9296.810490 grad(U)=1.489592 grad(V)=0.925419\n",
      "downhill: Adam 42 loss=9296.628465 error=9296.545763 grad(U)=1.520355 grad(V)=0.946928\n",
      "downhill: Adam 43 loss=9296.361911 error=9296.279336 grad(U)=1.551702 grad(V)=0.969044\n",
      "downhill: Adam 44 loss=9296.093589 error=9296.011140 grad(U)=1.583615 grad(V)=0.991763\n",
      "downhill: Adam 45 loss=9295.823435 error=9295.741108 grad(U)=1.616095 grad(V)=1.015078\n",
      "downhill: Adam 46 loss=9295.551385 error=9295.469179 grad(U)=1.649138 grad(V)=1.038984\n",
      "downhill: Adam 47 loss=9295.277378 error=9295.195292 grad(U)=1.682733 grad(V)=1.063478\n",
      "downhill: Adam 48 loss=9295.001358 error=9294.919389 grad(U)=1.716883 grad(V)=1.088554\n",
      "downhill: Adam 49 loss=9294.723269 error=9294.641415 grad(U)=1.751582 grad(V)=1.114209\n",
      "downhill: Adam 50 loss=9294.443059 error=9294.361318 grad(U)=1.786825 grad(V)=1.140439\n",
      "downhill: validation 5 loss=9294.160676 error=9294.079047 grad(U)=1.822613 grad(V)=1.167240\n",
      "downhill: Adam 51 loss=9294.160676 error=9294.079047 grad(U)=1.822613 grad(V)=1.167240\n",
      "downhill: Adam 52 loss=9293.876072 error=9293.794553 grad(U)=1.858941 grad(V)=1.194610\n",
      "downhill: Adam 53 loss=9293.589201 error=9293.507790 grad(U)=1.895806 grad(V)=1.222545\n",
      "downhill: Adam 54 loss=9293.300017 error=9293.218713 grad(U)=1.933208 grad(V)=1.251043\n",
      "downhill: Adam 55 loss=9293.008479 error=9292.927279 grad(U)=1.971144 grad(V)=1.280101\n",
      "downhill: Adam 56 loss=9292.714543 error=9292.633447 grad(U)=2.009610 grad(V)=1.309717\n",
      "downhill: Adam 57 loss=9292.418171 error=9292.337177 grad(U)=2.048607 grad(V)=1.339889\n",
      "downhill: Adam 58 loss=9292.119325 error=9292.038430 grad(U)=2.088135 grad(V)=1.370614\n",
      "downhill: Adam 59 loss=9291.817967 error=9291.737172 grad(U)=2.128191 grad(V)=1.401892\n",
      "downhill: Adam 60 loss=9291.514063 error=9291.433365 grad(U)=2.168775 grad(V)=1.433719\n",
      "downhill: validation 6 loss=9291.207578 error=9291.126976 grad(U)=2.209888 grad(V)=1.466096\n",
      "downhill: patience elapsed!\n",
      "train: 1 of 1 mini-batches from (229, 7200)\n",
      "downhill: compiling evaluation function\n",
      "downhill: compiling Adam optimizer\n",
      "downhill: setting: rms_halflife = 14\n",
      "downhill: setting: rms_regularizer = 1e-08\n",
      "downhill: setting: patience = 5\n",
      "downhill: setting: validate_every = 10\n",
      "downhill: setting: min_improvement = 0.005\n",
      "downhill: setting: max_gradient_norm = 5\n",
      "downhill: setting: max_gradient_elem = 0\n",
      "downhill: setting: learning_rate = TensorConstant{0.001}\n",
      "downhill: setting: momentum = 0\n",
      "downhill: setting: nesterov = False\n",
      "downhill: validation 0 loss=9305.431113 error=9305.340971 grad(U)=0.666296 grad(V)=0.351992 *\n",
      "downhill: Adam 1 loss=9305.431113 error=9305.340971 grad(U)=0.666296 grad(V)=0.351992\n",
      "downhill: Adam 2 loss=9305.329209 error=9305.239154 grad(U)=0.666360 grad(V)=0.353001\n",
      "downhill: Adam 3 loss=9305.191619 error=9305.101683 grad(U)=0.666780 grad(V)=0.354560\n",
      "downhill: Adam 4 loss=9305.030601 error=9304.940804 grad(U)=0.667788 grad(V)=0.356700\n",
      "downhill: Adam 5 loss=9304.852760 error=9304.763116 grad(U)=0.669557 grad(V)=0.359471\n",
      "downhill: Adam 6 loss=9304.662356 error=9304.572875 grad(U)=0.672210 grad(V)=0.362917\n",
      "downhill: Adam 7 loss=9304.462371 error=9304.373061 grad(U)=0.675830 grad(V)=0.367073\n",
      "downhill: Adam 8 loss=9304.254985 error=9304.165851 grad(U)=0.680486 grad(V)=0.371968\n",
      "downhill: Adam 9 loss=9304.041831 error=9303.952876 grad(U)=0.686215 grad(V)=0.377616\n",
      "downhill: Adam 10 loss=9303.824147 error=9303.735375 grad(U)=0.693042 grad(V)=0.384028\n",
      "downhill: validation 1 loss=9303.602879 error=9303.514292 grad(U)=0.700980 grad(V)=0.391210\n",
      "downhill: Adam 11 loss=9303.602879 error=9303.514292 grad(U)=0.700980 grad(V)=0.391210\n",
      "downhill: Adam 12 loss=9303.378748 error=9303.290346 grad(U)=0.710031 grad(V)=0.399162\n",
      "downhill: Adam 13 loss=9303.152296 error=9303.064079 grad(U)=0.720186 grad(V)=0.407881\n",
      "downhill: Adam 14 loss=9302.923930 error=9302.835899 grad(U)=0.731433 grad(V)=0.417358\n",
      "downhill: Adam 15 loss=9302.693948 error=9302.606100 grad(U)=0.743748 grad(V)=0.427585\n",
      "downhill: Adam 16 loss=9302.462561 error=9302.374897 grad(U)=0.757105 grad(V)=0.438547\n",
      "downhill: Adam 17 loss=9302.229915 error=9302.142433 grad(U)=0.771481 grad(V)=0.450232\n",
      "downhill: Adam 18 loss=9301.996106 error=9301.908804 grad(U)=0.786841 grad(V)=0.462622\n",
      "downhill: Adam 19 loss=9301.761187 error=9301.674063 grad(U)=0.803152 grad(V)=0.475702\n",
      "downhill: Adam 20 loss=9301.525182 error=9301.438234 grad(U)=0.820385 grad(V)=0.489457\n",
      "downhill: validation 2 loss=9301.288091 error=9301.201318 grad(U)=0.838502 grad(V)=0.503869\n",
      "downhill: Adam 21 loss=9301.288091 error=9301.201318 grad(U)=0.838502 grad(V)=0.503869\n",
      "downhill: Adam 22 loss=9301.049897 error=9300.963296 grad(U)=0.857473 grad(V)=0.518924\n",
      "downhill: Adam 23 loss=9300.810570 error=9300.724138 grad(U)=0.877267 grad(V)=0.534607\n",
      "downhill: Adam 24 loss=9300.570072 error=9300.483807 grad(U)=0.897852 grad(V)=0.550904\n",
      "downhill: Adam 25 loss=9300.328356 error=9300.242256 grad(U)=0.919200 grad(V)=0.567802\n",
      "downhill: Adam 26 loss=9300.085375 error=9299.999437 grad(U)=0.941283 grad(V)=0.585287\n",
      "downhill: Adam 27 loss=9299.841077 error=9299.755299 grad(U)=0.964075 grad(V)=0.603348\n",
      "downhill: Adam 28 loss=9299.595411 error=9299.509790 grad(U)=0.987552 grad(V)=0.621975\n",
      "downhill: Adam 29 loss=9299.348324 error=9299.262858 grad(U)=1.011693 grad(V)=0.641156\n",
      "downhill: Adam 30 loss=9299.099765 error=9299.014451 grad(U)=1.036478 grad(V)=0.660883\n",
      "downhill: validation 3 loss=9298.849685 error=9298.764520 grad(U)=1.061888 grad(V)=0.681146\n",
      "downhill: Adam 31 loss=9298.849685 error=9298.764520 grad(U)=1.061888 grad(V)=0.681146\n",
      "downhill: Adam 32 loss=9298.598034 error=9298.513017 grad(U)=1.087905 grad(V)=0.701938\n",
      "downhill: Adam 33 loss=9298.344765 error=9298.259894 grad(U)=1.114514 grad(V)=0.723250\n",
      "downhill: Adam 34 loss=9298.089834 error=9298.005105 grad(U)=1.141702 grad(V)=0.745076\n",
      "downhill: Adam 35 loss=9297.833196 error=9297.748607 grad(U)=1.169458 grad(V)=0.767409\n",
      "downhill: Adam 36 loss=9297.574808 error=9297.490357 grad(U)=1.197771 grad(V)=0.790244\n",
      "downhill: Adam 37 loss=9297.314629 error=9297.230314 grad(U)=1.226631 grad(V)=0.813575\n",
      "downhill: Adam 38 loss=9297.052619 error=9296.968438 grad(U)=1.256030 grad(V)=0.837396\n",
      "downhill: Adam 39 loss=9296.788740 error=9296.704690 grad(U)=1.285961 grad(V)=0.861704\n",
      "downhill: Adam 40 loss=9296.522953 error=9296.439033 grad(U)=1.316415 grad(V)=0.886494\n",
      "downhill: validation 4 loss=9296.255223 error=9296.171430 grad(U)=1.347397 grad(V)=0.911762\n",
      "downhill: Adam 41 loss=9296.255223 error=9296.171430 grad(U)=1.347397 grad(V)=0.911762\n",
      "downhill: Adam 42 loss=9295.985513 error=9295.901846 grad(U)=1.378897 grad(V)=0.937504\n",
      "downhill: Adam 43 loss=9295.713788 error=9295.630244 grad(U)=1.410912 grad(V)=0.963717\n",
      "downhill: Adam 44 loss=9295.440014 error=9295.356591 grad(U)=1.443439 grad(V)=0.990398\n",
      "downhill: Adam 45 loss=9295.164158 error=9295.080854 grad(U)=1.476482 grad(V)=1.017544\n",
      "downhill: Adam 46 loss=9294.886186 error=9294.803000 grad(U)=1.510038 grad(V)=1.045151\n",
      "downhill: Adam 47 loss=9294.606067 error=9294.522997 grad(U)=1.544102 grad(V)=1.073219\n",
      "downhill: Adam 48 loss=9294.323771 error=9294.240815 grad(U)=1.578683 grad(V)=1.101743\n",
      "downhill: Adam 49 loss=9294.039267 error=9293.956423 grad(U)=1.613774 grad(V)=1.130722\n",
      "downhill: Adam 50 loss=9293.752526 error=9293.669793 grad(U)=1.649380 grad(V)=1.160153\n",
      "downhill: validation 5 loss=9293.463520 error=9293.380896 grad(U)=1.685501 grad(V)=1.190035\n",
      "downhill: Adam 51 loss=9293.463520 error=9293.380896 grad(U)=1.685501 grad(V)=1.190035\n",
      "downhill: Adam 52 loss=9293.172222 error=9293.089704 grad(U)=1.722140 grad(V)=1.220365\n",
      "downhill: Adam 53 loss=9292.878604 error=9292.796192 grad(U)=1.759299 grad(V)=1.251142\n",
      "downhill: Adam 54 loss=9292.582642 error=9292.500333 grad(U)=1.796980 grad(V)=1.282364\n",
      "downhill: Adam 55 loss=9292.284309 error=9292.202102 grad(U)=1.835184 grad(V)=1.314028\n",
      "downhill: Adam 56 loss=9291.983582 error=9291.901476 grad(U)=1.873911 grad(V)=1.346134\n",
      "downhill: Adam 57 loss=9291.680436 error=9291.598430 grad(U)=1.913167 grad(V)=1.378681\n",
      "downhill: Adam 58 loss=9291.374851 error=9291.292942 grad(U)=1.952951 grad(V)=1.411665\n",
      "downhill: Adam 59 loss=9291.066803 error=9290.984991 grad(U)=1.993263 grad(V)=1.445087\n",
      "downhill: Adam 60 loss=9290.756272 error=9290.674555 grad(U)=2.034106 grad(V)=1.478945\n",
      "downhill: validation 6 loss=9290.443237 error=9290.361615 grad(U)=2.075479 grad(V)=1.513237\n",
      "downhill: patience elapsed!\n",
      "train: 1 of 1 mini-batches from (229, 7200)\n",
      "downhill: compiling evaluation function\n",
      "downhill: compiling Adam optimizer\n",
      "downhill: setting: rms_halflife = 14\n",
      "downhill: setting: rms_regularizer = 1e-08\n",
      "downhill: setting: patience = 5\n",
      "downhill: setting: validate_every = 10\n",
      "downhill: setting: min_improvement = 0.005\n",
      "downhill: setting: max_gradient_norm = 5\n",
      "downhill: setting: max_gradient_elem = 0\n",
      "downhill: setting: learning_rate = TensorConstant{0.001}\n",
      "downhill: setting: momentum = 0\n",
      "downhill: setting: nesterov = False\n",
      "downhill: validation 0 loss=9305.320259 error=9305.230994 grad(V)=0.473251 grad(U)=0.462716 *\n",
      "downhill: Adam 1 loss=9305.320259 error=9305.230994 grad(V)=0.473251 grad(U)=0.462716\n",
      "downhill: Adam 2 loss=9305.221562 error=9305.132389 grad(V)=0.474679 grad(U)=0.461592\n",
      "downhill: Adam 3 loss=9305.088433 error=9304.999384 grad(V)=0.476793 grad(U)=0.460370\n",
      "downhill: Adam 4 loss=9304.932826 error=9304.843922 grad(V)=0.479559 grad(U)=0.459409\n",
      "downhill: Adam 5 loss=9304.761198 error=9304.672454 grad(V)=0.482987 grad(U)=0.458975\n",
      "downhill: Adam 6 loss=9304.577711 error=9304.489137 grad(V)=0.487104 grad(U)=0.459263\n",
      "downhill: Adam 7 loss=9304.385260 error=9304.296864 grad(V)=0.491939 grad(U)=0.460424\n",
      "downhill: Adam 8 loss=9304.185935 error=9304.097723 grad(V)=0.497527 grad(U)=0.462570\n",
      "downhill: Adam 9 loss=9303.981270 error=9303.893246 grad(V)=0.503899 grad(U)=0.465788\n",
      "downhill: Adam 10 loss=9303.772400 error=9303.684566 grad(V)=0.511076 grad(U)=0.470137\n",
      "downhill: validation 1 loss=9303.560164 error=9303.472521 grad(V)=0.519073 grad(U)=0.475651\n",
      "downhill: Adam 11 loss=9303.560164 error=9303.472521 grad(V)=0.519073 grad(U)=0.475651\n",
      "downhill: Adam 12 loss=9303.345180 error=9303.257730 grad(V)=0.527897 grad(U)=0.482344\n",
      "downhill: Adam 13 loss=9303.127902 error=9303.040643 grad(V)=0.537552 grad(U)=0.490210\n",
      "downhill: Adam 14 loss=9302.908651 error=9302.821584 grad(V)=0.548039 grad(U)=0.499236\n",
      "downhill: Adam 15 loss=9302.687652 error=9302.600774 grad(V)=0.559356 grad(U)=0.509399\n",
      "downhill: Adam 16 loss=9302.465051 error=9302.378361 grad(V)=0.571502 grad(U)=0.520670\n",
      "downhill: Adam 17 loss=9302.240930 error=9302.154426 grad(V)=0.584475 grad(U)=0.533024\n",
      "downhill: Adam 18 loss=9302.015326 error=9301.929005 grad(V)=0.598272 grad(U)=0.546432\n",
      "downhill: Adam 19 loss=9301.788232 error=9301.702092 grad(V)=0.612889 grad(U)=0.560869\n",
      "downhill: Adam 20 loss=9301.559614 error=9301.473653 grad(V)=0.628322 grad(U)=0.576314\n",
      "downhill: validation 2 loss=9301.329416 error=9301.243630 grad(V)=0.644566 grad(U)=0.592744\n",
      "downhill: Adam 21 loss=9301.329416 error=9301.243630 grad(V)=0.644566 grad(U)=0.592744\n",
      "downhill: Adam 22 loss=9301.097561 error=9301.011947 grad(V)=0.661615 grad(U)=0.610143\n",
      "downhill: Adam 23 loss=9300.863962 error=9300.778517 grad(V)=0.679462 grad(U)=0.628492\n",
      "downhill: Adam 24 loss=9300.628522 error=9300.543244 grad(V)=0.698102 grad(U)=0.647774\n",
      "downhill: Adam 25 loss=9300.391140 error=9300.306024 grad(V)=0.717528 grad(U)=0.667976\n",
      "downhill: Adam 26 loss=9300.151709 error=9300.066753 grad(V)=0.737733 grad(U)=0.689085\n",
      "downhill: Adam 27 loss=9299.910123 error=9299.825324 grad(V)=0.758709 grad(U)=0.711088\n",
      "downhill: Adam 28 loss=9299.666277 error=9299.581631 grad(V)=0.780451 grad(U)=0.733972\n",
      "downhill: Adam 29 loss=9299.420065 error=9299.335571 grad(V)=0.802952 grad(U)=0.757728\n",
      "downhill: Adam 30 loss=9299.171388 error=9299.087041 grad(V)=0.826204 grad(U)=0.782340\n",
      "downhill: validation 3 loss=9298.920149 error=9298.835946 grad(V)=0.850202 grad(U)=0.807803\n",
      "downhill: Adam 31 loss=9298.920149 error=9298.835946 grad(V)=0.850202 grad(U)=0.807803\n",
      "downhill: Adam 32 loss=9298.666253 error=9298.582192 grad(V)=0.874940 grad(U)=0.834102\n",
      "downhill: Adam 33 loss=9298.409613 error=9298.325691 grad(V)=0.900411 grad(U)=0.861225\n",
      "downhill: Adam 34 loss=9298.150145 error=9298.066359 grad(V)=0.926611 grad(U)=0.889167\n",
      "downhill: Adam 35 loss=9297.887770 error=9297.804117 grad(V)=0.953532 grad(U)=0.917918\n",
      "downhill: Adam 36 loss=9297.622413 error=9297.538890 grad(V)=0.981171 grad(U)=0.947467\n",
      "downhill: Adam 37 loss=9297.354004 error=9297.270609 grad(V)=1.009523 grad(U)=0.977809\n",
      "downhill: Adam 38 loss=9297.082479 error=9296.999208 grad(V)=1.038582 grad(U)=1.008937\n",
      "downhill: Adam 39 loss=9296.807775 error=9296.724627 grad(V)=1.068344 grad(U)=1.040839\n",
      "downhill: Adam 40 loss=9296.529838 error=9296.446810 grad(V)=1.098805 grad(U)=1.073512\n",
      "downhill: validation 4 loss=9296.248614 error=9296.165703 grad(V)=1.129961 grad(U)=1.106948\n",
      "downhill: Adam 41 loss=9296.248614 error=9296.165703 grad(V)=1.129961 grad(U)=1.106948\n",
      "downhill: Adam 42 loss=9295.964056 error=9295.881261 grad(V)=1.161808 grad(U)=1.141137\n",
      "downhill: Adam 43 loss=9295.676119 error=9295.593437 grad(V)=1.194341 grad(U)=1.176073\n",
      "downhill: Adam 44 loss=9295.384763 error=9295.302192 grad(V)=1.227558 grad(U)=1.211753\n",
      "downhill: Adam 45 loss=9295.089952 error=9295.007490 grad(V)=1.261453 grad(U)=1.248169\n",
      "downhill: Adam 46 loss=9294.791651 error=9294.709296 grad(V)=1.296024 grad(U)=1.285311\n",
      "downhill: Adam 47 loss=9294.489832 error=9294.407582 grad(V)=1.331266 grad(U)=1.323180\n",
      "downhill: Adam 48 loss=9294.184468 error=9294.102321 grad(V)=1.367176 grad(U)=1.361765\n",
      "downhill: Adam 49 loss=9293.875536 error=9293.793490 grad(V)=1.403749 grad(U)=1.401063\n",
      "downhill: Adam 50 loss=9293.563014 error=9293.481067 grad(V)=1.440982 grad(U)=1.441066\n",
      "downhill: validation 5 loss=9293.246886 error=9293.165036 grad(V)=1.478871 grad(U)=1.481767\n",
      "downhill: Adam 51 loss=9293.246886 error=9293.165036 grad(V)=1.478871 grad(U)=1.481767\n",
      "downhill: Adam 52 loss=9292.927136 error=9292.845383 grad(V)=1.517411 grad(U)=1.523165\n",
      "downhill: Adam 53 loss=9292.603752 error=9292.522093 grad(V)=1.556599 grad(U)=1.565253\n",
      "downhill: Adam 54 loss=9292.276725 error=9292.195159 grad(V)=1.596429 grad(U)=1.608023\n",
      "downhill: Adam 55 loss=9291.946047 error=9291.864572 grad(V)=1.636898 grad(U)=1.651470\n",
      "downhill: Adam 56 loss=9291.611713 error=9291.530327 grad(V)=1.678002 grad(U)=1.695591\n",
      "downhill: Adam 57 loss=9291.273720 error=9291.192422 grad(V)=1.719736 grad(U)=1.740380\n",
      "downhill: Adam 58 loss=9290.932065 error=9290.850854 grad(V)=1.762095 grad(U)=1.785831\n",
      "downhill: Adam 59 loss=9290.586751 error=9290.505625 grad(V)=1.805075 grad(U)=1.831943\n",
      "downhill: Adam 60 loss=9290.237778 error=9290.156736 grad(V)=1.848672 grad(U)=1.878701\n",
      "downhill: validation 6 loss=9289.885151 error=9289.804192 grad(V)=1.892880 grad(U)=1.926112\n",
      "downhill: patience elapsed!\n",
      "train: 1 of 1 mini-batches from (229, 7200)\n",
      "downhill: compiling evaluation function\n",
      "downhill: compiling Adam optimizer\n",
      "downhill: setting: rms_halflife = 14\n",
      "downhill: setting: rms_regularizer = 1e-08\n",
      "downhill: setting: patience = 5\n",
      "downhill: setting: validate_every = 10\n",
      "downhill: setting: min_improvement = 0.005\n",
      "downhill: setting: max_gradient_norm = 5\n",
      "downhill: setting: max_gradient_elem = 0\n",
      "downhill: setting: learning_rate = TensorConstant{0.001}\n",
      "downhill: setting: momentum = 0\n",
      "downhill: setting: nesterov = False\n",
      "downhill: validation 0 loss=9306.782899 error=9306.692880 grad(U)=0.649960 grad(V)=0.485965 *\n",
      "downhill: Adam 1 loss=9306.782899 error=9306.692880 grad(U)=0.649960 grad(V)=0.485965\n",
      "downhill: Adam 2 loss=9306.676857 error=9306.586928 grad(U)=0.647180 grad(V)=0.484371\n",
      "downhill: Adam 3 loss=9306.533955 error=9306.444148 grad(U)=0.643723 grad(V)=0.482385\n",
      "downhill: Adam 4 loss=9306.367134 error=9306.277470 grad(U)=0.640121 grad(V)=0.480313\n",
      "downhill: Adam 5 loss=9306.183426 error=9306.093919 grad(U)=0.636722 grad(V)=0.478362\n",
      "downhill: Adam 6 loss=9305.987389 error=9305.898050 grad(U)=0.633783 grad(V)=0.476701\n",
      "downhill: Adam 7 loss=9305.782217 error=9305.693054 grad(U)=0.631485 grad(V)=0.475455\n",
      "downhill: Adam 8 loss=9305.570247 error=9305.481265 grad(U)=0.629956 grad(V)=0.474720\n",
      "downhill: Adam 9 loss=9305.353226 error=9305.264430 grad(U)=0.629290 grad(V)=0.474564\n",
      "downhill: Adam 10 loss=9305.132482 error=9305.043875 grad(U)=0.629547 grad(V)=0.475039\n",
      "downhill: validation 1 loss=9304.909025 error=9304.820607 grad(U)=0.630769 grad(V)=0.476187\n",
      "downhill: Adam 11 loss=9304.909025 error=9304.820607 grad(U)=0.630769 grad(V)=0.476187\n",
      "downhill: Adam 12 loss=9304.683622 error=9304.595395 grad(U)=0.632978 grad(V)=0.478036\n",
      "downhill: Adam 13 loss=9304.456855 error=9304.368819 grad(U)=0.636189 grad(V)=0.480610\n",
      "downhill: Adam 14 loss=9304.229156 error=9304.141310 grad(U)=0.640410 grad(V)=0.483924\n",
      "downhill: Adam 15 loss=9304.000841 error=9303.913185 grad(U)=0.645638 grad(V)=0.487988\n",
      "downhill: Adam 16 loss=9303.772132 error=9303.684664 grad(U)=0.651867 grad(V)=0.492808\n",
      "downhill: Adam 17 loss=9303.543177 error=9303.455896 grad(U)=0.659089 grad(V)=0.498387\n",
      "downhill: Adam 18 loss=9303.314065 error=9303.226968 grad(U)=0.667293 grad(V)=0.504726\n",
      "downhill: Adam 19 loss=9303.084834 error=9302.997920 grad(U)=0.676465 grad(V)=0.511822\n",
      "downhill: Adam 20 loss=9302.855488 error=9302.768754 grad(U)=0.686587 grad(V)=0.519672\n",
      "downhill: validation 2 loss=9302.625998 error=9302.539441 grad(U)=0.697649 grad(V)=0.528272\n",
      "downhill: Adam 21 loss=9302.625998 error=9302.539441 grad(U)=0.697649 grad(V)=0.528272\n",
      "downhill: Adam 22 loss=9302.396314 error=9302.309932 grad(U)=0.709634 grad(V)=0.537615\n",
      "downhill: Adam 23 loss=9302.166367 error=9302.080157 grad(U)=0.722522 grad(V)=0.547696\n",
      "downhill: Adam 24 loss=9301.936076 error=9301.850035 grad(U)=0.736297 grad(V)=0.558508\n",
      "downhill: Adam 25 loss=9301.705351 error=9301.619476 grad(U)=0.750943 grad(V)=0.570045\n",
      "downhill: Adam 26 loss=9301.474094 error=9301.388384 grad(U)=0.766443 grad(V)=0.582297\n",
      "downhill: Adam 27 loss=9301.242206 error=9301.156656 grad(U)=0.782778 grad(V)=0.595260\n",
      "downhill: Adam 28 loss=9301.009582 error=9300.924191 grad(U)=0.799934 grad(V)=0.608925\n",
      "downhill: Adam 29 loss=9300.776120 error=9300.690883 grad(U)=0.817894 grad(V)=0.623285\n",
      "downhill: Adam 30 loss=9300.541714 error=9300.456630 grad(U)=0.836644 grad(V)=0.638333\n",
      "downhill: validation 3 loss=9300.306262 error=9300.221329 grad(U)=0.856168 grad(V)=0.654062\n",
      "downhill: Adam 31 loss=9300.306262 error=9300.221329 grad(U)=0.856168 grad(V)=0.654062\n",
      "downhill: Adam 32 loss=9300.069663 error=9299.984877 grad(U)=0.876454 grad(V)=0.670465\n",
      "downhill: Adam 33 loss=9299.831816 error=9299.747176 grad(U)=0.897490 grad(V)=0.687536\n",
      "downhill: Adam 34 loss=9299.592626 error=9299.508128 grad(U)=0.919264 grad(V)=0.705268\n",
      "downhill: Adam 35 loss=9299.351996 error=9299.267639 grad(U)=0.941766 grad(V)=0.723654\n",
      "downhill: Adam 36 loss=9299.109836 error=9299.025616 grad(U)=0.964985 grad(V)=0.742689\n",
      "downhill: Adam 37 loss=9298.866055 error=9298.781970 grad(U)=0.988914 grad(V)=0.762366\n",
      "downhill: Adam 38 loss=9298.620568 error=9298.536616 grad(U)=1.013544 grad(V)=0.782680\n",
      "downhill: Adam 39 loss=9298.373292 error=9298.289470 grad(U)=1.038867 grad(V)=0.803624\n",
      "downhill: Adam 40 loss=9298.124148 error=9298.040455 grad(U)=1.064875 grad(V)=0.825193\n",
      "downhill: validation 4 loss=9297.873060 error=9297.789493 grad(U)=1.091555 grad(V)=0.847382\n",
      "downhill: Adam 41 loss=9297.873060 error=9297.789493 grad(U)=1.091555 grad(V)=0.847382\n",
      "downhill: Adam 42 loss=9297.619956 error=9297.536513 grad(U)=1.118905 grad(V)=0.870186\n",
      "downhill: Adam 43 loss=9297.364767 error=9297.281446 grad(U)=1.146913 grad(V)=0.893599\n",
      "downhill: Adam 44 loss=9297.107428 error=9297.024228 grad(U)=1.175570 grad(V)=0.917616\n",
      "downhill: Adam 45 loss=9296.847878 error=9296.764795 grad(U)=1.204874 grad(V)=0.942233\n",
      "downhill: Adam 46 loss=9296.586058 error=9296.503090 grad(U)=1.234812 grad(V)=0.967445\n",
      "downhill: Adam 47 loss=9296.321911 error=9296.239058 grad(U)=1.265379 grad(V)=0.993246\n",
      "downhill: Adam 48 loss=9296.055387 error=9295.972646 grad(U)=1.296571 grad(V)=1.019633\n",
      "downhill: Adam 49 loss=9295.786435 error=9295.703804 grad(U)=1.328378 grad(V)=1.046602\n",
      "downhill: Adam 50 loss=9295.515009 error=9295.432487 grad(U)=1.360795 grad(V)=1.074147\n",
      "downhill: validation 5 loss=9295.241065 error=9295.158650 grad(U)=1.393819 grad(V)=1.102265\n",
      "downhill: Adam 51 loss=9295.241065 error=9295.158650 grad(U)=1.393819 grad(V)=1.102265\n",
      "downhill: Adam 52 loss=9294.964563 error=9294.882253 grad(U)=1.427441 grad(V)=1.130952\n",
      "downhill: Adam 53 loss=9294.685464 error=9294.603257 grad(U)=1.461657 grad(V)=1.160203\n",
      "downhill: Adam 54 loss=9294.403732 error=9294.321627 grad(U)=1.496461 grad(V)=1.190016\n",
      "downhill: Adam 55 loss=9294.119334 error=9294.037329 grad(U)=1.531847 grad(V)=1.220385\n",
      "downhill: Adam 56 loss=9293.832239 error=9293.750333 grad(U)=1.567814 grad(V)=1.251307\n",
      "downhill: Adam 57 loss=9293.542419 error=9293.460611 grad(U)=1.604355 grad(V)=1.282778\n",
      "downhill: Adam 58 loss=9293.249847 error=9293.168135 grad(U)=1.641464 grad(V)=1.314795\n",
      "downhill: Adam 59 loss=9292.954501 error=9292.872882 grad(U)=1.679137 grad(V)=1.347355\n",
      "downhill: Adam 60 loss=9292.656357 error=9292.574831 grad(U)=1.717379 grad(V)=1.380452\n",
      "downhill: validation 6 loss=9292.355395 error=9292.273962 grad(U)=1.756177 grad(V)=1.414085\n",
      "downhill: patience elapsed!\n",
      "train: 1 of 1 mini-batches from (229, 7200)\n",
      "downhill: compiling evaluation function\n",
      "downhill: compiling Adam optimizer\n",
      "downhill: setting: rms_halflife = 14\n",
      "downhill: setting: rms_regularizer = 1e-08\n",
      "downhill: setting: patience = 5\n",
      "downhill: setting: validate_every = 10\n",
      "downhill: setting: min_improvement = 0.005\n",
      "downhill: setting: max_gradient_norm = 5\n",
      "downhill: setting: max_gradient_elem = 0\n",
      "downhill: setting: learning_rate = TensorConstant{0.001}\n",
      "downhill: setting: momentum = 0\n",
      "downhill: setting: nesterov = False\n",
      "downhill: validation 0 loss=9305.006809 error=9304.916901 grad(V)=0.423980 grad(U)=0.590744 *\n",
      "downhill: Adam 1 loss=9305.006809 error=9304.916901 grad(V)=0.423980 grad(U)=0.590744\n",
      "downhill: Adam 2 loss=9304.903727 error=9304.813911 grad(V)=0.425825 grad(U)=0.591845\n",
      "downhill: Adam 3 loss=9304.764488 error=9304.674797 grad(V)=0.428506 grad(U)=0.593686\n",
      "downhill: Adam 4 loss=9304.601447 error=9304.511901 grad(V)=0.431922 grad(U)=0.596354\n",
      "downhill: Adam 5 loss=9304.421237 error=9304.331852 grad(V)=0.436075 grad(U)=0.599964\n",
      "downhill: Adam 6 loss=9304.228115 error=9304.138902 grad(V)=0.440975 grad(U)=0.604602\n",
      "downhill: Adam 7 loss=9304.025038 error=9303.936003 grad(V)=0.446645 grad(U)=0.610321\n",
      "downhill: Adam 8 loss=9303.814150 error=9303.725299 grad(V)=0.453105 grad(U)=0.617146\n",
      "downhill: Adam 9 loss=9303.597049 error=9303.508388 grad(V)=0.460367 grad(U)=0.625077\n",
      "downhill: Adam 10 loss=9303.374948 error=9303.286478 grad(V)=0.468435 grad(U)=0.634101\n",
      "downhill: validation 1 loss=9303.148774 error=9303.060497 grad(V)=0.477309 grad(U)=0.644197\n",
      "downhill: Adam 11 loss=9303.148774 error=9303.060497 grad(V)=0.477309 grad(U)=0.644197\n",
      "downhill: Adam 12 loss=9302.919236 error=9302.831153 grad(V)=0.486987 grad(U)=0.655341\n",
      "downhill: Adam 13 loss=9302.686881 error=9302.598992 grad(V)=0.497466 grad(U)=0.667504\n",
      "downhill: Adam 14 loss=9302.452126 error=9302.364429 grad(V)=0.508742 grad(U)=0.680659\n",
      "downhill: Adam 15 loss=9302.215284 error=9302.127779 grad(V)=0.520811 grad(U)=0.694776\n",
      "downhill: Adam 16 loss=9301.976591 error=9301.889275 grad(V)=0.533669 grad(U)=0.709827\n",
      "downhill: Adam 17 loss=9301.736214 error=9301.649087 grad(V)=0.547310 grad(U)=0.725781\n",
      "downhill: Adam 18 loss=9301.494271 error=9301.407330 grad(V)=0.561731 grad(U)=0.742614\n",
      "downhill: Adam 19 loss=9301.250833 error=9301.164075 grad(V)=0.576925 grad(U)=0.760297\n",
      "downhill: Adam 20 loss=9301.005940 error=9300.919363 grad(V)=0.592888 grad(U)=0.778810\n",
      "downhill: validation 2 loss=9300.759603 error=9300.673204 grad(V)=0.609611 grad(U)=0.798126\n",
      "downhill: Adam 21 loss=9300.759603 error=9300.673204 grad(V)=0.609611 grad(U)=0.798126\n",
      "downhill: Adam 22 loss=9300.511813 error=9300.425589 grad(V)=0.627089 grad(U)=0.818228\n",
      "downhill: Adam 23 loss=9300.262544 error=9300.176492 grad(V)=0.645312 grad(U)=0.839095\n",
      "downhill: Adam 24 loss=9300.011758 error=9299.925876 grad(V)=0.664274 grad(U)=0.860708\n",
      "downhill: Adam 25 loss=9299.759409 error=9299.673692 grad(V)=0.683965 grad(U)=0.883052\n",
      "downhill: Adam 26 loss=9299.505442 error=9299.419888 grad(V)=0.704377 grad(U)=0.906106\n",
      "downhill: Adam 27 loss=9299.249801 error=9299.164406 grad(V)=0.725501 grad(U)=0.929863\n",
      "downhill: Adam 28 loss=9298.992423 error=9298.907185 grad(V)=0.747329 grad(U)=0.954300\n",
      "downhill: Adam 29 loss=9298.733249 error=9298.648164 grad(V)=0.769852 grad(U)=0.979413\n",
      "downhill: Adam 30 loss=9298.472215 error=9298.387280 grad(V)=0.793061 grad(U)=1.005183\n",
      "downhill: validation 3 loss=9298.209260 error=9298.124473 grad(V)=0.816950 grad(U)=1.031602\n",
      "downhill: Adam 31 loss=9298.209260 error=9298.124473 grad(V)=0.816950 grad(U)=1.031602\n",
      "downhill: Adam 32 loss=9297.944323 error=9297.859680 grad(V)=0.841509 grad(U)=1.058661\n",
      "downhill: Adam 33 loss=9297.677345 error=9297.592843 grad(V)=0.866732 grad(U)=1.086353\n",
      "downhill: Adam 34 loss=9297.408267 error=9297.323905 grad(V)=0.892611 grad(U)=1.114668\n",
      "downhill: Adam 35 loss=9297.137035 error=9297.052809 grad(V)=0.919139 grad(U)=1.143594\n",
      "downhill: Adam 36 loss=9296.863595 error=9296.779502 grad(V)=0.946310 grad(U)=1.173131\n",
      "downhill: Adam 37 loss=9296.587895 error=9296.503933 grad(V)=0.974116 grad(U)=1.203271\n",
      "downhill: Adam 38 loss=9296.309887 error=9296.226053 grad(V)=1.002552 grad(U)=1.234007\n",
      "downhill: Adam 39 loss=9296.029523 error=9295.945815 grad(V)=1.031612 grad(U)=1.265335\n",
      "downhill: Adam 40 loss=9295.746759 error=9295.663175 grad(V)=1.061289 grad(U)=1.297252\n",
      "downhill: validation 4 loss=9295.461552 error=9295.378089 grad(V)=1.091578 grad(U)=1.329753\n",
      "downhill: Adam 41 loss=9295.461552 error=9295.378089 grad(V)=1.091578 grad(U)=1.329753\n",
      "downhill: Adam 42 loss=9295.173861 error=9295.090517 grad(V)=1.122474 grad(U)=1.362831\n",
      "downhill: Adam 43 loss=9294.883649 error=9294.800422 grad(V)=1.153971 grad(U)=1.396489\n",
      "downhill: Adam 44 loss=9294.590878 error=9294.507765 grad(V)=1.186065 grad(U)=1.430722\n",
      "downhill: Adam 45 loss=9294.295514 error=9294.212513 grad(V)=1.218751 grad(U)=1.465531\n",
      "downhill: Adam 46 loss=9293.997523 error=9293.914633 grad(V)=1.252024 grad(U)=1.500911\n",
      "downhill: Adam 47 loss=9293.696874 error=9293.614092 grad(V)=1.285879 grad(U)=1.536861\n",
      "downhill: Adam 48 loss=9293.393536 error=9293.310862 grad(V)=1.320313 grad(U)=1.573375\n",
      "downhill: Adam 49 loss=9293.087481 error=9293.004912 grad(V)=1.355321 grad(U)=1.610460\n",
      "downhill: Adam 50 loss=9292.778683 error=9292.696217 grad(V)=1.390899 grad(U)=1.648110\n",
      "downhill: validation 5 loss=9292.467113 error=9292.384749 grad(V)=1.427043 grad(U)=1.686324\n",
      "downhill: Adam 51 loss=9292.467113 error=9292.384749 grad(V)=1.427043 grad(U)=1.686324\n",
      "downhill: Adam 52 loss=9292.152748 error=9292.070483 grad(V)=1.463749 grad(U)=1.725106\n",
      "downhill: Adam 53 loss=9291.835563 error=9291.753397 grad(V)=1.501014 grad(U)=1.764454\n",
      "downhill: Adam 54 loss=9291.515535 error=9291.433465 grad(V)=1.538833 grad(U)=1.804366\n",
      "downhill: Adam 55 loss=9291.192642 error=9291.110667 grad(V)=1.577205 grad(U)=1.844846\n",
      "downhill: Adam 56 loss=9290.866862 error=9290.784981 grad(V)=1.616124 grad(U)=1.885889\n",
      "downhill: Adam 57 loss=9290.538174 error=9290.456385 grad(V)=1.655588 grad(U)=1.927503\n",
      "downhill: Adam 58 loss=9290.206558 error=9290.124860 grad(V)=1.695593 grad(U)=1.969686\n",
      "downhill: Adam 59 loss=9289.871994 error=9289.790386 grad(V)=1.736138 grad(U)=2.012438\n",
      "downhill: Adam 60 loss=9289.534463 error=9289.452942 grad(V)=1.777217 grad(U)=2.055761\n",
      "downhill: validation 6 loss=9289.193946 error=9289.112512 grad(V)=1.818830 grad(U)=2.099656\n",
      "downhill: patience elapsed!\n",
      "train: 1 of 1 mini-batches from (229, 7200)\n",
      "downhill: compiling evaluation function\n",
      "downhill: compiling Adam optimizer\n",
      "downhill: setting: rms_halflife = 14\n",
      "downhill: setting: rms_regularizer = 1e-08\n",
      "downhill: setting: patience = 5\n",
      "downhill: setting: validate_every = 10\n",
      "downhill: setting: min_improvement = 0.005\n",
      "downhill: setting: max_gradient_norm = 5\n",
      "downhill: setting: max_gradient_elem = 0\n",
      "downhill: setting: learning_rate = TensorConstant{0.001}\n",
      "downhill: setting: momentum = 0\n",
      "downhill: setting: nesterov = False\n",
      "downhill: validation 0 loss=9306.825536 error=9306.735302 grad(V)=0.468915 grad(U)=0.632129 *\n",
      "downhill: Adam 1 loss=9306.825536 error=9306.735302 grad(V)=0.468915 grad(U)=0.632129\n",
      "downhill: Adam 2 loss=9306.714627 error=9306.624485 grad(V)=0.469291 grad(U)=0.630955\n",
      "downhill: Adam 3 loss=9306.564841 error=9306.474821 grad(V)=0.469993 grad(U)=0.629649\n",
      "downhill: Adam 4 loss=9306.389500 error=9306.299624 grad(V)=0.471116 grad(U)=0.628529\n",
      "downhill: Adam 5 loss=9306.195790 error=9306.106072 grad(V)=0.472757 grad(U)=0.627802\n",
      "downhill: Adam 6 loss=9305.988355 error=9305.898805 grad(V)=0.474998 grad(U)=0.627616\n",
      "downhill: Adam 7 loss=9305.770456 error=9305.681082 grad(V)=0.477901 grad(U)=0.628081\n",
      "downhill: Adam 8 loss=9305.544490 error=9305.455296 grad(V)=0.481518 grad(U)=0.629278\n",
      "downhill: Adam 9 loss=9305.312265 error=9305.223255 grad(V)=0.485895 grad(U)=0.631270\n",
      "downhill: Adam 10 loss=9305.075165 error=9304.986341 grad(V)=0.491073 grad(U)=0.634096\n",
      "downhill: validation 1 loss=9304.834257 error=9304.745621 grad(V)=0.497083 grad(U)=0.637789\n",
      "downhill: Adam 11 loss=9304.834257 error=9304.745621 grad(V)=0.497083 grad(U)=0.637789\n",
      "downhill: Adam 12 loss=9304.590367 error=9304.501919 grad(V)=0.503952 grad(U)=0.642368\n",
      "downhill: Adam 13 loss=9304.344133 error=9304.255872 grad(V)=0.511696 grad(U)=0.647848\n",
      "downhill: Adam 14 loss=9304.096042 error=9304.007968 grad(V)=0.520327 grad(U)=0.654236\n",
      "downhill: Adam 15 loss=9303.846465 error=9303.758575 grad(V)=0.529847 grad(U)=0.661536\n",
      "downhill: Adam 16 loss=9303.595675 error=9303.507969 grad(V)=0.540256 grad(U)=0.669747\n",
      "downhill: Adam 17 loss=9303.343872 error=9303.256347 grad(V)=0.551549 grad(U)=0.678870\n",
      "downhill: Adam 18 loss=9303.091192 error=9303.003845 grad(V)=0.563719 grad(U)=0.688903\n",
      "downhill: Adam 19 loss=9302.837718 error=9302.750548 grad(V)=0.576757 grad(U)=0.699841\n",
      "downhill: Adam 20 loss=9302.583497 error=9302.496501 grad(V)=0.590653 grad(U)=0.711674\n",
      "downhill: validation 2 loss=9302.328540 error=9302.241714 grad(V)=0.605395 grad(U)=0.724401\n",
      "downhill: Adam 21 loss=9302.328540 error=9302.241714 grad(V)=0.605395 grad(U)=0.724401\n",
      "downhill: Adam 22 loss=9302.072831 error=9301.986174 grad(V)=0.620973 grad(U)=0.738015\n",
      "downhill: Adam 23 loss=9301.816334 error=9301.729843 grad(V)=0.637375 grad(U)=0.752507\n",
      "downhill: Adam 24 loss=9301.558997 error=9301.472668 grad(V)=0.654589 grad(U)=0.767869\n",
      "downhill: Adam 25 loss=9301.300754 error=9301.214585 grad(V)=0.672602 grad(U)=0.784092\n",
      "downhill: Adam 26 loss=9301.041530 error=9300.955518 grad(V)=0.691404 grad(U)=0.801170\n",
      "downhill: Adam 27 loss=9300.781242 error=9300.695385 grad(V)=0.710982 grad(U)=0.819092\n",
      "downhill: Adam 28 loss=9300.519804 error=9300.434099 grad(V)=0.731325 grad(U)=0.837852\n",
      "downhill: Adam 29 loss=9300.257125 error=9300.171569 grad(V)=0.752422 grad(U)=0.857437\n",
      "downhill: Adam 30 loss=9299.993113 error=9299.907705 grad(V)=0.774261 grad(U)=0.877839\n",
      "downhill: validation 3 loss=9299.727678 error=9299.642413 grad(V)=0.796832 grad(U)=0.899049\n",
      "downhill: Adam 31 loss=9299.727678 error=9299.642413 grad(V)=0.796832 grad(U)=0.899049\n",
      "downhill: Adam 32 loss=9299.460727 error=9299.375604 grad(V)=0.820124 grad(U)=0.921060\n",
      "downhill: Adam 33 loss=9299.192171 error=9299.107187 grad(V)=0.844126 grad(U)=0.943860\n",
      "downhill: Adam 34 loss=9298.921922 error=9298.837074 grad(V)=0.868829 grad(U)=0.967439\n",
      "downhill: Adam 35 loss=9298.649896 error=9298.565182 grad(V)=0.894223 grad(U)=0.991789\n",
      "downhill: Adam 36 loss=9298.376010 error=9298.291428 grad(V)=0.920299 grad(U)=1.016896\n",
      "downhill: Adam 37 loss=9298.100188 error=9298.015735 grad(V)=0.947046 grad(U)=1.042752\n",
      "downhill: Adam 38 loss=9297.822356 error=9297.738030 grad(V)=0.974457 grad(U)=1.069348\n",
      "downhill: Adam 39 loss=9297.542444 error=9297.458242 grad(V)=1.002523 grad(U)=1.096670\n",
      "downhill: Adam 40 loss=9297.260385 error=9297.176306 grad(V)=1.031234 grad(U)=1.124711\n",
      "downhill: validation 4 loss=9296.976119 error=9296.892160 grad(V)=1.060585 grad(U)=1.153459\n",
      "downhill: Adam 41 loss=9296.976119 error=9296.892160 grad(V)=1.060585 grad(U)=1.153459\n",
      "downhill: Adam 42 loss=9296.689588 error=9296.605747 grad(V)=1.090565 grad(U)=1.182901\n",
      "downhill: Adam 43 loss=9296.400738 error=9296.317013 grad(V)=1.121169 grad(U)=1.213032\n",
      "downhill: Adam 44 loss=9296.109520 error=9296.025909 grad(V)=1.152388 grad(U)=1.243836\n",
      "downhill: Adam 45 loss=9295.815887 error=9295.732388 grad(V)=1.184216 grad(U)=1.275309\n",
      "downhill: Adam 46 loss=9295.519798 error=9295.436409 grad(V)=1.216645 grad(U)=1.307437\n",
      "downhill: Adam 47 loss=9295.221212 error=9295.137931 grad(V)=1.249669 grad(U)=1.340213\n",
      "downhill: Adam 48 loss=9294.920093 error=9294.836919 grad(V)=1.283282 grad(U)=1.373627\n",
      "downhill: Adam 49 loss=9294.616409 error=9294.533340 grad(V)=1.317477 grad(U)=1.407674\n",
      "downhill: Adam 50 loss=9294.310129 error=9294.227162 grad(V)=1.352249 grad(U)=1.442340\n",
      "downhill: validation 5 loss=9294.001224 error=9293.918359 grad(V)=1.387590 grad(U)=1.477622\n",
      "downhill: Adam 51 loss=9294.001224 error=9293.918359 grad(V)=1.387590 grad(U)=1.477622\n",
      "downhill: Adam 52 loss=9293.689671 error=9293.606905 grad(V)=1.423495 grad(U)=1.513512\n",
      "downhill: Adam 53 loss=9293.375444 error=9293.292777 grad(V)=1.459959 grad(U)=1.549999\n",
      "downhill: Adam 54 loss=9293.058525 error=9292.975955 grad(V)=1.496976 grad(U)=1.587081\n",
      "downhill: Adam 55 loss=9292.738893 error=9292.656418 grad(V)=1.534540 grad(U)=1.624750\n",
      "downhill: Adam 56 loss=9292.416532 error=9292.334151 grad(V)=1.572646 grad(U)=1.663001\n",
      "downhill: Adam 57 loss=9292.091428 error=9292.009139 grad(V)=1.611288 grad(U)=1.701828\n",
      "downhill: Adam 58 loss=9291.763565 error=9291.681367 grad(V)=1.650463 grad(U)=1.741226\n",
      "downhill: Adam 59 loss=9291.432934 error=9291.350826 grad(V)=1.690164 grad(U)=1.781188\n",
      "downhill: Adam 60 loss=9291.099524 error=9291.017504 grad(V)=1.730386 grad(U)=1.821712\n",
      "downhill: validation 6 loss=9290.763326 error=9290.681393 grad(V)=1.771125 grad(U)=1.862786\n",
      "downhill: patience elapsed!\n",
      "train: 1 of 1 mini-batches from (229, 7200)\n",
      "downhill: compiling evaluation function\n",
      "downhill: compiling Adam optimizer\n",
      "downhill: setting: rms_halflife = 14\n",
      "downhill: setting: rms_regularizer = 1e-08\n",
      "downhill: setting: patience = 5\n",
      "downhill: setting: validate_every = 10\n",
      "downhill: setting: min_improvement = 0.005\n",
      "downhill: setting: max_gradient_norm = 5\n",
      "downhill: setting: max_gradient_elem = 0\n",
      "downhill: setting: learning_rate = TensorConstant{0.001}\n",
      "downhill: setting: momentum = 0\n",
      "downhill: setting: nesterov = False\n",
      "downhill: validation 0 loss=9305.882174 error=9305.792469 grad(V)=0.372834 grad(U)=0.528647 *\n",
      "downhill: Adam 1 loss=9305.882174 error=9305.792469 grad(V)=0.372834 grad(U)=0.528647\n",
      "downhill: Adam 2 loss=9305.784288 error=9305.694679 grad(V)=0.371115 grad(U)=0.526720\n",
      "downhill: Adam 3 loss=9305.652427 error=9305.562949 grad(V)=0.368990 grad(U)=0.524449\n",
      "downhill: Adam 4 loss=9305.498546 error=9305.409220 grad(V)=0.366818 grad(U)=0.522283\n",
      "downhill: Adam 5 loss=9305.329123 error=9305.239966 grad(V)=0.364802 grad(U)=0.520512\n",
      "downhill: Adam 6 loss=9305.148352 error=9305.059374 grad(V)=0.363078 grad(U)=0.519337\n",
      "downhill: Adam 7 loss=9304.959171 error=9304.870380 grad(V)=0.361753 grad(U)=0.518902\n",
      "downhill: Adam 8 loss=9304.763722 error=9304.675125 grad(V)=0.360915 grad(U)=0.519310\n",
      "downhill: Adam 9 loss=9304.563598 error=9304.475199 grad(V)=0.360639 grad(U)=0.520640\n",
      "downhill: Adam 10 loss=9304.359998 error=9304.271799 grad(V)=0.360981 grad(U)=0.522940\n",
      "downhill: validation 1 loss=9304.153823 error=9304.065826 grad(V)=0.361983 grad(U)=0.526244\n",
      "downhill: Adam 11 loss=9304.153823 error=9304.065826 grad(V)=0.361983 grad(U)=0.526244\n",
      "downhill: Adam 12 loss=9303.945748 error=9303.857954 grad(V)=0.363678 grad(U)=0.530569\n",
      "downhill: Adam 13 loss=9303.736273 error=9303.648682 grad(V)=0.366090 grad(U)=0.535925\n",
      "downhill: Adam 14 loss=9303.525759 error=9303.438371 grad(V)=0.369237 grad(U)=0.542311\n",
      "downhill: Adam 15 loss=9303.314456 error=9303.227268 grad(V)=0.373131 grad(U)=0.549720\n",
      "downhill: Adam 16 loss=9303.102526 error=9303.015538 grad(V)=0.377785 grad(U)=0.558142\n",
      "downhill: Adam 17 loss=9302.890062 error=9302.803271 grad(V)=0.383204 grad(U)=0.567559\n",
      "downhill: Adam 18 loss=9302.677101 error=9302.590505 grad(V)=0.389393 grad(U)=0.577954\n",
      "downhill: Adam 19 loss=9302.463636 error=9302.377232 grad(V)=0.396353 grad(U)=0.589309\n",
      "downhill: Adam 20 loss=9302.249627 error=9302.163413 grad(V)=0.404086 grad(U)=0.601600\n",
      "downhill: validation 2 loss=9302.035010 error=9301.948983 grad(V)=0.412588 grad(U)=0.614807\n",
      "downhill: Adam 21 loss=9302.035010 error=9301.948983 grad(V)=0.412588 grad(U)=0.614807\n",
      "downhill: Adam 22 loss=9301.819700 error=9301.733856 grad(V)=0.421857 grad(U)=0.628908\n",
      "downhill: Adam 23 loss=9301.603599 error=9301.517935 grad(V)=0.431889 grad(U)=0.643878\n",
      "downhill: Adam 24 loss=9301.386599 error=9301.301113 grad(V)=0.442679 grad(U)=0.659702\n",
      "downhill: Adam 25 loss=9301.168588 error=9301.083275 grad(V)=0.454220 grad(U)=0.676357\n",
      "downhill: Adam 26 loss=9300.949447 error=9300.864305 grad(V)=0.466507 grad(U)=0.693824\n",
      "downhill: Adam 27 loss=9300.729058 error=9300.644083 grad(V)=0.479535 grad(U)=0.712084\n",
      "downhill: Adam 28 loss=9300.507302 error=9300.422492 grad(V)=0.493297 grad(U)=0.731122\n",
      "downhill: Adam 29 loss=9300.284062 error=9300.199412 grad(V)=0.507788 grad(U)=0.750922\n",
      "downhill: Adam 30 loss=9300.059222 error=9299.974730 grad(V)=0.523002 grad(U)=0.771470\n",
      "downhill: validation 3 loss=9299.832670 error=9299.748333 grad(V)=0.538936 grad(U)=0.792753\n",
      "downhill: Adam 31 loss=9299.832670 error=9299.748333 grad(V)=0.538936 grad(U)=0.792753\n",
      "downhill: Adam 32 loss=9299.604298 error=9299.520113 grad(V)=0.555582 grad(U)=0.814756\n",
      "downhill: Adam 33 loss=9299.374001 error=9299.289965 grad(V)=0.572938 grad(U)=0.837469\n",
      "downhill: Adam 34 loss=9299.141679 error=9299.057789 grad(V)=0.590998 grad(U)=0.860883\n",
      "downhill: Adam 35 loss=9298.907237 error=9298.823490 grad(V)=0.609758 grad(U)=0.884989\n",
      "downhill: Adam 36 loss=9298.670583 error=9298.586976 grad(V)=0.629214 grad(U)=0.909776\n",
      "downhill: Adam 37 loss=9298.431631 error=9298.348162 grad(V)=0.649361 grad(U)=0.935236\n",
      "downhill: Adam 38 loss=9298.190300 error=9298.106966 grad(V)=0.670196 grad(U)=0.961369\n",
      "downhill: Adam 39 loss=9297.946512 error=9297.863311 grad(V)=0.691715 grad(U)=0.988162\n",
      "downhill: Adam 40 loss=9297.700195 error=9297.617123 grad(V)=0.713914 grad(U)=1.015608\n",
      "downhill: validation 4 loss=9297.451280 error=9297.368336 grad(V)=0.736788 grad(U)=1.043704\n",
      "downhill: Adam 41 loss=9297.451280 error=9297.368336 grad(V)=0.736788 grad(U)=1.043704\n",
      "downhill: Adam 42 loss=9297.199703 error=9297.116884 grad(V)=0.760336 grad(U)=1.072449\n",
      "downhill: Adam 43 loss=9296.945403 error=9296.862707 grad(V)=0.784552 grad(U)=1.101835\n",
      "downhill: Adam 44 loss=9296.688325 error=9296.605749 grad(V)=0.809434 grad(U)=1.131856\n",
      "downhill: Adam 45 loss=9296.428414 error=9296.345956 grad(V)=0.834978 grad(U)=1.162510\n",
      "downhill: Adam 46 loss=9296.165622 error=9296.083280 grad(V)=0.861181 grad(U)=1.193794\n",
      "downhill: Adam 47 loss=9295.899902 error=9295.817675 grad(V)=0.888039 grad(U)=1.225700\n",
      "downhill: Adam 48 loss=9295.631213 error=9295.549098 grad(V)=0.915549 grad(U)=1.258229\n",
      "downhill: Adam 49 loss=9295.359514 error=9295.277509 grad(V)=0.943708 grad(U)=1.291377\n",
      "downhill: Adam 50 loss=9295.084769 error=9295.002871 grad(V)=0.972512 grad(U)=1.325141\n",
      "downhill: validation 5 loss=9294.806943 error=9294.725152 grad(V)=1.001958 grad(U)=1.359515\n",
      "downhill: Adam 51 loss=9294.806943 error=9294.725152 grad(V)=1.001958 grad(U)=1.359515\n",
      "downhill: Adam 52 loss=9294.526007 error=9294.444320 grad(V)=1.032043 grad(U)=1.394500\n",
      "downhill: Adam 53 loss=9294.241930 error=9294.160347 grad(V)=1.062763 grad(U)=1.430090\n",
      "downhill: Adam 54 loss=9293.954688 error=9293.873206 grad(V)=1.094115 grad(U)=1.466282\n",
      "downhill: Adam 55 loss=9293.664258 error=9293.582875 grad(V)=1.126096 grad(U)=1.503073\n",
      "downhill: Adam 56 loss=9293.370617 error=9293.289332 grad(V)=1.158703 grad(U)=1.540464\n",
      "downhill: Adam 57 loss=9293.073748 error=9292.992559 grad(V)=1.191931 grad(U)=1.578445\n",
      "downhill: Adam 58 loss=9292.773633 error=9292.692539 grad(V)=1.225777 grad(U)=1.617019\n",
      "downhill: Adam 59 loss=9292.470258 error=9292.389258 grad(V)=1.260238 grad(U)=1.656180\n",
      "downhill: Adam 60 loss=9292.163611 error=9292.082703 grad(V)=1.295310 grad(U)=1.695929\n",
      "downhill: validation 6 loss=9291.853681 error=9291.772863 grad(V)=1.330989 grad(U)=1.736256\n",
      "downhill: patience elapsed!\n",
      "train: 1 of 1 mini-batches from (229, 7200)\n",
      "downhill: compiling evaluation function\n",
      "downhill: compiling Adam optimizer\n",
      "downhill: setting: rms_halflife = 14\n",
      "downhill: setting: rms_regularizer = 1e-08\n",
      "downhill: setting: patience = 5\n",
      "downhill: setting: validate_every = 10\n",
      "downhill: setting: min_improvement = 0.005\n",
      "downhill: setting: max_gradient_norm = 5\n",
      "downhill: setting: max_gradient_elem = 0\n",
      "downhill: setting: learning_rate = TensorConstant{0.001}\n",
      "downhill: setting: momentum = 0\n",
      "downhill: setting: nesterov = False\n",
      "downhill: validation 0 loss=9305.748267 error=9305.657624 grad(V)=0.490665 grad(U)=0.989205 *\n",
      "downhill: Adam 1 loss=9305.748267 error=9305.657624 grad(V)=0.490665 grad(U)=0.989205\n",
      "downhill: Adam 2 loss=9305.630525 error=9305.539968 grad(V)=0.493083 grad(U)=0.991125\n",
      "downhill: Adam 3 loss=9305.471117 error=9305.380677 grad(V)=0.496558 grad(U)=0.994032\n",
      "downhill: Adam 4 loss=9305.283937 error=9305.193632 grad(V)=0.500954 grad(U)=0.997898\n",
      "downhill: Adam 5 loss=9305.076423 error=9304.986268 grad(V)=0.506241 grad(U)=1.002763\n",
      "downhill: Adam 6 loss=9304.853361 error=9304.763365 grad(V)=0.512431 grad(U)=1.008672\n",
      "downhill: Adam 7 loss=9304.618098 error=9304.528268 grad(V)=0.519545 grad(U)=1.015665\n",
      "downhill: Adam 8 loss=9304.373090 error=9304.283431 grad(V)=0.527598 grad(U)=1.023776\n",
      "downhill: Adam 9 loss=9304.120190 error=9304.030706 grad(V)=0.536601 grad(U)=1.033033\n",
      "downhill: Adam 10 loss=9303.860823 error=9303.771515 grad(V)=0.546561 grad(U)=1.043454\n",
      "downhill: validation 1 loss=9303.596091 error=9303.506961 grad(V)=0.557480 grad(U)=1.055051\n",
      "downhill: Adam 11 loss=9303.596091 error=9303.506961 grad(V)=0.557480 grad(U)=1.055051\n",
      "downhill: Adam 12 loss=9303.326853 error=9303.237901 grad(V)=0.569362 grad(U)=1.067819\n",
      "downhill: Adam 13 loss=9303.053777 error=9302.965003 grad(V)=0.582207 grad(U)=1.081756\n",
      "downhill: Adam 14 loss=9302.777382 error=9302.688785 grad(V)=0.596014 grad(U)=1.096849\n",
      "downhill: Adam 15 loss=9302.498067 error=9302.409646 grad(V)=0.610777 grad(U)=1.113084\n",
      "downhill: Adam 16 loss=9302.216141 error=9302.127893 grad(V)=0.626489 grad(U)=1.130439\n",
      "downhill: Adam 17 loss=9301.931837 error=9301.843762 grad(V)=0.643138 grad(U)=1.148890\n",
      "downhill: Adam 18 loss=9301.645336 error=9301.557431 grad(V)=0.660711 grad(U)=1.168414\n",
      "downhill: Adam 19 loss=9301.356769 error=9301.269032 grad(V)=0.679195 grad(U)=1.188985\n",
      "downhill: Adam 20 loss=9301.066234 error=9300.978662 grad(V)=0.698573 grad(U)=1.210579\n",
      "downhill: validation 2 loss=9300.773800 error=9300.686391 grad(V)=0.718831 grad(U)=1.233170\n",
      "downhill: Adam 21 loss=9300.773800 error=9300.686391 grad(V)=0.718831 grad(U)=1.233170\n",
      "downhill: Adam 22 loss=9300.479512 error=9300.392263 grad(V)=0.739953 grad(U)=1.256738\n",
      "downhill: Adam 23 loss=9300.183397 error=9300.096305 grad(V)=0.761922 grad(U)=1.281258\n",
      "downhill: Adam 24 loss=9299.885467 error=9299.798530 grad(V)=0.784723 grad(U)=1.306709\n",
      "downhill: Adam 25 loss=9299.585723 error=9299.498939 grad(V)=0.808341 grad(U)=1.333076\n",
      "downhill: Adam 26 loss=9299.284155 error=9299.197520 grad(V)=0.832759 grad(U)=1.360335\n",
      "downhill: Adam 27 loss=9298.980745 error=9298.894257 grad(V)=0.857963 grad(U)=1.388475\n",
      "downhill: Adam 28 loss=9298.675471 error=9298.589127 grad(V)=0.883937 grad(U)=1.417475\n",
      "downhill: Adam 29 loss=9298.368304 error=9298.282102 grad(V)=0.910666 grad(U)=1.447325\n",
      "downhill: Adam 30 loss=9298.059213 error=9297.973150 grad(V)=0.938135 grad(U)=1.478006\n",
      "downhill: validation 3 loss=9297.748164 error=9297.662237 grad(V)=0.966329 grad(U)=1.509509\n",
      "downhill: Adam 31 loss=9297.748164 error=9297.662237 grad(V)=0.966329 grad(U)=1.509509\n",
      "downhill: Adam 32 loss=9297.435122 error=9297.349330 grad(V)=0.995234 grad(U)=1.541822\n",
      "downhill: Adam 33 loss=9297.120051 error=9297.034390 grad(V)=1.024835 grad(U)=1.574932\n",
      "downhill: Adam 34 loss=9296.802913 error=9296.717381 grad(V)=1.055117 grad(U)=1.608830\n",
      "downhill: Adam 35 loss=9296.483673 error=9296.398268 grad(V)=1.086068 grad(U)=1.643501\n",
      "downhill: Adam 36 loss=9296.162292 error=9296.077012 grad(V)=1.117673 grad(U)=1.678940\n",
      "downhill: Adam 37 loss=9295.838737 error=9295.753580 grad(V)=1.149919 grad(U)=1.715137\n",
      "downhill: Adam 38 loss=9295.512971 error=9295.427935 grad(V)=1.182795 grad(U)=1.752082\n",
      "downhill: Adam 39 loss=9295.184962 error=9295.100044 grad(V)=1.216288 grad(U)=1.789769\n",
      "downhill: Adam 40 loss=9294.854676 error=9294.769874 grad(V)=1.250385 grad(U)=1.828188\n",
      "downhill: validation 4 loss=9294.522081 error=9294.437393 grad(V)=1.285077 grad(U)=1.867331\n",
      "downhill: Adam 41 loss=9294.522081 error=9294.437393 grad(V)=1.285077 grad(U)=1.867331\n",
      "downhill: Adam 42 loss=9294.187148 error=9294.102572 grad(V)=1.320352 grad(U)=1.907192\n",
      "downhill: Adam 43 loss=9293.849846 error=9293.765381 grad(V)=1.356201 grad(U)=1.947763\n",
      "downhill: Adam 44 loss=9293.510149 error=9293.425793 grad(V)=1.392612 grad(U)=1.989032\n",
      "downhill: Adam 45 loss=9293.168031 error=9293.083782 grad(V)=1.429577 grad(U)=2.030996\n",
      "downhill: Adam 46 loss=9292.823466 error=9292.739322 grad(V)=1.467088 grad(U)=2.073643\n",
      "downhill: Adam 47 loss=9292.476431 error=9292.392391 grad(V)=1.505134 grad(U)=2.116972\n",
      "downhill: Adam 48 loss=9292.126905 error=9292.042967 grad(V)=1.543709 grad(U)=2.160975\n",
      "downhill: Adam 49 loss=9291.774867 error=9291.691028 grad(V)=1.582804 grad(U)=2.205639\n",
      "downhill: Adam 50 loss=9291.420297 error=9291.336558 grad(V)=1.622413 grad(U)=2.250962\n",
      "downhill: validation 5 loss=9291.063179 error=9290.979537 grad(V)=1.662527 grad(U)=2.296931\n",
      "downhill: Adam 51 loss=9291.063179 error=9290.979537 grad(V)=1.662527 grad(U)=2.296931\n",
      "downhill: Adam 52 loss=9290.703497 error=9290.619950 grad(V)=1.703140 grad(U)=2.343543\n",
      "downhill: Adam 53 loss=9290.341235 error=9290.257782 grad(V)=1.744246 grad(U)=2.390788\n",
      "downhill: Adam 54 loss=9289.976380 error=9289.893020 grad(V)=1.785838 grad(U)=2.438665\n",
      "downhill: Adam 55 loss=9289.608921 error=9289.525652 grad(V)=1.827911 grad(U)=2.487155\n",
      "downhill: Adam 56 loss=9289.238845 error=9289.155667 grad(V)=1.870458 grad(U)=2.536261\n",
      "downhill: Adam 57 loss=9288.866145 error=9288.783055 grad(V)=1.913475 grad(U)=2.585976\n",
      "downhill: Adam 58 loss=9288.490810 error=9288.407807 grad(V)=1.956956 grad(U)=2.636289\n",
      "downhill: Adam 59 loss=9288.112835 error=9288.029918 grad(V)=2.000896 grad(U)=2.687196\n",
      "downhill: Adam 60 loss=9287.732211 error=9287.649379 grad(V)=2.045290 grad(U)=2.738685\n",
      "downhill: validation 6 loss=9287.348935 error=9287.266187 grad(V)=2.090134 grad(U)=2.790756\n",
      "downhill: patience elapsed!\n",
      "train: 1 of 1 mini-batches from (229, 7200)\n",
      "downhill: compiling evaluation function\n",
      "downhill: compiling Adam optimizer\n",
      "downhill: setting: rms_halflife = 14\n",
      "downhill: setting: rms_regularizer = 1e-08\n",
      "downhill: setting: patience = 5\n",
      "downhill: setting: validate_every = 10\n",
      "downhill: setting: min_improvement = 0.005\n",
      "downhill: setting: max_gradient_norm = 5\n",
      "downhill: setting: max_gradient_elem = 0\n",
      "downhill: setting: learning_rate = TensorConstant{0.001}\n",
      "downhill: setting: momentum = 0\n",
      "downhill: setting: nesterov = False\n",
      "downhill: validation 0 loss=9306.735964 error=9306.645942 grad(V)=0.350194 grad(U)=0.671553 *\n",
      "downhill: Adam 1 loss=9306.735964 error=9306.645942 grad(V)=0.350194 grad(U)=0.671553\n",
      "downhill: Adam 2 loss=9306.633603 error=9306.543673 grad(V)=0.348786 grad(U)=0.668674\n",
      "downhill: Adam 3 loss=9306.495710 error=9306.405904 grad(V)=0.347067 grad(U)=0.665070\n",
      "downhill: Adam 4 loss=9306.334804 error=9306.245144 grad(V)=0.345336 grad(U)=0.661290\n",
      "downhill: Adam 5 loss=9306.157694 error=9306.068195 grad(V)=0.343798 grad(U)=0.657666\n",
      "downhill: Adam 6 loss=9305.968794 error=9305.879465 grad(V)=0.342604 grad(U)=0.654439\n",
      "downhill: Adam 7 loss=9305.771200 error=9305.682051 grad(V)=0.341865 grad(U)=0.651787\n",
      "downhill: Adam 8 loss=9305.567178 error=9305.478214 grad(V)=0.341660 grad(U)=0.649842\n",
      "downhill: Adam 9 loss=9305.358422 error=9305.269647 grad(V)=0.342056 grad(U)=0.648704\n",
      "downhill: Adam 10 loss=9305.146209 error=9305.057626 grad(V)=0.343102 grad(U)=0.648442\n",
      "downhill: validation 1 loss=9304.931503 error=9304.843114 grad(V)=0.344838 grad(U)=0.649109\n",
      "downhill: Adam 11 loss=9304.931503 error=9304.843114 grad(V)=0.344838 grad(U)=0.649109\n",
      "downhill: Adam 12 loss=9304.715030 error=9304.626836 grad(V)=0.347290 grad(U)=0.650747\n",
      "downhill: Adam 13 loss=9304.497330 error=9304.409331 grad(V)=0.350475 grad(U)=0.653374\n",
      "downhill: Adam 14 loss=9304.278798 error=9304.190993 grad(V)=0.354400 grad(U)=0.657006\n",
      "downhill: Adam 15 loss=9304.059717 error=9303.972106 grad(V)=0.359065 grad(U)=0.661643\n",
      "downhill: Adam 16 loss=9303.840283 error=9303.752865 grad(V)=0.364467 grad(U)=0.667279\n",
      "downhill: Adam 17 loss=9303.620622 error=9303.533394 grad(V)=0.370600 grad(U)=0.673902\n",
      "downhill: Adam 18 loss=9303.400805 error=9303.313766 grad(V)=0.377457 grad(U)=0.681493\n",
      "downhill: Adam 19 loss=9303.180862 error=9303.094011 grad(V)=0.385028 grad(U)=0.690032\n",
      "downhill: Adam 20 loss=9302.960792 error=9302.874126 grad(V)=0.393305 grad(U)=0.699490\n",
      "downhill: validation 2 loss=9302.740569 error=9302.654085 grad(V)=0.402277 grad(U)=0.709844\n",
      "downhill: Adam 21 loss=9302.740569 error=9302.654085 grad(V)=0.402277 grad(U)=0.709844\n",
      "downhill: Adam 22 loss=9302.520146 error=9302.433842 grad(V)=0.411935 grad(U)=0.721064\n",
      "downhill: Adam 23 loss=9302.299466 error=9302.213340 grad(V)=0.422267 grad(U)=0.733122\n",
      "downhill: Adam 24 loss=9302.078460 error=9301.992508 grad(V)=0.433264 grad(U)=0.745996\n",
      "downhill: Adam 25 loss=9301.857051 error=9301.771271 grad(V)=0.444916 grad(U)=0.759657\n",
      "downhill: Adam 26 loss=9301.635156 error=9301.549546 grad(V)=0.457215 grad(U)=0.774085\n",
      "downhill: Adam 27 loss=9301.412689 error=9301.327245 grad(V)=0.470150 grad(U)=0.789260\n",
      "downhill: Adam 28 loss=9301.189559 error=9301.104280 grad(V)=0.483715 grad(U)=0.805161\n",
      "downhill: Adam 29 loss=9300.965674 error=9300.880557 grad(V)=0.497902 grad(U)=0.821774\n",
      "downhill: Adam 30 loss=9300.740941 error=9300.655982 grad(V)=0.512702 grad(U)=0.839082\n",
      "downhill: validation 3 loss=9300.515265 error=9300.430462 grad(V)=0.528111 grad(U)=0.857074\n",
      "downhill: Adam 31 loss=9300.515265 error=9300.430462 grad(V)=0.528111 grad(U)=0.857074\n",
      "downhill: Adam 32 loss=9300.288549 error=9300.203900 grad(V)=0.544120 grad(U)=0.875742\n",
      "downhill: Adam 33 loss=9300.060700 error=9299.976201 grad(V)=0.560724 grad(U)=0.895079\n",
      "downhill: Adam 34 loss=9299.831621 error=9299.747271 grad(V)=0.577917 grad(U)=0.915077\n",
      "downhill: Adam 35 loss=9299.601219 error=9299.517015 grad(V)=0.595694 grad(U)=0.935732\n",
      "downhill: Adam 36 loss=9299.369401 error=9299.285340 grad(V)=0.614050 grad(U)=0.957040\n",
      "downhill: Adam 37 loss=9299.136075 error=9299.052155 grad(V)=0.632980 grad(U)=0.979000\n",
      "downhill: Adam 38 loss=9298.901153 error=9298.817371 grad(V)=0.652480 grad(U)=1.001611\n",
      "downhill: Adam 39 loss=9298.664546 error=9298.580899 grad(V)=0.672545 grad(U)=1.024870\n",
      "downhill: Adam 40 loss=9298.426168 error=9298.342655 grad(V)=0.693171 grad(U)=1.048776\n",
      "downhill: validation 4 loss=9298.185938 error=9298.102555 grad(V)=0.714355 grad(U)=1.073329\n",
      "downhill: Adam 41 loss=9298.185938 error=9298.102555 grad(V)=0.714355 grad(U)=1.073329\n",
      "downhill: Adam 42 loss=9297.943773 error=9297.860519 grad(V)=0.736093 grad(U)=1.098529\n",
      "downhill: Adam 43 loss=9297.699597 error=9297.616468 grad(V)=0.758383 grad(U)=1.124376\n",
      "downhill: Adam 44 loss=9297.453331 error=9297.370326 grad(V)=0.781221 grad(U)=1.150871\n",
      "downhill: Adam 45 loss=9297.204904 error=9297.122021 grad(V)=0.804604 grad(U)=1.178015\n",
      "downhill: Adam 46 loss=9296.954243 error=9296.871480 grad(V)=0.828532 grad(U)=1.205803\n",
      "downhill: Adam 47 loss=9296.701281 error=9296.618635 grad(V)=0.853000 grad(U)=1.234238\n",
      "downhill: Adam 48 loss=9296.445952 error=9296.363422 grad(V)=0.878007 grad(U)=1.263321\n",
      "downhill: Adam 49 loss=9296.188192 error=9296.105775 grad(V)=0.903552 grad(U)=1.293051\n",
      "downhill: Adam 50 loss=9295.927941 error=9295.845635 grad(V)=0.929633 grad(U)=1.323426\n",
      "downhill: validation 5 loss=9295.665139 error=9295.582944 grad(V)=0.956249 grad(U)=1.354447\n",
      "downhill: Adam 51 loss=9295.665139 error=9295.582944 grad(V)=0.956249 grad(U)=1.354447\n",
      "downhill: Adam 52 loss=9295.399732 error=9295.317644 grad(V)=0.983398 grad(U)=1.386114\n",
      "downhill: Adam 53 loss=9295.131666 error=9295.049684 grad(V)=1.011079 grad(U)=1.418426\n",
      "downhill: Adam 54 loss=9294.860890 error=9294.779012 grad(V)=1.039292 grad(U)=1.451382\n",
      "downhill: Adam 55 loss=9294.587355 error=9294.505579 grad(V)=1.068035 grad(U)=1.484981\n",
      "downhill: Adam 56 loss=9294.311015 error=9294.229341 grad(V)=1.097309 grad(U)=1.519218\n",
      "downhill: Adam 57 loss=9294.031828 error=9293.950253 grad(V)=1.127112 grad(U)=1.554096\n",
      "downhill: Adam 58 loss=9293.749753 error=9293.668276 grad(V)=1.157444 grad(U)=1.589609\n",
      "downhill: Adam 59 loss=9293.464750 error=9293.383369 grad(V)=1.188305 grad(U)=1.625759\n",
      "downhill: Adam 60 loss=9293.176785 error=9293.095498 grad(V)=1.219694 grad(U)=1.662538\n",
      "downhill: validation 6 loss=9292.885823 error=9292.804629 grad(V)=1.251612 grad(U)=1.699949\n",
      "downhill: patience elapsed!\n",
      "train: 1 of 1 mini-batches from (229, 7200)\n",
      "downhill: compiling evaluation function\n",
      "downhill: compiling Adam optimizer\n",
      "downhill: setting: rms_halflife = 14\n",
      "downhill: setting: rms_regularizer = 1e-08\n",
      "downhill: setting: patience = 5\n",
      "downhill: setting: validate_every = 10\n",
      "downhill: setting: min_improvement = 0.005\n",
      "downhill: setting: max_gradient_norm = 5\n",
      "downhill: setting: max_gradient_elem = 0\n",
      "downhill: setting: learning_rate = TensorConstant{0.001}\n",
      "downhill: setting: momentum = 0\n",
      "downhill: setting: nesterov = False\n",
      "downhill: validation 0 loss=9305.720278 error=9305.631234 grad(V)=0.389210 grad(U)=0.608521 *\n",
      "downhill: Adam 1 loss=9305.720278 error=9305.631234 grad(V)=0.389210 grad(U)=0.608521\n",
      "downhill: Adam 2 loss=9305.619354 error=9305.530396 grad(V)=0.388243 grad(U)=0.607221\n",
      "downhill: Adam 3 loss=9305.483217 error=9305.394376 grad(V)=0.387182 grad(U)=0.605815\n",
      "downhill: Adam 4 loss=9305.324091 error=9305.235386 grad(V)=0.386253 grad(U)=0.604685\n",
      "downhill: Adam 5 loss=9305.148590 error=9305.060034 grad(V)=0.385624 grad(U)=0.604082\n",
      "downhill: Adam 6 loss=9304.961002 error=9304.872606 grad(V)=0.385421 grad(U)=0.604182\n",
      "downhill: Adam 7 loss=9304.764338 error=9304.676109 grad(V)=0.385754 grad(U)=0.605115\n",
      "downhill: Adam 8 loss=9304.560804 error=9304.472747 grad(V)=0.386705 grad(U)=0.606971\n",
      "downhill: Adam 9 loss=9304.352050 error=9304.264170 grad(V)=0.388342 grad(U)=0.609820\n",
      "downhill: Adam 10 loss=9304.139329 error=9304.051628 grad(V)=0.390713 grad(U)=0.613709\n",
      "downhill: validation 1 loss=9303.923594 error=9303.836073 grad(V)=0.393856 grad(U)=0.618664\n",
      "downhill: Adam 11 loss=9303.923594 error=9303.836073 grad(V)=0.393856 grad(U)=0.618664\n",
      "downhill: Adam 12 loss=9303.705569 error=9303.618230 grad(V)=0.397794 grad(U)=0.624703\n",
      "downhill: Adam 13 loss=9303.485806 error=9303.398649 grad(V)=0.402539 grad(U)=0.631831\n",
      "downhill: Adam 14 loss=9303.264716 error=9303.177741 grad(V)=0.408097 grad(U)=0.640047\n",
      "downhill: Adam 15 loss=9303.042601 error=9302.955807 grad(V)=0.414468 grad(U)=0.649337\n",
      "downhill: Adam 16 loss=9302.819675 error=9302.733061 grad(V)=0.421648 grad(U)=0.659689\n",
      "downhill: Adam 17 loss=9302.596078 error=9302.509644 grad(V)=0.429629 grad(U)=0.671085\n",
      "downhill: Adam 18 loss=9302.371898 error=9302.285642 grad(V)=0.438404 grad(U)=0.683504\n",
      "downhill: Adam 19 loss=9302.147175 error=9302.061096 grad(V)=0.447960 grad(U)=0.696925\n",
      "downhill: Adam 20 loss=9301.921913 error=9301.836010 grad(V)=0.458284 grad(U)=0.711324\n",
      "downhill: validation 2 loss=9301.696090 error=9301.610360 grad(V)=0.469364 grad(U)=0.726681\n",
      "downhill: Adam 21 loss=9301.696090 error=9301.610360 grad(V)=0.469364 grad(U)=0.726681\n",
      "downhill: Adam 22 loss=9301.469658 error=9301.384099 grad(V)=0.481186 grad(U)=0.742973\n",
      "downhill: Adam 23 loss=9301.242554 error=9301.157165 grad(V)=0.493736 grad(U)=0.760175\n",
      "downhill: Adam 24 loss=9301.014699 error=9300.929478 grad(V)=0.507000 grad(U)=0.778267\n",
      "downhill: Adam 25 loss=9300.786007 error=9300.700951 grad(V)=0.520966 grad(U)=0.797226\n",
      "downhill: Adam 26 loss=9300.556383 error=9300.471491 grad(V)=0.535621 grad(U)=0.817036\n",
      "downhill: Adam 27 loss=9300.325730 error=9300.240999 grad(V)=0.550951 grad(U)=0.837672\n",
      "downhill: Adam 28 loss=9300.093947 error=9300.009376 grad(V)=0.566945 grad(U)=0.859116\n",
      "downhill: Adam 29 loss=9299.860936 error=9299.776521 grad(V)=0.583592 grad(U)=0.881348\n",
      "downhill: Adam 30 loss=9299.626595 error=9299.542335 grad(V)=0.600881 grad(U)=0.904352\n",
      "downhill: validation 3 loss=9299.390827 error=9299.306720 grad(V)=0.618801 grad(U)=0.928108\n",
      "downhill: Adam 31 loss=9299.390827 error=9299.306720 grad(V)=0.618801 grad(U)=0.928108\n",
      "downhill: Adam 32 loss=9299.153538 error=9299.069581 grad(V)=0.637345 grad(U)=0.952601\n",
      "downhill: Adam 33 loss=9298.914633 error=9298.830824 grad(V)=0.656502 grad(U)=0.977817\n",
      "downhill: Adam 34 loss=9298.674024 error=9298.590360 grad(V)=0.676265 grad(U)=1.003741\n",
      "downhill: Adam 35 loss=9298.431622 error=9298.348102 grad(V)=0.696627 grad(U)=1.030360\n",
      "downhill: Adam 36 loss=9298.187343 error=9298.103965 grad(V)=0.717580 grad(U)=1.057664\n",
      "downhill: Adam 37 loss=9297.941107 error=9297.857869 grad(V)=0.739120 grad(U)=1.085644\n",
      "downhill: Adam 38 loss=9297.692837 error=9297.609736 grad(V)=0.761241 grad(U)=1.114288\n",
      "downhill: Adam 39 loss=9297.442458 error=9297.359492 grad(V)=0.783937 grad(U)=1.143589\n",
      "downhill: Adam 40 loss=9297.189899 error=9297.107066 grad(V)=0.807205 grad(U)=1.173538\n",
      "downhill: validation 4 loss=9296.935092 error=9296.852390 grad(V)=0.831040 grad(U)=1.204132\n",
      "downhill: Adam 41 loss=9296.935092 error=9296.852390 grad(V)=0.831040 grad(U)=1.204132\n",
      "downhill: Adam 42 loss=9296.677972 error=9296.595399 grad(V)=0.855438 grad(U)=1.235363\n",
      "downhill: Adam 43 loss=9296.418477 error=9296.336031 grad(V)=0.880397 grad(U)=1.267226\n",
      "downhill: Adam 44 loss=9296.156548 error=9296.074226 grad(V)=0.905914 grad(U)=1.299718\n",
      "downhill: Adam 45 loss=9295.892127 error=9295.809929 grad(V)=0.931986 grad(U)=1.332834\n",
      "downhill: Adam 46 loss=9295.625162 error=9295.543085 grad(V)=0.958610 grad(U)=1.366570\n",
      "downhill: Adam 47 loss=9295.355601 error=9295.273643 grad(V)=0.985785 grad(U)=1.400921\n",
      "downhill: Adam 48 loss=9295.083394 error=9295.001553 grad(V)=1.013510 grad(U)=1.435890\n",
      "downhill: Adam 49 loss=9294.808494 error=9294.726769 grad(V)=1.041781 grad(U)=1.471472\n",
      "downhill: Adam 50 loss=9294.530858 error=9294.449246 grad(V)=1.070598 grad(U)=1.507663\n",
      "downhill: validation 5 loss=9294.250443 error=9294.168942 grad(V)=1.099960 grad(U)=1.544466\n",
      "downhill: Adam 51 loss=9294.250443 error=9294.168942 grad(V)=1.099960 grad(U)=1.544466\n",
      "downhill: Adam 52 loss=9293.967207 error=9293.885817 grad(V)=1.129864 grad(U)=1.581874\n",
      "downhill: Adam 53 loss=9293.681114 error=9293.599831 grad(V)=1.160311 grad(U)=1.619891\n",
      "downhill: Adam 54 loss=9293.392126 error=9293.310949 grad(V)=1.191299 grad(U)=1.658518\n",
      "downhill: Adam 55 loss=9293.100208 error=9293.019135 grad(V)=1.222827 grad(U)=1.697746\n",
      "downhill: Adam 56 loss=9292.805327 error=9292.724358 grad(V)=1.254894 grad(U)=1.737582\n",
      "downhill: Adam 57 loss=9292.507454 error=9292.426585 grad(V)=1.287499 grad(U)=1.778020\n",
      "downhill: Adam 58 loss=9292.206557 error=9292.125788 grad(V)=1.320641 grad(U)=1.819065\n",
      "downhill: Adam 59 loss=9291.902610 error=9291.821939 grad(V)=1.354321 grad(U)=1.860713\n",
      "downhill: Adam 60 loss=9291.595586 error=9291.515011 grad(V)=1.388536 grad(U)=1.902963\n",
      "downhill: validation 6 loss=9291.285460 error=9291.204981 grad(V)=1.423286 grad(U)=1.945815\n",
      "downhill: patience elapsed!\n",
      "train: 1 of 1 mini-batches from (229, 7200)\n",
      "downhill: compiling evaluation function\n",
      "downhill: compiling Adam optimizer\n",
      "downhill: setting: rms_halflife = 14\n",
      "downhill: setting: rms_regularizer = 1e-08\n",
      "downhill: setting: patience = 5\n",
      "downhill: setting: validate_every = 10\n",
      "downhill: setting: min_improvement = 0.005\n",
      "downhill: setting: max_gradient_norm = 5\n",
      "downhill: setting: max_gradient_elem = 0\n",
      "downhill: setting: learning_rate = TensorConstant{0.001}\n",
      "downhill: setting: momentum = 0\n",
      "downhill: setting: nesterov = False\n",
      "downhill: validation 0 loss=9307.103030 error=9307.012794 grad(U)=0.667015 grad(V)=0.589510 *\n",
      "downhill: Adam 1 loss=9307.103030 error=9307.012794 grad(U)=0.667015 grad(V)=0.589510\n",
      "downhill: Adam 2 loss=9306.994325 error=9306.904182 grad(U)=0.664267 grad(V)=0.585869\n",
      "downhill: Adam 3 loss=9306.847927 error=9306.757908 grad(U)=0.661049 grad(V)=0.581184\n",
      "downhill: Adam 4 loss=9306.677122 error=9306.587248 grad(U)=0.658021 grad(V)=0.576023\n",
      "downhill: Adam 5 loss=9306.489100 error=9306.399386 grad(U)=0.655579 grad(V)=0.570744\n",
      "downhill: Adam 6 loss=9306.288487 error=9306.198944 grad(U)=0.653994 grad(V)=0.565598\n",
      "downhill: Adam 7 loss=9306.078505 error=9305.989141 grad(U)=0.653418 grad(V)=0.560773\n",
      "downhill: Adam 8 loss=9305.861495 error=9305.772314 grad(U)=0.653946 grad(V)=0.556419\n",
      "downhill: Adam 9 loss=9305.639196 error=9305.550204 grad(U)=0.655620 grad(V)=0.552655\n",
      "downhill: Adam 10 loss=9305.412926 error=9305.324125 grad(U)=0.658457 grad(V)=0.549570\n",
      "downhill: validation 1 loss=9305.183688 error=9305.095080 grad(U)=0.662452 grad(V)=0.547233\n",
      "downhill: Adam 11 loss=9305.183688 error=9305.095080 grad(U)=0.662452 grad(V)=0.547233\n",
      "downhill: Adam 12 loss=9304.952247 error=9304.863832 grad(U)=0.667592 grad(V)=0.545694\n",
      "downhill: Adam 13 loss=9304.719183 error=9304.630963 grad(U)=0.673863 grad(V)=0.544988\n",
      "downhill: Adam 14 loss=9304.484933 error=9304.396906 grad(U)=0.681246 grad(V)=0.545144\n",
      "downhill: Adam 15 loss=9304.249816 error=9304.161981 grad(U)=0.689719 grad(V)=0.546178\n",
      "downhill: Adam 16 loss=9304.014058 error=9303.926414 grad(U)=0.699261 grad(V)=0.548101\n",
      "downhill: Adam 17 loss=9303.777810 error=9303.690356 grad(U)=0.709850 grad(V)=0.550919\n",
      "downhill: Adam 18 loss=9303.541165 error=9303.453899 grad(U)=0.721465 grad(V)=0.554631\n",
      "downhill: Adam 19 loss=9303.304165 error=9303.217084 grad(U)=0.734086 grad(V)=0.559233\n",
      "downhill: Adam 20 loss=9303.066813 error=9302.979916 grad(U)=0.747691 grad(V)=0.564719\n",
      "downhill: validation 2 loss=9302.829084 error=9302.742369 grad(U)=0.762259 grad(V)=0.571081\n",
      "downhill: Adam 21 loss=9302.829084 error=9302.742369 grad(U)=0.762259 grad(V)=0.571081\n",
      "downhill: Adam 22 loss=9302.590928 error=9302.504392 grad(U)=0.777769 grad(V)=0.578308\n",
      "downhill: Adam 23 loss=9302.352277 error=9302.265917 grad(U)=0.794205 grad(V)=0.586390\n",
      "downhill: Adam 24 loss=9302.113047 error=9302.026860 grad(U)=0.811548 grad(V)=0.595316\n",
      "downhill: Adam 25 loss=9301.873144 error=9301.787128 grad(U)=0.829783 grad(V)=0.605076\n",
      "downhill: Adam 26 loss=9301.632466 error=9301.546618 grad(U)=0.848893 grad(V)=0.615659\n",
      "downhill: Adam 27 loss=9301.390904 error=9301.305222 grad(U)=0.868863 grad(V)=0.627055\n",
      "downhill: Adam 28 loss=9301.148348 error=9301.062829 grad(U)=0.889680 grad(V)=0.639254\n",
      "downhill: Adam 29 loss=9300.904684 error=9300.819325 grad(U)=0.911331 grad(V)=0.652248\n",
      "downhill: Adam 30 loss=9300.659798 error=9300.574596 grad(U)=0.933802 grad(V)=0.666027\n",
      "downhill: validation 3 loss=9300.413577 error=9300.328528 grad(U)=0.957087 grad(V)=0.680582\n",
      "downhill: Adam 31 loss=9300.413577 error=9300.328528 grad(U)=0.957087 grad(V)=0.680582\n",
      "downhill: Adam 32 loss=9300.165907 error=9300.081010 grad(U)=0.981173 grad(V)=0.695906\n",
      "downhill: Adam 33 loss=9299.916679 error=9299.831931 grad(U)=1.006050 grad(V)=0.711990\n",
      "downhill: Adam 34 loss=9299.665786 error=9299.581185 grad(U)=1.031711 grad(V)=0.728827\n",
      "downhill: Adam 35 loss=9299.413123 error=9299.328666 grad(U)=1.058147 grad(V)=0.746409\n",
      "downhill: Adam 36 loss=9299.158590 error=9299.074274 grad(U)=1.085351 grad(V)=0.764729\n",
      "downhill: Adam 37 loss=9298.902089 error=9298.817911 grad(U)=1.113319 grad(V)=0.783780\n",
      "downhill: Adam 38 loss=9298.643526 error=9298.559484 grad(U)=1.142043 grad(V)=0.803557\n",
      "downhill: Adam 39 loss=9298.382810 error=9298.298902 grad(U)=1.171516 grad(V)=0.824053\n",
      "downhill: Adam 40 loss=9298.119856 error=9298.036080 grad(U)=1.201734 grad(V)=0.845262\n",
      "downhill: validation 4 loss=9297.854580 error=9297.770933 grad(U)=1.232690 grad(V)=0.867180\n",
      "downhill: Adam 41 loss=9297.854580 error=9297.770933 grad(U)=1.232690 grad(V)=0.867180\n",
      "downhill: Adam 42 loss=9297.586904 error=9297.503385 grad(U)=1.264382 grad(V)=0.889799\n",
      "downhill: Adam 43 loss=9297.316754 error=9297.233359 grad(U)=1.296801 grad(V)=0.913117\n",
      "downhill: Adam 44 loss=9297.044057 error=9296.960785 grad(U)=1.329947 grad(V)=0.937128\n",
      "downhill: Adam 45 loss=9296.768746 error=9296.685595 grad(U)=1.363812 grad(V)=0.961827\n",
      "downhill: Adam 46 loss=9296.490758 error=9296.407725 grad(U)=1.398391 grad(V)=0.987211\n",
      "downhill: Adam 47 loss=9296.210032 error=9296.127115 grad(U)=1.433680 grad(V)=1.013275\n",
      "downhill: Adam 48 loss=9295.926512 error=9295.843709 grad(U)=1.469675 grad(V)=1.040016\n",
      "downhill: Adam 49 loss=9295.640142 error=9295.557452 grad(U)=1.506373 grad(V)=1.067429\n",
      "downhill: Adam 50 loss=9295.350874 error=9295.268294 grad(U)=1.543767 grad(V)=1.095512\n",
      "downhill: validation 5 loss=9295.058659 error=9294.976187 grad(U)=1.581857 grad(V)=1.124261\n",
      "downhill: Adam 51 loss=9295.058659 error=9294.976187 grad(U)=1.581857 grad(V)=1.124261\n",
      "downhill: Adam 52 loss=9294.763454 error=9294.681088 grad(U)=1.620632 grad(V)=1.153672\n",
      "downhill: Adam 53 loss=9294.465216 error=9294.382955 grad(U)=1.660089 grad(V)=1.183743\n",
      "downhill: Adam 54 loss=9294.163906 error=9294.081748 grad(U)=1.700225 grad(V)=1.214471\n",
      "downhill: Adam 55 loss=9293.859488 error=9293.777431 grad(U)=1.741035 grad(V)=1.245852\n",
      "downhill: Adam 56 loss=9293.551928 error=9293.469971 grad(U)=1.782512 grad(V)=1.277884\n",
      "downhill: Adam 57 loss=9293.241195 error=9293.159335 grad(U)=1.824656 grad(V)=1.310563\n",
      "downhill: Adam 58 loss=9292.927258 error=9292.845494 grad(U)=1.867458 grad(V)=1.343889\n",
      "downhill: Adam 59 loss=9292.610090 error=9292.528421 grad(U)=1.910918 grad(V)=1.377856\n",
      "downhill: Adam 60 loss=9292.289667 error=9292.208091 grad(U)=1.955025 grad(V)=1.412464\n",
      "downhill: validation 6 loss=9291.965964 error=9291.884480 grad(U)=1.999780 grad(V)=1.447710\n",
      "downhill: patience elapsed!\n",
      "train: 1 of 1 mini-batches from (229, 7200)\n",
      "downhill: compiling evaluation function\n",
      "downhill: compiling Adam optimizer\n",
      "downhill: setting: rms_halflife = 14\n",
      "downhill: setting: rms_regularizer = 1e-08\n",
      "downhill: setting: patience = 5\n",
      "downhill: setting: validate_every = 10\n",
      "downhill: setting: min_improvement = 0.005\n",
      "downhill: setting: max_gradient_norm = 5\n",
      "downhill: setting: max_gradient_elem = 0\n",
      "downhill: setting: learning_rate = TensorConstant{0.001}\n",
      "downhill: setting: momentum = 0\n",
      "downhill: setting: nesterov = False\n",
      "downhill: validation 0 loss=9306.723003 error=9306.632711 grad(V)=0.512977 grad(U)=0.690932 *\n",
      "downhill: Adam 1 loss=9306.723003 error=9306.632711 grad(V)=0.512977 grad(U)=0.690932\n",
      "downhill: Adam 2 loss=9306.616334 error=9306.526129 grad(V)=0.511680 grad(U)=0.690738\n",
      "downhill: Adam 3 loss=9306.472245 error=9306.382157 grad(V)=0.510135 grad(U)=0.690808\n",
      "downhill: Adam 4 loss=9306.303530 error=9306.213578 grad(V)=0.508650 grad(U)=0.691374\n",
      "downhill: Adam 5 loss=9306.117083 error=9306.027282 grad(V)=0.507428 grad(U)=0.692622\n",
      "downhill: Adam 6 loss=9305.917350 error=9305.827710 grad(V)=0.506625 grad(U)=0.694699\n",
      "downhill: Adam 7 loss=9305.707445 error=9305.617974 grad(V)=0.506359 grad(U)=0.697711\n",
      "downhill: Adam 8 loss=9305.489649 error=9305.400351 grad(V)=0.506723 grad(U)=0.701737\n",
      "downhill: Adam 9 loss=9305.265673 error=9305.176553 grad(V)=0.507787 grad(U)=0.706830\n",
      "downhill: Adam 10 loss=9305.036820 error=9304.947880 grad(V)=0.509605 grad(U)=0.713027\n",
      "downhill: validation 1 loss=9304.804089 error=9304.715330 grad(V)=0.512218 grad(U)=0.720352\n",
      "downhill: Adam 11 loss=9304.804089 error=9304.715330 grad(V)=0.512218 grad(U)=0.720352\n",
      "downhill: Adam 12 loss=9304.568240 error=9304.479664 grad(V)=0.515655 grad(U)=0.728822\n",
      "downhill: Adam 13 loss=9304.329852 error=9304.241459 grad(V)=0.519939 grad(U)=0.738444\n",
      "downhill: Adam 14 loss=9304.089360 error=9304.001148 grad(V)=0.525083 grad(U)=0.749219\n",
      "downhill: Adam 15 loss=9303.847085 error=9303.759054 grad(V)=0.531094 grad(U)=0.761141\n",
      "downhill: Adam 16 loss=9303.603259 error=9303.515408 grad(V)=0.537974 grad(U)=0.774199\n",
      "downhill: Adam 17 loss=9303.358043 error=9303.270371 grad(V)=0.545721 grad(U)=0.788381\n",
      "downhill: Adam 18 loss=9303.111544 error=9303.024049 grad(V)=0.554330 grad(U)=0.803665\n",
      "downhill: Adam 19 loss=9302.863822 error=9302.776501 grad(V)=0.563793 grad(U)=0.820034\n",
      "downhill: Adam 20 loss=9302.614903 error=9302.527755 grad(V)=0.574104 grad(U)=0.837463\n",
      "downhill: validation 2 loss=9302.364787 error=9302.277809 grad(V)=0.585252 grad(U)=0.855932\n",
      "downhill: Adam 21 loss=9302.364787 error=9302.277809 grad(V)=0.585252 grad(U)=0.855932\n",
      "downhill: Adam 22 loss=9302.113450 error=9302.026641 grad(V)=0.597227 grad(U)=0.875415\n",
      "downhill: Adam 23 loss=9301.860855 error=9301.774212 grad(V)=0.610021 grad(U)=0.895890\n",
      "downhill: Adam 24 loss=9301.606949 error=9301.520469 grad(V)=0.623622 grad(U)=0.917331\n",
      "downhill: Adam 25 loss=9301.351671 error=9301.265353 grad(V)=0.638020 grad(U)=0.939714\n",
      "downhill: Adam 26 loss=9301.094953 error=9301.008793 grad(V)=0.653204 grad(U)=0.963018\n",
      "downhill: Adam 27 loss=9300.836723 error=9300.750719 grad(V)=0.669165 grad(U)=0.987222\n",
      "downhill: Adam 28 loss=9300.576904 error=9300.491055 grad(V)=0.685892 grad(U)=1.012303\n",
      "downhill: Adam 29 loss=9300.315421 error=9300.229723 grad(V)=0.703376 grad(U)=1.038242\n",
      "downhill: Adam 30 loss=9300.052196 error=9299.966647 grad(V)=0.721606 grad(U)=1.065018\n",
      "downhill: validation 3 loss=9299.787152 error=9299.701750 grad(V)=0.740572 grad(U)=1.092611\n",
      "downhill: Adam 31 loss=9299.787152 error=9299.701750 grad(V)=0.740572 grad(U)=1.092611\n",
      "downhill: Adam 32 loss=9299.520216 error=9299.434957 grad(V)=0.760267 grad(U)=1.121003\n",
      "downhill: Adam 33 loss=9299.251313 error=9299.166196 grad(V)=0.780680 grad(U)=1.150180\n",
      "downhill: Adam 34 loss=9298.980375 error=9298.895397 grad(V)=0.801803 grad(U)=1.180124\n",
      "downhill: Adam 35 loss=9298.707332 error=9298.622491 grad(V)=0.823629 grad(U)=1.210820\n",
      "downhill: Adam 36 loss=9298.432121 error=9298.347415 grad(V)=0.846148 grad(U)=1.242254\n",
      "downhill: Adam 37 loss=9298.154680 error=9298.070107 grad(V)=0.869354 grad(U)=1.274412\n",
      "downhill: Adam 38 loss=9297.874951 error=9297.790508 grad(V)=0.893240 grad(U)=1.307281\n",
      "downhill: Adam 39 loss=9297.592878 error=9297.508563 grad(V)=0.917800 grad(U)=1.340852\n",
      "downhill: Adam 40 loss=9297.308410 error=9297.224221 grad(V)=0.943025 grad(U)=1.375110\n",
      "downhill: validation 4 loss=9297.021497 error=9296.937432 grad(V)=0.968912 grad(U)=1.410047\n",
      "downhill: Adam 41 loss=9297.021497 error=9296.937432 grad(V)=0.968912 grad(U)=1.410047\n",
      "downhill: Adam 42 loss=9296.732093 error=9296.648150 grad(V)=0.995453 grad(U)=1.445648\n",
      "downhill: Adam 43 loss=9296.440155 error=9296.356332 grad(V)=1.022644 grad(U)=1.481914\n",
      "downhill: Adam 44 loss=9296.145643 error=9296.061937 grad(V)=1.050480 grad(U)=1.518831\n",
      "downhill: Adam 45 loss=9295.848517 error=9295.764927 grad(V)=1.078955 grad(U)=1.556393\n",
      "downhill: Adam 46 loss=9295.548742 error=9295.465266 grad(V)=1.108064 grad(U)=1.594589\n",
      "downhill: Adam 47 loss=9295.246284 error=9295.162921 grad(V)=1.137804 grad(U)=1.633416\n",
      "downhill: Adam 48 loss=9294.941112 error=9294.857858 grad(V)=1.168170 grad(U)=1.672864\n",
      "downhill: Adam 49 loss=9294.633196 error=9294.550050 grad(V)=1.199157 grad(U)=1.712936\n",
      "downhill: Adam 50 loss=9294.322508 error=9294.239468 grad(V)=1.230761 grad(U)=1.753615\n",
      "downhill: validation 5 loss=9294.009021 error=9293.926086 grad(V)=1.262979 grad(U)=1.794907\n",
      "downhill: Adam 51 loss=9294.009021 error=9293.926086 grad(V)=1.262979 grad(U)=1.794907\n",
      "downhill: Adam 52 loss=9293.692712 error=9293.609879 grad(V)=1.295806 grad(U)=1.836806\n",
      "downhill: Adam 53 loss=9293.373556 error=9293.290824 grad(V)=1.329238 grad(U)=1.879306\n",
      "downhill: Adam 54 loss=9293.051533 error=9292.968900 grad(V)=1.363272 grad(U)=1.922403\n",
      "downhill: Adam 55 loss=9292.726620 error=9292.644086 grad(V)=1.397903 grad(U)=1.966095\n",
      "downhill: Adam 56 loss=9292.398801 error=9292.316362 grad(V)=1.433128 grad(U)=2.010371\n",
      "downhill: Adam 57 loss=9292.068055 error=9291.985711 grad(V)=1.468943 grad(U)=2.055240\n",
      "downhill: Adam 58 loss=9291.734367 error=9291.652117 grad(V)=1.505344 grad(U)=2.100693\n",
      "downhill: Adam 59 loss=9291.397721 error=9291.315562 grad(V)=1.542327 grad(U)=2.146726\n",
      "downhill: Adam 60 loss=9291.058103 error=9290.976034 grad(V)=1.579889 grad(U)=2.193342\n",
      "downhill: validation 6 loss=9290.715497 error=9290.633517 grad(V)=1.618026 grad(U)=2.240537\n",
      "downhill: patience elapsed!\n",
      "train: 1 of 1 mini-batches from (229, 7200)\n",
      "downhill: compiling evaluation function\n",
      "downhill: compiling Adam optimizer\n",
      "downhill: setting: rms_halflife = 14\n",
      "downhill: setting: rms_regularizer = 1e-08\n",
      "downhill: setting: patience = 5\n",
      "downhill: setting: validate_every = 10\n",
      "downhill: setting: min_improvement = 0.005\n",
      "downhill: setting: max_gradient_norm = 5\n",
      "downhill: setting: max_gradient_elem = 0\n",
      "downhill: setting: learning_rate = TensorConstant{0.001}\n",
      "downhill: setting: momentum = 0\n",
      "downhill: setting: nesterov = False\n",
      "downhill: validation 0 loss=9306.763729 error=9306.673054 grad(U)=0.829874 grad(V)=0.362353 *\n",
      "downhill: Adam 1 loss=9306.763729 error=9306.673054 grad(U)=0.829874 grad(V)=0.362353\n",
      "downhill: Adam 2 loss=9306.653462 error=9306.562876 grad(U)=0.827273 grad(V)=0.360925\n",
      "downhill: Adam 3 loss=9306.504895 error=9306.414429 grad(U)=0.824059 grad(V)=0.359238\n",
      "downhill: Adam 4 loss=9306.331503 error=9306.241177 grad(U)=0.820767 grad(V)=0.357588\n",
      "downhill: Adam 5 loss=9306.140614 error=9306.050443 grad(U)=0.817752 grad(V)=0.356174\n",
      "downhill: Adam 6 loss=9305.936983 error=9305.846976 grad(U)=0.815275 grad(V)=0.355155\n",
      "downhill: Adam 7 loss=9305.723942 error=9305.634108 grad(U)=0.813532 grad(V)=0.354651\n",
      "downhill: Adam 8 loss=9305.503929 error=9305.414274 grad(U)=0.812663 grad(V)=0.354755\n",
      "downhill: Adam 9 loss=9305.278765 error=9305.189292 grad(U)=0.812777 grad(V)=0.355530\n",
      "downhill: Adam 10 loss=9305.049830 error=9304.960542 grad(U)=0.813951 grad(V)=0.357024\n",
      "downhill: validation 1 loss=9304.818172 error=9304.729072 grad(U)=0.816225 grad(V)=0.359269\n",
      "downhill: Adam 11 loss=9304.818172 error=9304.729072 grad(U)=0.816225 grad(V)=0.359269\n",
      "downhill: Adam 12 loss=9304.584590 error=9304.495677 grad(U)=0.819628 grad(V)=0.362291\n",
      "downhill: Adam 13 loss=9304.349683 error=9304.260958 grad(U)=0.824165 grad(V)=0.366107\n",
      "downhill: Adam 14 loss=9304.113893 error=9304.025355 grad(U)=0.829837 grad(V)=0.370731\n",
      "downhill: Adam 15 loss=9303.877538 error=9303.789187 grad(U)=0.836633 grad(V)=0.376169\n",
      "downhill: Adam 16 loss=9303.640836 error=9303.552671 grad(U)=0.844542 grad(V)=0.382423\n",
      "downhill: Adam 17 loss=9303.403925 error=9303.315944 grad(U)=0.853544 grad(V)=0.389490\n",
      "downhill: Adam 18 loss=9303.166879 error=9303.079080 grad(U)=0.863626 grad(V)=0.397364\n",
      "downhill: Adam 19 loss=9302.929723 error=9302.842105 grad(U)=0.874766 grad(V)=0.406034\n",
      "downhill: Adam 20 loss=9302.692443 error=9302.605004 grad(U)=0.886947 grad(V)=0.415488\n",
      "downhill: validation 2 loss=9302.454994 error=9302.367731 grad(U)=0.900146 grad(V)=0.425712\n",
      "downhill: Adam 21 loss=9302.454994 error=9302.367731 grad(U)=0.900146 grad(V)=0.425712\n",
      "downhill: Adam 22 loss=9302.217310 error=9302.130220 grad(U)=0.914349 grad(V)=0.436690\n",
      "downhill: Adam 23 loss=9301.979304 error=9301.892387 grad(U)=0.929532 grad(V)=0.448406\n",
      "downhill: Adam 24 loss=9301.740882 error=9301.654133 grad(U)=0.945678 grad(V)=0.460846\n",
      "downhill: Adam 25 loss=9301.501935 error=9301.415353 grad(U)=0.962768 grad(V)=0.473993\n",
      "downhill: Adam 26 loss=9301.262352 error=9301.175934 grad(U)=0.980781 grad(V)=0.487833\n",
      "downhill: Adam 27 loss=9301.022017 error=9300.935760 grad(U)=0.999706 grad(V)=0.502352\n",
      "downhill: Adam 28 loss=9300.780811 error=9300.694713 grad(U)=1.019522 grad(V)=0.517538\n",
      "downhill: Adam 29 loss=9300.538616 error=9300.452675 grad(U)=1.040211 grad(V)=0.533378\n",
      "downhill: Adam 30 loss=9300.295317 error=9300.209529 grad(U)=1.061757 grad(V)=0.549862\n",
      "downhill: validation 3 loss=9300.050796 error=9299.965160 grad(U)=1.084142 grad(V)=0.566980\n",
      "downhill: Adam 31 loss=9300.050796 error=9299.965160 grad(U)=1.084142 grad(V)=0.566980\n",
      "downhill: Adam 32 loss=9299.804944 error=9299.719457 grad(U)=1.107351 grad(V)=0.584723\n",
      "downhill: Adam 33 loss=9299.557652 error=9299.472312 grad(U)=1.131370 grad(V)=0.603081\n",
      "downhill: Adam 34 loss=9299.308817 error=9299.223620 grad(U)=1.156183 grad(V)=0.622047\n",
      "downhill: Adam 35 loss=9299.058338 error=9298.973283 grad(U)=1.181776 grad(V)=0.641613\n",
      "downhill: Adam 36 loss=9298.806123 error=9298.721206 grad(U)=1.208132 grad(V)=0.661772\n",
      "downhill: Adam 37 loss=9298.552081 error=9298.467301 grad(U)=1.235242 grad(V)=0.682519\n",
      "downhill: Adam 38 loss=9298.296128 error=9298.211483 grad(U)=1.263090 grad(V)=0.703846\n",
      "downhill: Adam 39 loss=9298.038184 error=9297.953671 grad(U)=1.291663 grad(V)=0.725748\n",
      "downhill: Adam 40 loss=9297.778176 error=9297.693793 grad(U)=1.320951 grad(V)=0.748221\n",
      "downhill: validation 4 loss=9297.516033 error=9297.431778 grad(U)=1.350939 grad(V)=0.771259\n",
      "downhill: Adam 41 loss=9297.516033 error=9297.431778 grad(U)=1.350939 grad(V)=0.771259\n",
      "downhill: Adam 42 loss=9297.251691 error=9297.167561 grad(U)=1.381615 grad(V)=0.794858\n",
      "downhill: Adam 43 loss=9296.985087 error=9296.901081 grad(U)=1.412971 grad(V)=0.819014\n",
      "downhill: Adam 44 loss=9296.716167 error=9296.632282 grad(U)=1.444995 grad(V)=0.843722\n",
      "downhill: Adam 45 loss=9296.444877 error=9296.361111 grad(U)=1.477676 grad(V)=0.868980\n",
      "downhill: Adam 46 loss=9296.171169 error=9296.087521 grad(U)=1.511005 grad(V)=0.894785\n",
      "downhill: Adam 47 loss=9295.894997 error=9295.811465 grad(U)=1.544971 grad(V)=0.921131\n",
      "downhill: Adam 48 loss=9295.616321 error=9295.532902 grad(U)=1.579565 grad(V)=0.948018\n",
      "downhill: Adam 49 loss=9295.335102 error=9295.251794 grad(U)=1.614781 grad(V)=0.975441\n",
      "downhill: Adam 50 loss=9295.051304 error=9294.968106 grad(U)=1.650608 grad(V)=1.003398\n",
      "downhill: validation 5 loss=9294.764895 error=9294.681806 grad(U)=1.687039 grad(V)=1.031886\n",
      "downhill: Adam 51 loss=9294.764895 error=9294.681806 grad(U)=1.687039 grad(V)=1.031886\n",
      "downhill: Adam 52 loss=9294.475846 error=9294.392863 grad(U)=1.724065 grad(V)=1.060903\n",
      "downhill: Adam 53 loss=9294.184129 error=9294.101251 grad(U)=1.761681 grad(V)=1.090445\n",
      "downhill: Adam 54 loss=9293.889719 error=9293.806945 grad(U)=1.799879 grad(V)=1.120511\n",
      "downhill: Adam 55 loss=9293.592594 error=9293.509922 grad(U)=1.838654 grad(V)=1.151097\n",
      "downhill: Adam 56 loss=9293.292733 error=9293.210161 grad(U)=1.877999 grad(V)=1.182201\n",
      "downhill: Adam 57 loss=9292.990118 error=9292.907644 grad(U)=1.917908 grad(V)=1.213820\n",
      "downhill: Adam 58 loss=9292.684730 error=9292.602353 grad(U)=1.958369 grad(V)=1.245952\n",
      "downhill: Adam 59 loss=9292.376555 error=9292.294274 grad(U)=1.999386 grad(V)=1.278594\n",
      "downhill: Adam 60 loss=9292.065579 error=9291.983392 grad(U)=2.040955 grad(V)=1.311744\n",
      "downhill: validation 6 loss=9291.751789 error=9291.669695 grad(U)=2.083071 grad(V)=1.345400\n",
      "downhill: patience elapsed!\n"
     ]
    }
   ],
   "source": [
    "#Exploring rank for nmf\n",
    "ranks = np.arange(4,28)\n",
    "rse_lst = []\n",
    "for i in ranks:\n",
    "    X_filled_mf = MatrixFactorization(rank=20).complete(X_incomplete)\n",
    "    rse_lst.append(np.linalg.norm(perfil_all- X_filled_mf)/np.linalg.norm(perfil_all))"
   ]
  },
  {
   "cell_type": "code",
   "execution_count": 43,
   "metadata": {
    "collapsed": true
   },
   "outputs": [],
   "source": [
    "import matplotlib.pyplot as plt\n",
    "%matplotlib inline"
   ]
  },
  {
   "cell_type": "code",
   "execution_count": 43,
   "metadata": {},
   "outputs": [
    {
     "data": {
      "text/plain": [
       "Text(0,0.5,u'RSE')"
      ]
     },
     "execution_count": 43,
     "metadata": {},
     "output_type": "execute_result"
    },
    {
     "data": {
      "image/png": "[encoded data removed]",
      "text/plain": [
       "<matplotlib.figure.Figure at 0x7ff478ffae10>"
      ]
     },
     "metadata": {},
     "output_type": "display_data"
    }
   ],
   "source": [
    "plt.plot(ranks, rse_lst)\n",
    "plt.title('Rank exploration in MF')\n",
    "plt.xlabel('Rank')\n",
    "plt.ylabel('RSE')"
   ]
  },
  {
   "cell_type": "code",
   "execution_count": 35,
   "metadata": {},
   "outputs": [
    {
     "data": {
      "text/plain": [
       "<matplotlib.colorbar.Colorbar at 0x7f9a2e9a2d90>"
      ]
     },
     "execution_count": 35,
     "metadata": {},
     "output_type": "execute_result"
    },
    {
     "data": {
      "image/png": "[encoded data removed]",
      "text/plain": [
       "<matplotlib.figure.Figure at 0x7f9a2ea5ef10>"
      ]
     },
     "metadata": {},
     "output_type": "display_data"
    }
   ],
   "source": [
    "plt.pcolormesh(X_filled_mf)\n",
    "plt.colorbar()"
   ]
  },
  {
   "cell_type": "markdown",
   "metadata": {},
   "source": [
    "# Classification"
   ]
  },
  {
   "cell_type": "code",
   "execution_count": 38,
   "metadata": {
    "collapsed": true
   },
   "outputs": [],
   "source": [
    "X_filled_mf_rank100 = genfromtxt('../data/outcome_mf.csv', delimiter=',')"
   ]
  },
  {
   "cell_type": "code",
   "execution_count": 39,
   "metadata": {},
   "outputs": [
    {
     "name": "stdout",
     "output_type": "stream",
     "text": [
      "MF MSE: 0.105367\n"
     ]
    }
   ],
   "source": [
    "nnm_mse = np.linalg.norm(perfil_all- np.abs(X_filled_mf_rank100))/np.linalg.norm(perfil_all)\n",
    "print(\"MF MSE: %f\" % nnm_mse)"
   ]
  },
  {
   "cell_type": "code",
   "execution_count": 44,
   "metadata": {},
   "outputs": [
    {
     "data": {
      "text/plain": [
       "<matplotlib.colorbar.Colorbar at 0x7f7640a2ce10>"
      ]
     },
     "execution_count": 44,
     "metadata": {},
     "output_type": "execute_result"
    },
    {
     "data": {
      "image/png": "[encoded data removed]",
      "text/plain": [
       "<matplotlib.figure.Figure at 0x7f7640a48f50>"
      ]
     },
     "metadata": {},
     "output_type": "display_data"
    }
   ],
   "source": [
    "plt.pcolormesh(np.abs(X_filled_mf_rank100[:,:300]))\n",
    "plt.colorbar()"
   ]
  },
  {
   "cell_type": "code",
   "execution_count": 45,
   "metadata": {},
   "outputs": [
    {
     "data": {
      "text/plain": [
       "<matplotlib.colorbar.Colorbar at 0x7f76403bec10>"
      ]
     },
     "execution_count": 45,
     "metadata": {},
     "output_type": "execute_result"
    },
    {
     "data": {
      "image/png": "[encoded data removed]",
      "text/plain": [
       "<matplotlib.figure.Figure at 0x7f76401bab50>"
      ]
     },
     "metadata": {},
     "output_type": "display_data"
    }
   ],
   "source": [
    "plt.pcolormesh(np.abs(X_filled_mf_rank100[:,300:]))\n",
    "plt.colorbar()"
   ]
  },
  {
   "cell_type": "code",
   "execution_count": 46,
   "metadata": {
    "collapsed": true
   },
   "outputs": [],
   "source": [
    "from sklearn import svm"
   ]
  },
  {
   "cell_type": "code",
   "execution_count": 47,
   "metadata": {
    "collapsed": true
   },
   "outputs": [],
   "source": [
    "#Reconstructed matrix\n",
    "X_train_, X_test_, y_train_, y_test_ = train_test_split(np.abs(X_filled_mf_rank100), perfil_class, test_size=0.3, random_state=42)"
   ]
  },
  {
   "cell_type": "code",
   "execution_count": 48,
   "metadata": {
    "collapsed": true
   },
   "outputs": [],
   "source": [
    "X_train_ = np.nan_to_num(X_train)"
   ]
  },
  {
   "cell_type": "code",
   "execution_count": 49,
   "metadata": {},
   "outputs": [
    {
     "name": "stdout",
     "output_type": "stream",
     "text": [
      "2 6262\n",
      "2 6263\n",
      "30 7104\n",
      "30 7105\n"
     ]
    }
   ],
   "source": [
    "for i in range(X_train.shape[0]):\n",
    "    for j in range(X_train.shape[1]):\n",
    "        if np.isnan(X_train[i,j]): print i, j"
   ]
  },
  {
   "cell_type": "markdown",
   "metadata": {},
   "source": [
    "## Parameter exploration"
   ]
  },
  {
   "cell_type": "markdown",
   "metadata": {},
   "source": [
    "### Linear Kernel\n",
    "\n",
    "C parameter exploration"
   ]
  },
  {
   "cell_type": "code",
   "execution_count": 110,
   "metadata": {
    "collapsed": true
   },
   "outputs": [],
   "source": [
    "C_lst = np.arange(.0001,2,.001)"
   ]
  },
  {
   "cell_type": "code",
   "execution_count": 111,
   "metadata": {
    "collapsed": true
   },
   "outputs": [],
   "source": [
    "rse_lst = []\n",
    "for c in C_lst:\n",
    "    clf_linear = svm.SVC(kernel='linear', C = c)\n",
    "    clf_linear.fit(X_train_, y_train)\n",
    "    rse_lst.append( clf_linear.score(X_test_, y_test_))"
   ]
  },
  {
   "cell_type": "code",
   "execution_count": 112,
   "metadata": {},
   "outputs": [
    {
     "data": {
      "text/plain": [
       "[<matplotlib.lines.Line2D at 0x7f763a3b9bd0>]"
      ]
     },
     "execution_count": 112,
     "metadata": {},
     "output_type": "execute_result"
    },
    {
     "data": {
      "image/png": "[encoded data removed]",
      "text/plain": [
       "<matplotlib.figure.Figure at 0x7f763a4bd890>"
      ]
     },
     "metadata": {},
     "output_type": "display_data"
    }
   ],
   "source": [
    "plt.plot(C_lst, rse_lst)"
   ]
  },
  {
   "cell_type": "code",
   "execution_count": 81,
   "metadata": {},
   "outputs": [
    {
     "data": {
      "text/plain": [
       "SVC(C=1.0, cache_size=200, class_weight=None, coef0=0.0,\n",
       "  decision_function_shape='ovr', degree=3, gamma='auto', kernel='linear',\n",
       "  max_iter=-1, probability=False, random_state=None, shrinking=True,\n",
       "  tol=0.001, verbose=False)"
      ]
     },
     "execution_count": 81,
     "metadata": {},
     "output_type": "execute_result"
    }
   ],
   "source": [
    "clf_linear = svm.SVC(kernel='linear')\n",
    "clf_linear.fit(X_train_, y_train)"
   ]
  },
  {
   "cell_type": "code",
   "execution_count": 82,
   "metadata": {},
   "outputs": [
    {
     "data": {
      "text/plain": [
       "1.0"
      ]
     },
     "execution_count": 82,
     "metadata": {},
     "output_type": "execute_result"
    }
   ],
   "source": [
    "clf_linear.score(X_train_, y_train_)"
   ]
  },
  {
   "cell_type": "code",
   "execution_count": 48,
   "metadata": {
    "collapsed": true
   },
   "outputs": [],
   "source": [
    "pred_gt = clf_linear.predict(X_test)"
   ]
  },
  {
   "cell_type": "code",
   "execution_count": 85,
   "metadata": {
    "collapsed": true
   },
   "outputs": [],
   "source": [
    "pred_re = clf_linear.predict(X_test_)"
   ]
  },
  {
   "cell_type": "code",
   "execution_count": 86,
   "metadata": {},
   "outputs": [
    {
     "data": {
      "text/plain": [
       "0.55072463768115942"
      ]
     },
     "execution_count": 86,
     "metadata": {},
     "output_type": "execute_result"
    }
   ],
   "source": [
    "clf_linear.score(X_test_, y_test_)"
   ]
  },
  {
   "cell_type": "code",
   "execution_count": 87,
   "metadata": {
    "collapsed": true
   },
   "outputs": [],
   "source": [
    "from sklearn.metrics import confusion_matrix"
   ]
  },
  {
   "cell_type": "code",
   "execution_count": 88,
   "metadata": {},
   "outputs": [
    {
     "data": {
      "text/plain": [
       "array([[ 3,  1,  8],\n",
       "       [ 0,  0,  5],\n",
       "       [12,  5, 35]])"
      ]
     },
     "execution_count": 88,
     "metadata": {},
     "output_type": "execute_result"
    }
   ],
   "source": [
    "confusion_matrix(y_test, pred_re)"
   ]
  },
  {
   "cell_type": "markdown",
   "metadata": {},
   "source": [
    "#### Coefficients"
   ]
  },
  {
   "cell_type": "code",
   "execution_count": 116,
   "metadata": {},
   "outputs": [
    {
     "data": {
      "text/plain": [
       "<matplotlib.colorbar.Colorbar at 0x7f763a295790>"
      ]
     },
     "execution_count": 116,
     "metadata": {},
     "output_type": "execute_result"
    },
    {
     "data": {
      "image/png": "[encoded data removed]",
      "text/plain": [
       "<matplotlib.figure.Figure at 0x7f764022c310>"
      ]
     },
     "metadata": {},
     "output_type": "display_data"
    }
   ],
   "source": [
    "plt.pcolormesh(clf_linear.coef_)\n",
    "plt.colorbar()"
   ]
  },
  {
   "cell_type": "markdown",
   "metadata": {},
   "source": [
    "#### Normalization (re-scaling)"
   ]
  },
  {
   "cell_type": "code",
   "execution_count": 117,
   "metadata": {
    "collapsed": true
   },
   "outputs": [],
   "source": [
    "from sklearn.preprocessing import StandardScaler"
   ]
  },
  {
   "cell_type": "code",
   "execution_count": 119,
   "metadata": {
    "collapsed": true
   },
   "outputs": [],
   "source": [
    "X_train_z = StandardScaler().fit_transform(X_train_)"
   ]
  },
  {
   "cell_type": "code",
   "execution_count": 121,
   "metadata": {
    "collapsed": true
   },
   "outputs": [],
   "source": [
    "X_test_z = StandardScaler().fit_transform(X_test_)"
   ]
  },
  {
   "cell_type": "code",
   "execution_count": 128,
   "metadata": {
    "collapsed": true
   },
   "outputs": [],
   "source": [
    "C_lst = np.arange(.0001,1,.01)\n",
    "rse_lst = []\n",
    "for c in C_lst:\n",
    "    clf_linear = svm.SVC(kernel='linear', C = c)\n",
    "    clf_linear.fit(X_train_z, y_train)\n",
    "    rse_lst.append( clf_linear.score(X_test_z, y_test_))"
   ]
  },
  {
   "cell_type": "code",
   "execution_count": 129,
   "metadata": {},
   "outputs": [
    {
     "data": {
      "text/plain": [
       "[<matplotlib.lines.Line2D at 0x7f7643cb9cd0>]"
      ]
     },
     "execution_count": 129,
     "metadata": {},
     "output_type": "execute_result"
    },
    {
     "data": {
      "image/png": "[encoded data removed]",
      "text/plain": [
       "<matplotlib.figure.Figure at 0x7f7643d22710>"
      ]
     },
     "metadata": {},
     "output_type": "display_data"
    }
   ],
   "source": [
    "plt.plot(C_lst, rse_lst)"
   ]
  },
  {
   "cell_type": "code",
   "execution_count": 132,
   "metadata": {},
   "outputs": [
    {
     "name": "stdout",
     "output_type": "stream",
     "text": [
      "0.608695652174\n",
      "[[ 3  0  9]\n",
      " [ 0  0  5]\n",
      " [13  0 39]]\n"
     ]
    }
   ],
   "source": [
    "clf_linear = svm.SVC(kernel='linear', C=.0001)\n",
    "clf_linear.fit(X_train_z, y_train)\n",
    "print clf_linear.score(X_test_z, y_test_)\n",
    "pred_re = clf_linear.predict(X_test_z)\n",
    "print confusion_matrix(y_test, pred_re)"
   ]
  },
  {
   "cell_type": "code",
   "execution_count": 141,
   "metadata": {
    "collapsed": true
   },
   "outputs": [],
   "source": [
    "Gamma_lst = np.arange(.00001,20,.1)\n",
    "#C_lst = np.arange(.0001,100,1)\n",
    "rse_lst = []\n",
    "for g in Gamma_lst:\n",
    "    for c in C_lst:\n",
    "        clf_rbf = svm.SVC(C = 1, kernel='rbf', gamma = g)\n",
    "        clf_rbf.fit(X_train_z, y_train)\n",
    "        rse_lst.append( clf_rbf.score(X_test_z, y_test_))"
   ]
  },
  {
   "cell_type": "code",
   "execution_count": 140,
   "metadata": {},
   "outputs": [
    {
     "data": {
      "text/plain": [
       "[<matplotlib.lines.Line2D at 0x7f765ba17b90>]"
      ]
     },
     "execution_count": 140,
     "metadata": {},
     "output_type": "execute_result"
    },
    {
     "data": {
      "image/png": "[encoded data removed]",
      "text/plain": [
       "<matplotlib.figure.Figure at 0x7f765085c690>"
      ]
     },
     "metadata": {},
     "output_type": "display_data"
    }
   ],
   "source": [
    "plt.plot(Gamma_lst, rse_lst)"
   ]
  },
  {
   "cell_type": "code",
   "execution_count": 136,
   "metadata": {},
   "outputs": [
    {
     "name": "stdout",
     "output_type": "stream",
     "text": [
      "0.753623188406\n",
      "[[ 0  0 12]\n",
      " [ 0  0  5]\n",
      " [ 0  0 52]]\n"
     ]
    }
   ],
   "source": [
    "clf_rbf = svm.SVC(kernel='rbf', gamma = 0.1)\n",
    "clf_rbf.fit(X_train_z, y_train)\n",
    "print clf_rbf.score(X_test_z, y_test_)\n",
    "pred_re = clf_rbf.predict(X_test_z)\n",
    "print confusion_matrix(y_test, pred_re)"
   ]
  },
  {
   "cell_type": "markdown",
   "metadata": {
    "collapsed": true
   },
   "source": [
    "### RBF Kernel"
   ]
  },
  {
   "cell_type": "code",
   "execution_count": 94,
   "metadata": {
    "collapsed": true
   },
   "outputs": [],
   "source": [
    "Gamma_lst = np.arange(.00001,2,.01)"
   ]
  },
  {
   "cell_type": "code",
   "execution_count": 101,
   "metadata": {
    "collapsed": true
   },
   "outputs": [],
   "source": [
    "rse_lst = []\n",
    "for g in Gamma_lst:\n",
    "    clf_rbf = svm.SVC(kernel='rbf', gamma = g)\n",
    "    clf_rbf.fit(X_train_, y_train)\n",
    "    rse_lst.append( clf_rbf.score(X_test_, y_test_))"
   ]
  },
  {
   "cell_type": "code",
   "execution_count": 102,
   "metadata": {},
   "outputs": [
    {
     "data": {
      "text/plain": [
       "[<matplotlib.lines.Line2D at 0x7f763a475c10>]"
      ]
     },
     "execution_count": 102,
     "metadata": {},
     "output_type": "execute_result"
    },
    {
     "data": {
      "image/png": "[encoded data removed]",
      "text/plain": [
       "<matplotlib.figure.Figure at 0x7f763a48f410>"
      ]
     },
     "metadata": {},
     "output_type": "display_data"
    }
   ],
   "source": [
    "plt.plot(Gamma_lst, rse_lst)"
   ]
  },
  {
   "cell_type": "code",
   "execution_count": 103,
   "metadata": {},
   "outputs": [
    {
     "data": {
      "text/plain": [
       "SVC(C=1.0, cache_size=200, class_weight=None, coef0=0.0,\n",
       "  decision_function_shape='ovr', degree=3, gamma=0.1, kernel='rbf',\n",
       "  max_iter=-1, probability=False, random_state=None, shrinking=True,\n",
       "  tol=0.001, verbose=False)"
      ]
     },
     "execution_count": 103,
     "metadata": {},
     "output_type": "execute_result"
    }
   ],
   "source": [
    "clf_rbf = svm.SVC(kernel='rbf', gamma = 0.1)\n",
    "clf_rbf.fit(X_train_, y_train)"
   ]
  },
  {
   "cell_type": "code",
   "execution_count": 104,
   "metadata": {},
   "outputs": [
    {
     "data": {
      "text/plain": [
       "1.0"
      ]
     },
     "execution_count": 104,
     "metadata": {},
     "output_type": "execute_result"
    }
   ],
   "source": [
    "clf_rbf.score(X_train_, y_train_)"
   ]
  },
  {
   "cell_type": "code",
   "execution_count": 105,
   "metadata": {
    "collapsed": true
   },
   "outputs": [],
   "source": [
    "pred_gt = clf_rbf.predict(X_test)\n",
    "pred_re = clf_rbf.predict(X_test_)"
   ]
  },
  {
   "cell_type": "code",
   "execution_count": 106,
   "metadata": {},
   "outputs": [
    {
     "data": {
      "text/plain": [
       "array([[ 3,  1,  8],\n",
       "       [ 0,  0,  5],\n",
       "       [ 7,  5, 40]])"
      ]
     },
     "execution_count": 106,
     "metadata": {},
     "output_type": "execute_result"
    }
   ],
   "source": [
    "confusion_matrix(y_test, pred_re)"
   ]
  },
  {
   "cell_type": "code",
   "execution_count": 107,
   "metadata": {},
   "outputs": [
    {
     "data": {
      "text/plain": [
       "0.62318840579710144"
      ]
     },
     "execution_count": 107,
     "metadata": {},
     "output_type": "execute_result"
    }
   ],
   "source": [
    "clf_rbf.score(X_test_, y_test_)"
   ]
  },
  {
   "cell_type": "markdown",
   "metadata": {},
   "source": [
    "## Balanced sample"
   ]
  },
  {
   "cell_type": "code",
   "execution_count": null,
   "metadata": {
    "collapsed": true
   },
   "outputs": [],
   "source": []
  }
 ],
 "metadata": {
  "kernelspec": {
   "display_name": "Python 2.7 (Completion)",
   "language": "python",
   "name": "completion"
  },
  "language_info": {
   "codemirror_mode": {
    "name": "ipython",
    "version": 2
   },
   "file_extension": ".py",
   "mimetype": "text/x-python",
   "name": "python",
   "nbconvert_exporter": "python",
   "pygments_lexer": "ipython2",
   "version": "2.7.14"
  }
 },
 "nbformat": 4,
 "nbformat_minor": 1
}
