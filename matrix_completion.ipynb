{
 "cells": [
  {
   "cell_type": "markdown",
   "metadata": {},
   "source": [
    "# Mandibular Morphology Prediction Using Matrix Completion"
   ]
  },
  {
   "cell_type": "markdown",
   "metadata": {},
   "source": [
    "## Split dataset for training and test"
   ]
  },
  {
   "cell_type": "code",
   "execution_count": 1,
   "metadata": {
    "collapsed": true
   },
   "outputs": [],
   "source": [
    "import numpy as np\n",
    "#from sklearn.cross_validation import train_test_split\n",
    "from sklearn.model_selection import train_test_split\n",
    "from numpy import genfromtxt"
   ]
  },
  {
   "cell_type": "code",
   "execution_count": 2,
   "metadata": {
    "collapsed": true
   },
   "outputs": [],
   "source": [
    "#load perfil data\n",
    "perfil_lines = genfromtxt('../data/Perfil_Lines.csv', delimiter=',')\n",
    "perfil_angles = genfromtxt('../data/Perfil_Angles.csv', delimiter=',')"
   ]
  },
  {
   "cell_type": "code",
   "execution_count": 3,
   "metadata": {},
   "outputs": [
    {
     "name": "stdout",
     "output_type": "stream",
     "text": [
      "(229, 301) (229, 6901)\n"
     ]
    }
   ],
   "source": [
    "print perfil_lines.shape, perfil_angles.shape"
   ]
  },
  {
   "cell_type": "code",
   "execution_count": 4,
   "metadata": {
    "collapsed": true
   },
   "outputs": [],
   "source": [
    "perfil_all = np.concatenate((perfil_lines[:,1:], perfil_angles[:,1:]), axis=1)"
   ]
  },
  {
   "cell_type": "code",
   "execution_count": 5,
   "metadata": {},
   "outputs": [
    {
     "data": {
      "text/plain": [
       "(229, 7200)"
      ]
     },
     "execution_count": 5,
     "metadata": {},
     "output_type": "execute_result"
    }
   ],
   "source": [
    "perfil_all.shape"
   ]
  },
  {
   "cell_type": "code",
   "execution_count": 6,
   "metadata": {
    "collapsed": true
   },
   "outputs": [],
   "source": [
    "X_train, X_test = train_test_split(perfil_all, test_size=0.3, random_state=42)"
   ]
  },
  {
   "cell_type": "code",
   "execution_count": 7,
   "metadata": {},
   "outputs": [
    {
     "name": "stdout",
     "output_type": "stream",
     "text": [
      "(160, 7200) (69, 7200)\n"
     ]
    }
   ],
   "source": [
    "print X_train.shape, X_test.shape"
   ]
  },
  {
   "cell_type": "markdown",
   "metadata": {
    "collapsed": true
   },
   "source": [
    "### Compute missing values (mandibular measures)"
   ]
  },
  {
   "cell_type": "code",
   "execution_count": 8,
   "metadata": {
    "collapsed": true
   },
   "outputs": [],
   "source": [
    "perfil_lines_mandibular_measures = genfromtxt('../data/Perfil_Lines_type.csv', delimiter=',')\n",
    "perfil_angles_mandibular_measures = genfromtxt('../data/Perfil_Angles_type.csv', delimiter=',')"
   ]
  },
  {
   "cell_type": "code",
   "execution_count": 9,
   "metadata": {},
   "outputs": [
    {
     "name": "stdout",
     "output_type": "stream",
     "text": [
      "(301,) (6901,)\n"
     ]
    }
   ],
   "source": [
    "print perfil_lines_mandibular_measures.shape, perfil_angles_mandibular_measures.shape"
   ]
  },
  {
   "cell_type": "code",
   "execution_count": 10,
   "metadata": {},
   "outputs": [
    {
     "name": "stderr",
     "output_type": "stream",
     "text": [
      "/home/ajaque/anaconda2/envs/completion/lib/python2.7/site-packages/ipykernel_launcher.py:5: RuntimeWarning: invalid value encountered in greater\n",
      "  \"\"\"\n"
     ]
    }
   ],
   "source": [
    "# 1 if the measure includes a mandibular landmark, 0 otherwise\n",
    "perfil_lines_mask_mandibular_measures = perfil_lines_mandibular_measures[1:]\n",
    "perfil_angles_mask_mandibular_measures = perfil_angles_mandibular_measures[1:]\n",
    "perfil_lines_mask_mandibular_measures[perfil_lines_mask_mandibular_measures > 0]=-1\n",
    "perfil_angles_mask_mandibular_measures[perfil_angles_mask_mandibular_measures > 0]=-1\n",
    "perfil_all_mask_mandibular_measures = np.concatenate((perfil_lines_mask_mandibular_measures, \\\n",
    "                                                      perfil_angles_mask_mandibular_measures))"
   ]
  },
  {
   "cell_type": "code",
   "execution_count": 11,
   "metadata": {},
   "outputs": [
    {
     "name": "stdout",
     "output_type": "stream",
     "text": [
      "(300,) (6900,) (7200,)\n"
     ]
    }
   ],
   "source": [
    "print perfil_lines_mask_mandibular_measures.shape, perfil_angles_mask_mandibular_measures.shape, \\\n",
    "perfil_all_mask_mandibular_measures.shape"
   ]
  },
  {
   "cell_type": "code",
   "execution_count": 12,
   "metadata": {},
   "outputs": [
    {
     "data": {
      "text/plain": [
       "-136.0"
      ]
     },
     "execution_count": 12,
     "metadata": {},
     "output_type": "execute_result"
    }
   ],
   "source": [
    "perfil_lines_mask_mandibular_measures.sum()"
   ]
  },
  {
   "cell_type": "code",
   "execution_count": 15,
   "metadata": {
    "collapsed": true
   },
   "outputs": [],
   "source": [
    "# 0 if the measure includes a mandibular landmark, 1 otherwise\n",
    "perfil_lines_mask_mandibular_measures[perfil_lines_mask_mandibular_measures == 0] = 1\n",
    "perfil_lines_mask_mandibular_measures[perfil_lines_mask_mandibular_measures == -1] = 0"
   ]
  },
  {
   "cell_type": "code",
   "execution_count": 13,
   "metadata": {
    "collapsed": true
   },
   "outputs": [],
   "source": [
    "# 0 if the measure includes a mandibular landmark, 1 otherwise\n",
    "perfil_angles_mask_mandibular_measures[perfil_angles_mask_mandibular_measures == 0] = 1\n",
    "perfil_angles_mask_mandibular_measures[perfil_angles_mask_mandibular_measures == -1] = 0"
   ]
  },
  {
   "cell_type": "code",
   "execution_count": 14,
   "metadata": {
    "collapsed": true
   },
   "outputs": [],
   "source": [
    "perfil_all_mask_mandibular_measures = np.concatenate((perfil_lines_mask_mandibular_measures, \\\n",
    "                                                      perfil_angles_mask_mandibular_measures))"
   ]
  },
  {
   "cell_type": "code",
   "execution_count": 15,
   "metadata": {},
   "outputs": [
    {
     "name": "stdout",
     "output_type": "stream",
     "text": [
      "(69, 7200) (7200,)\n"
     ]
    }
   ],
   "source": [
    "print X_test.shape, perfil_all_mask_mandibular_measures.shape"
   ]
  },
  {
   "cell_type": "code",
   "execution_count": 16,
   "metadata": {
    "collapsed": true
   },
   "outputs": [],
   "source": [
    "X_test_mask = X_test*perfil_all_mask_mandibular_measures"
   ]
  },
  {
   "cell_type": "markdown",
   "metadata": {},
   "source": [
    "## Matrix completion\n",
    "Using fancyimpute methods "
   ]
  },
  {
   "cell_type": "markdown",
   "metadata": {
    "collapsed": true
   },
   "source": [
    "### Preprocessing"
   ]
  },
  {
   "cell_type": "code",
   "execution_count": 17,
   "metadata": {
    "collapsed": true
   },
   "outputs": [],
   "source": [
    "# NaN if the measure includes a mandibular landmark, 1 otherwise\n",
    "perfil_all_mask_mandibular_measures[perfil_all_mask_mandibular_measures == 0] = np.nan"
   ]
  },
  {
   "cell_type": "code",
   "execution_count": 18,
   "metadata": {
    "collapsed": true
   },
   "outputs": [],
   "source": [
    "X_test_masked = X_test*perfil_all_mask_mandibular_measures"
   ]
  },
  {
   "cell_type": "code",
   "execution_count": 19,
   "metadata": {},
   "outputs": [
    {
     "name": "stdout",
     "output_type": "stream",
     "text": [
      "(160, 7200) (69, 7200)\n"
     ]
    }
   ],
   "source": [
    "print X_train.shape, X_test_masked.shape"
   ]
  },
  {
   "cell_type": "code",
   "execution_count": 20,
   "metadata": {},
   "outputs": [
    {
     "name": "stdout",
     "output_type": "stream",
     "text": [
      "(229, 7200)\n"
     ]
    }
   ],
   "source": [
    "#Merge test and train\n",
    "X_incomplete = np.concatenate((X_train,X_test_masked))\n",
    "print X_incomplete.shape"
   ]
  },
  {
   "cell_type": "code",
   "execution_count": 21,
   "metadata": {},
   "outputs": [],
   "source": [
    "from fancyimpute import BiScaler, KNN, NuclearNormMinimization, SoftImpute, IterativeSVD, MatrixFactorization"
   ]
  },
  {
   "cell_type": "code",
   "execution_count": 22,
   "metadata": {},
   "outputs": [
    {
     "name": "stdout",
     "output_type": "stream",
     "text": [
      "Imputing row 1/229 with 0 missing, elapsed time: 2.090\n",
      "Imputing row 101/229 with 0 missing, elapsed time: 2.126\n",
      "Imputing row 201/229 with 5500 missing, elapsed time: 3.788\n"
     ]
    }
   ],
   "source": [
    "# Use 3 nearest rows which have a feature to fill in each row's missing features\n",
    "X_filled_knn = KNN(k=3).complete(X_incomplete)"
   ]
  },
  {
   "cell_type": "code",
   "execution_count": null,
   "metadata": {
    "collapsed": true
   },
   "outputs": [],
   "source": [
    "# matrix completion using convex optimization to find low-rank solution\n",
    "# that still matches observed values. Slow!\n",
    "X_filled_nnm = NuclearNormMinimization().complete(X_incomplete)"
   ]
  },
  {
   "cell_type": "code",
   "execution_count": null,
   "metadata": {
    "collapsed": true
   },
   "outputs": [],
   "source": []
  },
  {
   "cell_type": "code",
   "execution_count": null,
   "metadata": {
    "collapsed": true
   },
   "outputs": [],
   "source": [
    "# that still matches observed values. Slow!\n",
    "X_filled_nnm = NuclearNormMinimization().complete(X_incomplete)\n",
    "\n",
    "# Instead of solving the nuclear norm objective directly, instead\n",
    "# induce sparsity using singular value thresholding\n",
    "X_filled_softimpute = SoftImpute().complete(X_incomplete_normalized)\n",
    "\n",
    "# print mean squared error for the three imputation methods above\n",
    "nnm_mse = ((X_filled_nnm[missing_mask] - X[missing_mask]) ** 2).mean()\n",
    "print(\"Nuclear norm minimization MSE: %f\" % nnm_mse)\n",
    "\n",
    "softImpute_mse = ((X_filled_softimpute[missing_mask] - X[missing_mask]) ** 2).mean()\n",
    "print(\"SoftImpute MSE: %f\" % softImpute_mse)\n",
    "\n",
    "knn_mse = ((X_filled_knn[missing_mask] - X[missing_mask]) ** 2).mean()\n",
    "print(\"knnImpute MSE: %f\" % knn_mse)"
   ]
  }
 ],
 "metadata": {
  "kernelspec": {
   "display_name": "Python 2.7 (Completion)",
   "language": "python",
   "name": "completion"
  },
  "language_info": {
   "codemirror_mode": {
    "name": "ipython",
    "version": 2
   },
   "file_extension": ".py",
   "mimetype": "text/x-python",
   "name": "python",
   "nbconvert_exporter": "python",
   "pygments_lexer": "ipython2",
   "version": "2.7.14"
  }
 },
 "nbformat": 4,
 "nbformat_minor": 1
}
