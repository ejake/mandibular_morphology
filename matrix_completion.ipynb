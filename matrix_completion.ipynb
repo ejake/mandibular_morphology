{
 "cells": [
  {
   "cell_type": "markdown",
   "metadata": {},
   "source": [
    "# Mandibular Morphology Prediction Using Matrix Completion"
   ]
  },
  {
   "cell_type": "markdown",
   "metadata": {},
   "source": [
    "## Split dataset for training and test"
   ]
  },
  {
   "cell_type": "code",
   "execution_count": 5,
   "metadata": {
    "collapsed": false
   },
   "outputs": [],
   "source": [
    "import numpy as np\n",
    "from sklearn.cross_validation import train_test_split\n",
    "from numpy import genfromtxt"
   ]
  },
  {
   "cell_type": "code",
   "execution_count": 8,
   "metadata": {
    "collapsed": false
   },
   "outputs": [],
   "source": [
    "#load perfil data\n",
    "perfil_lines = genfromtxt('../data/Perfil_Lines.csv', delimiter=',')\n",
    "perfil_angles = genfromtxt('../data/Perfil_Angles.csv', delimiter=',')"
   ]
  },
  {
   "cell_type": "code",
   "execution_count": 9,
   "metadata": {
    "collapsed": false
   },
   "outputs": [
    {
     "name": "stdout",
     "output_type": "stream",
     "text": [
      "(229, 301) (229, 6901)\n"
     ]
    }
   ],
   "source": [
    "print perfil_lines.shape, perfil_angles.shape"
   ]
  },
  {
   "cell_type": "code",
   "execution_count": 28,
   "metadata": {
    "collapsed": true
   },
   "outputs": [],
   "source": [
    "perfil_all = np.concatenate((perfil_lines[:,1:], perfil_angles[:,1:]), axis=1)"
   ]
  },
  {
   "cell_type": "code",
   "execution_count": 29,
   "metadata": {
    "collapsed": false
   },
   "outputs": [
    {
     "data": {
      "text/plain": [
       "(229, 7200)"
      ]
     },
     "execution_count": 29,
     "metadata": {},
     "output_type": "execute_result"
    }
   ],
   "source": [
    "perfil_all.shape"
   ]
  },
  {
   "cell_type": "code",
   "execution_count": 30,
   "metadata": {
    "collapsed": false
   },
   "outputs": [],
   "source": [
    "X_train, X_test = train_test_split(perfil_all, test_size=0.3, random_state=42)"
   ]
  },
  {
   "cell_type": "code",
   "execution_count": 31,
   "metadata": {
    "collapsed": false
   },
   "outputs": [
    {
     "name": "stdout",
     "output_type": "stream",
     "text": [
      "(160, 7200) (69, 7200)\n"
     ]
    }
   ],
   "source": [
    "print X_train.shape, X_test.shape"
   ]
  },
  {
   "cell_type": "markdown",
   "metadata": {
    "collapsed": true
   },
   "source": [
    "### Compute missing values (mandibular measures)"
   ]
  },
  {
   "cell_type": "code",
   "execution_count": 102,
   "metadata": {
    "collapsed": true
   },
   "outputs": [],
   "source": [
    "perfil_lines_mandibular_measures = genfromtxt('../data/Perfil_Lines_type.csv', delimiter=',')\n",
    "perfil_angles_mandibular_measures = genfromtxt('../data/Perfil_Angles_type.csv', delimiter=',')"
   ]
  },
  {
   "cell_type": "code",
   "execution_count": 103,
   "metadata": {
    "collapsed": false
   },
   "outputs": [
    {
     "name": "stdout",
     "output_type": "stream",
     "text": [
      "(301,) (6901,)\n"
     ]
    }
   ],
   "source": [
    "print perfil_lines_mandibular_measures.shape, perfil_angles_mandibular_measures.shape"
   ]
  },
  {
   "cell_type": "code",
   "execution_count": 104,
   "metadata": {
    "collapsed": false
   },
   "outputs": [
    {
     "name": "stderr",
     "output_type": "stream",
     "text": [
      "/opt/anaconda/envs/mindlabenv/lib/python2.7/site-packages/IPython/kernel/__main__.py:5: RuntimeWarning: invalid value encountered in greater\n"
     ]
    }
   ],
   "source": [
    "# 1 if the measure includes a mandibular landmark, 0 otherwise\n",
    "perfil_lines_mask_mandibular_measures = perfil_lines_mandibular_measures[1:]\n",
    "perfil_angles_mask_mandibular_measures = perfil_angles_mandibular_measures[1:]\n",
    "perfil_lines_mask_mandibular_measures[perfil_lines_mask_mandibular_measures > 0]=-1\n",
    "perfil_angles_mask_mandibular_measures[perfil_angles_mask_mandibular_measures > 0]=-1\n",
    "perfil_all_mask_mandibular_measures = np.concatenate((perfil_lines_mask_mandibular_measures, \\\n",
    "                                                      perfil_angles_mask_mandibular_measures))"
   ]
  },
  {
   "cell_type": "code",
   "execution_count": 105,
   "metadata": {
    "collapsed": false
   },
   "outputs": [
    {
     "name": "stdout",
     "output_type": "stream",
     "text": [
      "(300,) (6900,) (7200,)\n"
     ]
    }
   ],
   "source": [
    "print perfil_lines_mask_mandibular_measures.shape, perfil_angles_mask_mandibular_measures.shape, \\\n",
    "perfil_all_mask_mandibular_measures.shape"
   ]
  },
  {
   "cell_type": "code",
   "execution_count": 109,
   "metadata": {
    "collapsed": false
   },
   "outputs": [
    {
     "data": {
      "text/plain": [
       "164.0"
      ]
     },
     "execution_count": 109,
     "metadata": {},
     "output_type": "execute_result"
    }
   ],
   "source": [
    "perfil_lines_mask_mandibular_measures.sum()"
   ]
  },
  {
   "cell_type": "code",
   "execution_count": 107,
   "metadata": {
    "collapsed": false
   },
   "outputs": [],
   "source": [
    "# 0 if the measure includes a mandibular landmark, 1 otherwise\n",
    "perfil_lines_mask_mandibular_measures[perfil_lines_mask_mandibular_measures == 0] = 1\n",
    "perfil_lines_mask_mandibular_measures[perfil_lines_mask_mandibular_measures == -1] = 0"
   ]
  },
  {
   "cell_type": "code",
   "execution_count": 111,
   "metadata": {
    "collapsed": false
   },
   "outputs": [],
   "source": [
    "# 0 if the measure includes a mandibular landmark, 1 otherwise\n",
    "perfil_angles_mask_mandibular_measures[perfil_angles_mask_mandibular_measures == 0] = 1\n",
    "perfil_angles_mask_mandibular_measures[perfil_angles_mask_mandibular_measures == -1] = 0"
   ]
  },
  {
   "cell_type": "code",
   "execution_count": 114,
   "metadata": {
    "collapsed": true
   },
   "outputs": [],
   "source": [
    "perfil_all_mask_mandibular_measures = np.concatenate((perfil_lines_mask_mandibular_measures, \\\n",
    "                                                      perfil_angles_mask_mandibular_measures))"
   ]
  },
  {
   "cell_type": "code",
   "execution_count": 115,
   "metadata": {
    "collapsed": false
   },
   "outputs": [
    {
     "name": "stdout",
     "output_type": "stream",
     "text": [
      "(69, 7200) (7200,)\n"
     ]
    }
   ],
   "source": [
    "print X_test.shape, perfil_all_mask_mandibular_measures.shape"
   ]
  },
  {
   "cell_type": "code",
   "execution_count": 124,
   "metadata": {
    "collapsed": true
   },
   "outputs": [],
   "source": [
    "X_test_mask = X_test*perfil_all_mask_mandibular_measures"
   ]
  },
  {
   "cell_type": "code",
   "execution_count": 121,
   "metadata": {
    "collapsed": false
   },
   "outputs": [],
   "source": []
  },
  {
   "cell_type": "code",
   "execution_count": 122,
   "metadata": {
    "collapsed": true
   },
   "outputs": [],
   "source": [
    "C = A*b"
   ]
  },
  {
   "cell_type": "code",
   "execution_count": 123,
   "metadata": {
    "collapsed": false
   },
   "outputs": [
    {
     "data": {
      "text/plain": [
       "array([[0, 0, 3],\n",
       "       [0, 0, 6]])"
      ]
     },
     "execution_count": 123,
     "metadata": {},
     "output_type": "execute_result"
    }
   ],
   "source": [
    "C"
   ]
  },
  {
   "cell_type": "code",
   "execution_count": null,
   "metadata": {
    "collapsed": true
   },
   "outputs": [],
   "source": []
  }
 ],
 "metadata": {
  "kernelspec": {
   "display_name": "Python 2",
   "language": "python",
   "name": "python2"
  },
  "language_info": {
   "codemirror_mode": {
    "name": "ipython",
    "version": 2
   },
   "file_extension": ".py",
   "mimetype": "text/x-python",
   "name": "python",
   "nbconvert_exporter": "python",
   "pygments_lexer": "ipython2",
   "version": "2.7.13"
  }
 },
 "nbformat": 4,
 "nbformat_minor": 0
}
